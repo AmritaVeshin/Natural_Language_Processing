{
  "nbformat": 4,
  "nbformat_minor": 0,
  "metadata": {
    "colab": {
      "provenance": []
    },
    "kernelspec": {
      "name": "python3",
      "display_name": "Python 3"
    },
    "language_info": {
      "name": "python"
    }
  },
  "cells": [
    {
      "cell_type": "markdown",
      "source": [
        "__Name:__ Amrita Veshin <br>\n",
        "__Register Number:__ 22122104\n",
        "\n",
        "------------------------------------------------------------------------\n",
        "#  <center> NLP LAB-08: Differentiating Stemming and Lemmatizing of Words\n",
        "------------------------------------------------------------------------\n",
        "\n",
        "<br>__ABOUT THE CORPUS:__ <br>\n",
        "The 10 headlines considered within the corpus have been taken from the technology section of the Indian Express website, and can be accessed from the following link: <br>\n",
        "https://indianexpress.com/section/technology/  "
      ],
      "metadata": {
        "id": "9m-dJeXs73YH"
      }
    },
    {
      "cell_type": "code",
      "source": [
        "text='''\n",
        "1. Generative AI to your smartphone is the next big thing… Qualcomm’s trajectory underlines this\n",
        "2. Qualcomm leans on ‘Generative AI’ with flagship Snapdragon phone and PC chips\n",
        "3. China rushes to swap Western tech with domestic options as U.S. cracks down\n",
        "4. watchOS 10.1 update: Double Tap gesture now available for Apple Watch Series 9, Watch Ultra 2\n",
        "5. Honor’s Magic 6 eye-tracking feature lets you open apps using your eyes\n",
        "6. Bill Gates feels Generative AI has plateaued, says GPT-5 will not be any better\n",
        "7. Humane to unveil GPT-powered AI Pin on November 9\n",
        "8. Not foldable, but bendable: Motorola’s latest concept phone can be worn like a wristwatch\n",
        "9. Amazon gets passkey support, allows login using fingerprint and face: Here’s how to set it up\n",
        "10. Qualcomm announces S7, S7 Pro Gen 1 sound platforms: Brings Wi-Fi to earbuds & headphones\n",
        "'''\n"
      ],
      "metadata": {
        "id": "eewDggAKIp4a"
      },
      "execution_count": null,
      "outputs": []
    },
    {
      "cell_type": "code",
      "source": [
        "import spacy\n",
        "nlp=spacy.load('en_core_web_sm')\n",
        "doc=nlp(text)\n",
        "tokens=[token.text for token in doc if token.is_alpha and not (token.is_stop or token.is_punct or token.is_digit)]\n"
      ],
      "metadata": {
        "id": "G4CQn0djLwo8"
      },
      "execution_count": null,
      "outputs": []
    },
    {
      "cell_type": "code",
      "source": [
        "import nltk\n",
        "#from nltk.corpus import stopwords\n",
        "from nltk.tokenize import word_tokenize\n",
        "from nltk.stem import WordNetLemmatizer\n",
        "from nltk.stem import PorterStemmer"
      ],
      "metadata": {
        "id": "pj3j30nnnDi3"
      },
      "execution_count": null,
      "outputs": []
    },
    {
      "cell_type": "code",
      "source": [
        "nltk.download('punkt')\n",
        "#nltk.download('stopwords')\n",
        "nltk.download('wordnet')"
      ],
      "metadata": {
        "colab": {
          "base_uri": "https://localhost:8080/"
        },
        "id": "dBQC4DsHnISK",
        "outputId": "d83e07b8-4283-49af-89f3-3b154239824c"
      },
      "execution_count": null,
      "outputs": [
        {
          "output_type": "stream",
          "name": "stderr",
          "text": [
            "[nltk_data] Downloading package punkt to /root/nltk_data...\n",
            "[nltk_data]   Unzipping tokenizers/punkt.zip.\n",
            "[nltk_data] Downloading package wordnet to /root/nltk_data...\n"
          ]
        },
        {
          "output_type": "execute_result",
          "data": {
            "text/plain": [
              "True"
            ]
          },
          "metadata": {},
          "execution_count": 4
        }
      ]
    },
    {
      "cell_type": "code",
      "source": [
        "# Initialize the WordNetLemmatizer\n",
        "lemmatizer = WordNetLemmatizer()\n",
        "\n",
        "# Perform stemming on the filtered tokens\n",
        "lemmatized_tokens = [lemmatizer.lemmatize(word) for word in tokens]\n"
      ],
      "metadata": {
        "id": "DJ65cvD2nRjA"
      },
      "execution_count": null,
      "outputs": []
    },
    {
      "cell_type": "code",
      "source": [
        "from nltk.stem import PorterStemmer\n",
        "\n",
        "stemmer = PorterStemmer()\n",
        "\n",
        "# Applying stemming to each token\n",
        "stemmed_tokens = [stemmer.stem(word) for word in tokens]"
      ],
      "metadata": {
        "id": "wrfrWG9lroCu"
      },
      "execution_count": null,
      "outputs": []
    },
    {
      "cell_type": "code",
      "source": [
        "#Segregating Original Sentences\n",
        "sentences=[]\n",
        "for sentence in doc.sents:\n",
        "  sentences.append(sentence)\n"
      ],
      "metadata": {
        "id": "t3DhwzKxr6FJ"
      },
      "execution_count": null,
      "outputs": []
    },
    {
      "cell_type": "code",
      "source": [
        "import pandas as pd\n",
        "\n",
        "#column_names=['Tokens', 'Lemmatized Tokens', 'Stemmed Tokens']\n",
        "data={'Tokens':tokens, 'Lemmatized Tokens':lemmatized_tokens, 'Stemmed Tokens':stemmed_tokens}\n",
        "dataframe= pd.DataFrame(data)\n",
        "print(dataframe)\n"
      ],
      "metadata": {
        "colab": {
          "base_uri": "https://localhost:8080/"
        },
        "id": "Z1wSwjY9sPks",
        "outputId": "db0d2a91-d439-481c-a448-58521a283edf"
      },
      "execution_count": null,
      "outputs": [
        {
          "output_type": "stream",
          "name": "stdout",
          "text": [
            "        Tokens Lemmatized Tokens Stemmed Tokens\n",
            "0   Generative        Generative          gener\n",
            "1           AI                AI             ai\n",
            "2   smartphone        smartphone      smartphon\n",
            "3          big               big            big\n",
            "4        thing             thing          thing\n",
            "..         ...               ...            ...\n",
            "84      Brings            Brings          bring\n",
            "85          Wi                Wi             wi\n",
            "86          Fi                Fi             fi\n",
            "87     earbuds           earbuds         earbud\n",
            "88  headphones         headphone       headphon\n",
            "\n",
            "[89 rows x 3 columns]\n"
          ]
        }
      ]
    },
    {
      "cell_type": "code",
      "source": [
        "from tabulate import tabulate\n",
        "\n",
        "pretty_table = tabulate(dataframe, headers='keys', tablefmt='fancy_grid')\n",
        "\n",
        "# Print the pretty table\n",
        "print(pretty_table)"
      ],
      "metadata": {
        "colab": {
          "base_uri": "https://localhost:8080/"
        },
        "id": "5dqkNKI7wI4O",
        "outputId": "a6402735-d33e-4df5-f195-ae7e9166c538"
      },
      "execution_count": null,
      "outputs": [
        {
          "output_type": "stream",
          "name": "stdout",
          "text": [
            "╒════╤═════════════╤═════════════════════╤══════════════════╕\n",
            "│    │ Tokens      │ Lemmatized Tokens   │ Stemmed Tokens   │\n",
            "╞════╪═════════════╪═════════════════════╪══════════════════╡\n",
            "│  0 │ Generative  │ Generative          │ gener            │\n",
            "├────┼─────────────┼─────────────────────┼──────────────────┤\n",
            "│  1 │ AI          │ AI                  │ ai               │\n",
            "├────┼─────────────┼─────────────────────┼──────────────────┤\n",
            "│  2 │ smartphone  │ smartphone          │ smartphon        │\n",
            "├────┼─────────────┼─────────────────────┼──────────────────┤\n",
            "│  3 │ big         │ big                 │ big              │\n",
            "├────┼─────────────┼─────────────────────┼──────────────────┤\n",
            "│  4 │ thing       │ thing               │ thing            │\n",
            "├────┼─────────────┼─────────────────────┼──────────────────┤\n",
            "│  5 │ Qualcomm    │ Qualcomm            │ qualcomm         │\n",
            "├────┼─────────────┼─────────────────────┼──────────────────┤\n",
            "│  6 │ trajectory  │ trajectory          │ trajectori       │\n",
            "├────┼─────────────┼─────────────────────┼──────────────────┤\n",
            "│  7 │ underlines  │ underline           │ underlin         │\n",
            "├────┼─────────────┼─────────────────────┼──────────────────┤\n",
            "│  8 │ Qualcomm    │ Qualcomm            │ qualcomm         │\n",
            "├────┼─────────────┼─────────────────────┼──────────────────┤\n",
            "│  9 │ leans       │ lean                │ lean             │\n",
            "├────┼─────────────┼─────────────────────┼──────────────────┤\n",
            "│ 10 │ Generative  │ Generative          │ gener            │\n",
            "├────┼─────────────┼─────────────────────┼──────────────────┤\n",
            "│ 11 │ AI          │ AI                  │ ai               │\n",
            "├────┼─────────────┼─────────────────────┼──────────────────┤\n",
            "│ 12 │ flagship    │ flagship            │ flagship         │\n",
            "├────┼─────────────┼─────────────────────┼──────────────────┤\n",
            "│ 13 │ Snapdragon  │ Snapdragon          │ snapdragon       │\n",
            "├────┼─────────────┼─────────────────────┼──────────────────┤\n",
            "│ 14 │ phone       │ phone               │ phone            │\n",
            "├────┼─────────────┼─────────────────────┼──────────────────┤\n",
            "│ 15 │ PC          │ PC                  │ pc               │\n",
            "├────┼─────────────┼─────────────────────┼──────────────────┤\n",
            "│ 16 │ chips       │ chip                │ chip             │\n",
            "├────┼─────────────┼─────────────────────┼──────────────────┤\n",
            "│ 17 │ China       │ China               │ china            │\n",
            "├────┼─────────────┼─────────────────────┼──────────────────┤\n",
            "│ 18 │ rushes      │ rush                │ rush             │\n",
            "├────┼─────────────┼─────────────────────┼──────────────────┤\n",
            "│ 19 │ swap        │ swap                │ swap             │\n",
            "├────┼─────────────┼─────────────────────┼──────────────────┤\n",
            "│ 20 │ Western     │ Western             │ western          │\n",
            "├────┼─────────────┼─────────────────────┼──────────────────┤\n",
            "│ 21 │ tech        │ tech                │ tech             │\n",
            "├────┼─────────────┼─────────────────────┼──────────────────┤\n",
            "│ 22 │ domestic    │ domestic            │ domest           │\n",
            "├────┼─────────────┼─────────────────────┼──────────────────┤\n",
            "│ 23 │ options     │ option              │ option           │\n",
            "├────┼─────────────┼─────────────────────┼──────────────────┤\n",
            "│ 24 │ cracks      │ crack               │ crack            │\n",
            "├────┼─────────────┼─────────────────────┼──────────────────┤\n",
            "│ 25 │ watchOS     │ watchOS             │ watcho           │\n",
            "├────┼─────────────┼─────────────────────┼──────────────────┤\n",
            "│ 26 │ update      │ update              │ updat            │\n",
            "├────┼─────────────┼─────────────────────┼──────────────────┤\n",
            "│ 27 │ Double      │ Double              │ doubl            │\n",
            "├────┼─────────────┼─────────────────────┼──────────────────┤\n",
            "│ 28 │ Tap         │ Tap                 │ tap              │\n",
            "├────┼─────────────┼─────────────────────┼──────────────────┤\n",
            "│ 29 │ gesture     │ gesture             │ gestur           │\n",
            "├────┼─────────────┼─────────────────────┼──────────────────┤\n",
            "│ 30 │ available   │ available           │ avail            │\n",
            "├────┼─────────────┼─────────────────────┼──────────────────┤\n",
            "│ 31 │ Apple       │ Apple               │ appl             │\n",
            "├────┼─────────────┼─────────────────────┼──────────────────┤\n",
            "│ 32 │ Watch       │ Watch               │ watch            │\n",
            "├────┼─────────────┼─────────────────────┼──────────────────┤\n",
            "│ 33 │ Series      │ Series              │ seri             │\n",
            "├────┼─────────────┼─────────────────────┼──────────────────┤\n",
            "│ 34 │ Watch       │ Watch               │ watch            │\n",
            "├────┼─────────────┼─────────────────────┼──────────────────┤\n",
            "│ 35 │ Ultra       │ Ultra               │ ultra            │\n",
            "├────┼─────────────┼─────────────────────┼──────────────────┤\n",
            "│ 36 │ Honor       │ Honor               │ honor            │\n",
            "├────┼─────────────┼─────────────────────┼──────────────────┤\n",
            "│ 37 │ Magic       │ Magic               │ magic            │\n",
            "├────┼─────────────┼─────────────────────┼──────────────────┤\n",
            "│ 38 │ eye         │ eye                 │ eye              │\n",
            "├────┼─────────────┼─────────────────────┼──────────────────┤\n",
            "│ 39 │ tracking    │ tracking            │ track            │\n",
            "├────┼─────────────┼─────────────────────┼──────────────────┤\n",
            "│ 40 │ feature     │ feature             │ featur           │\n",
            "├────┼─────────────┼─────────────────────┼──────────────────┤\n",
            "│ 41 │ lets        │ let                 │ let              │\n",
            "├────┼─────────────┼─────────────────────┼──────────────────┤\n",
            "│ 42 │ open        │ open                │ open             │\n",
            "├────┼─────────────┼─────────────────────┼──────────────────┤\n",
            "│ 43 │ apps        │ apps                │ app              │\n",
            "├────┼─────────────┼─────────────────────┼──────────────────┤\n",
            "│ 44 │ eyes        │ eye                 │ eye              │\n",
            "├────┼─────────────┼─────────────────────┼──────────────────┤\n",
            "│ 45 │ Bill        │ Bill                │ bill             │\n",
            "├────┼─────────────┼─────────────────────┼──────────────────┤\n",
            "│ 46 │ Gates       │ Gates               │ gate             │\n",
            "├────┼─────────────┼─────────────────────┼──────────────────┤\n",
            "│ 47 │ feels       │ feel                │ feel             │\n",
            "├────┼─────────────┼─────────────────────┼──────────────────┤\n",
            "│ 48 │ Generative  │ Generative          │ gener            │\n",
            "├────┼─────────────┼─────────────────────┼──────────────────┤\n",
            "│ 49 │ AI          │ AI                  │ ai               │\n",
            "├────┼─────────────┼─────────────────────┼──────────────────┤\n",
            "│ 50 │ plateaued   │ plateaued           │ plateau          │\n",
            "├────┼─────────────┼─────────────────────┼──────────────────┤\n",
            "│ 51 │ says        │ say                 │ say              │\n",
            "├────┼─────────────┼─────────────────────┼──────────────────┤\n",
            "│ 52 │ better      │ better              │ better           │\n",
            "├────┼─────────────┼─────────────────────┼──────────────────┤\n",
            "│ 53 │ Humane      │ Humane              │ human            │\n",
            "├────┼─────────────┼─────────────────────┼──────────────────┤\n",
            "│ 54 │ unveil      │ unveil              │ unveil           │\n",
            "├────┼─────────────┼─────────────────────┼──────────────────┤\n",
            "│ 55 │ GPT         │ GPT                 │ gpt              │\n",
            "├────┼─────────────┼─────────────────────┼──────────────────┤\n",
            "│ 56 │ powered     │ powered             │ power            │\n",
            "├────┼─────────────┼─────────────────────┼──────────────────┤\n",
            "│ 57 │ AI          │ AI                  │ ai               │\n",
            "├────┼─────────────┼─────────────────────┼──────────────────┤\n",
            "│ 58 │ Pin         │ Pin                 │ pin              │\n",
            "├────┼─────────────┼─────────────────────┼──────────────────┤\n",
            "│ 59 │ November    │ November            │ novemb           │\n",
            "├────┼─────────────┼─────────────────────┼──────────────────┤\n",
            "│ 60 │ foldable    │ foldable            │ foldabl          │\n",
            "├────┼─────────────┼─────────────────────┼──────────────────┤\n",
            "│ 61 │ bendable    │ bendable            │ bendabl          │\n",
            "├────┼─────────────┼─────────────────────┼──────────────────┤\n",
            "│ 62 │ Motorola    │ Motorola            │ motorola         │\n",
            "├────┼─────────────┼─────────────────────┼──────────────────┤\n",
            "│ 63 │ latest      │ latest              │ latest           │\n",
            "├────┼─────────────┼─────────────────────┼──────────────────┤\n",
            "│ 64 │ concept     │ concept             │ concept          │\n",
            "├────┼─────────────┼─────────────────────┼──────────────────┤\n",
            "│ 65 │ phone       │ phone               │ phone            │\n",
            "├────┼─────────────┼─────────────────────┼──────────────────┤\n",
            "│ 66 │ worn        │ worn                │ worn             │\n",
            "├────┼─────────────┼─────────────────────┼──────────────────┤\n",
            "│ 67 │ like        │ like                │ like             │\n",
            "├────┼─────────────┼─────────────────────┼──────────────────┤\n",
            "│ 68 │ wristwatch  │ wristwatch          │ wristwatch       │\n",
            "├────┼─────────────┼─────────────────────┼──────────────────┤\n",
            "│ 69 │ Amazon      │ Amazon              │ amazon           │\n",
            "├────┼─────────────┼─────────────────────┼──────────────────┤\n",
            "│ 70 │ gets        │ get                 │ get              │\n",
            "├────┼─────────────┼─────────────────────┼──────────────────┤\n",
            "│ 71 │ passkey     │ passkey             │ passkey          │\n",
            "├────┼─────────────┼─────────────────────┼──────────────────┤\n",
            "│ 72 │ support     │ support             │ support          │\n",
            "├────┼─────────────┼─────────────────────┼──────────────────┤\n",
            "│ 73 │ allows      │ allows              │ allow            │\n",
            "├────┼─────────────┼─────────────────────┼──────────────────┤\n",
            "│ 74 │ login       │ login               │ login            │\n",
            "├────┼─────────────┼─────────────────────┼──────────────────┤\n",
            "│ 75 │ fingerprint │ fingerprint         │ fingerprint      │\n",
            "├────┼─────────────┼─────────────────────┼──────────────────┤\n",
            "│ 76 │ face        │ face                │ face             │\n",
            "├────┼─────────────┼─────────────────────┼──────────────────┤\n",
            "│ 77 │ set         │ set                 │ set              │\n",
            "├────┼─────────────┼─────────────────────┼──────────────────┤\n",
            "│ 78 │ Qualcomm    │ Qualcomm            │ qualcomm         │\n",
            "├────┼─────────────┼─────────────────────┼──────────────────┤\n",
            "│ 79 │ announces   │ announces           │ announc          │\n",
            "├────┼─────────────┼─────────────────────┼──────────────────┤\n",
            "│ 80 │ Pro         │ Pro                 │ pro              │\n",
            "├────┼─────────────┼─────────────────────┼──────────────────┤\n",
            "│ 81 │ Gen         │ Gen                 │ gen              │\n",
            "├────┼─────────────┼─────────────────────┼──────────────────┤\n",
            "│ 82 │ sound       │ sound               │ sound            │\n",
            "├────┼─────────────┼─────────────────────┼──────────────────┤\n",
            "│ 83 │ platforms   │ platform            │ platform         │\n",
            "├────┼─────────────┼─────────────────────┼──────────────────┤\n",
            "│ 84 │ Brings      │ Brings              │ bring            │\n",
            "├────┼─────────────┼─────────────────────┼──────────────────┤\n",
            "│ 85 │ Wi          │ Wi                  │ wi               │\n",
            "├────┼─────────────┼─────────────────────┼──────────────────┤\n",
            "│ 86 │ Fi          │ Fi                  │ fi               │\n",
            "├────┼─────────────┼─────────────────────┼──────────────────┤\n",
            "│ 87 │ earbuds     │ earbuds             │ earbud           │\n",
            "├────┼─────────────┼─────────────────────┼──────────────────┤\n",
            "│ 88 │ headphones  │ headphone           │ headphon         │\n",
            "╘════╧═════════════╧═════════════════════╧══════════════════╛\n"
          ]
        }
      ]
    },
    {
      "cell_type": "markdown",
      "source": [
        "## INFERENCES\n",
        "1. __Lemmatization:__ <br> According to the Stanford NLP Group, Lemmatization usually refers to doing things properly with the use of a vocabulary and morphological analysis of words, normally aiming to remove inflectional endings only and to return the base or dictionary form of a word, which is known as the lemma. <br>\n",
        "__After observing the lemmatized version of the tokens extracted from the above corpus, in most of the cases, the lemmatized version is the singular form of a plural word (Eg. headphones becomes headphone, eyes becomes eye, etc.)__\n",
        "\n",
        "2. __Stemming:__ <br> Again, according to the Stanford NLP Group, Stemming usually refers to a crude heuristic process that chops off the ends of words and often includes the removal of derivational affixes. It is the process of reducing inflected words to their word stem, base or root form.<br> __On observing the above corpus, we see that the stemmed version of a word usually removes the suffixes at the end of the word which, in quite a significant no. of cases, would leave a meaningless word behind. (Eg. announces becomes announc, bendable becomes bendabl, and similarly with foldabl, etc.)__\n",
        "\n",
        "3. The goal of both stemming and lemmatization is to reduce inflectional forms and sometimes derivationally related forms of a word to a common base form. However, the two words differ in their flavor. __Stemmers use language-specific rules, but they require less knowledge than a lemmatizer, which needs a complete vocabulary and morphological analysis to correctly lemmatize words.__"
      ],
      "metadata": {
        "id": "ZuF_PIvSzHiO"
      }
    }
  ]
}