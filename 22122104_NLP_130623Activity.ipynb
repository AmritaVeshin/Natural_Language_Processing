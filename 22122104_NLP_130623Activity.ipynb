{
  "nbformat": 4,
  "nbformat_minor": 0,
  "metadata": {
    "colab": {
      "provenance": []
    },
    "kernelspec": {
      "name": "python3",
      "display_name": "Python 3"
    },
    "language_info": {
      "name": "python"
    }
  },
  "cells": [
    {
      "cell_type": "markdown",
      "source": [
        "__Name:__ Amrita Veshin <br>\n",
        "__Register Number:__ 22122104\n",
        "\n",
        "# File I/O in Python\n",
        "\n",
        "## Basic Concepts"
      ],
      "metadata": {
        "id": "i1LwiAa4Me1H"
      }
    },
    {
      "cell_type": "code",
      "execution_count": null,
      "metadata": {
        "id": "AY6alim92d5s"
      },
      "outputs": [],
      "source": [
        "'''\n",
        "f=open('example.txt','r', encoding='utf-8')\n",
        "lines=f.readlines()\n",
        "for line in lines\n",
        "  print(line)\n",
        "f.close()\n",
        "'''\n",
        "#OR\n",
        "\n",
        "'''\n",
        "with open('example.txt','r', encoding='utf-8') as f:\n",
        "  lines=f.readlines()\n",
        "for line in lines\n",
        "  print(line)\n",
        "'''\n",
        "\n",
        "#OR\n",
        "'''\n",
        "with open('example.txt','r', encoding='utf-8') as f:\n",
        "  lines=f.readlines()\n",
        "lines=lines.split('\\n')\n",
        "print(lines)\n",
        "\n",
        "for line in lines:\n",
        "  print(line)\n",
        "'''\n"
      ]
    },
    {
      "cell_type": "code",
      "source": [
        "'''\n",
        "# r is for read, w is for write, a is for append:\n",
        "f=open('example2.txt','w', encoding='utf-8')\n",
        "f.write('This is the text that the file example2 that we created\n",
        "will get overwritten with. ')\n",
        "\n",
        "f=open('example2.txt','a', encoding='utf-8')\n",
        "f.write('\\nThis is the text that will get appended in the file example2. ')\n",
        "'''\n"
      ],
      "metadata": {
        "id": "0AtvfiMu8CYD"
      },
      "execution_count": null,
      "outputs": []
    },
    {
      "cell_type": "code",
      "source": [
        "'''\n",
        "with open('words.txt','r', encoding='utf-8') as f:\n",
        "  data=f.readlines()\n",
        "  words=data.split('\\n')\n",
        "\n",
        "import random\n",
        "\n",
        "word=random.choice(words)\n",
        "print(word)\n",
        "'''"
      ],
      "metadata": {
        "id": "HFA5E9Kr9pXU"
      },
      "execution_count": null,
      "outputs": []
    },
    {
      "cell_type": "markdown",
      "source": [
        "### Example : Telephone Directory System"
      ],
      "metadata": {
        "id": "Ifu2lW1AXZth"
      }
    },
    {
      "cell_type": "code",
      "source": [
        "def print_numbers(fname):\n",
        "  print('Telephone Numbers: ')\n",
        "  with open(fname, 'r', encoding='utf-8') as f:\n",
        "    data=f.read().split('\\n')\n",
        "    for namenum in data:\n",
        "      if ',' in namenum:\n",
        "        namef, numf=namenum.split(',')\n",
        "        print('Name: ', namef, '\\t Number: ', numf)\n",
        "    print()\n",
        "\n",
        "def add_number(fname, name, number):\n",
        "  with open(fname, 'a', encoding='utf-8') as f:\n",
        "    f.write(name+','+number+'\\n')\n",
        "\n",
        "def lookup_number(fname, name):\n",
        "  with open(fname, 'r', encoding='utf-8') as f:\n",
        "    data=f.read().split('\\n')\n",
        "    # putting data in a dictionary for easy look-up\n",
        "    numbers={}\n",
        "    for namenum in data:\n",
        "      if ',' in namenum:\n",
        "        namef, numf=namenum.split(',')\n",
        "        numbers[namef]=numf\n",
        "      if name in numbers:\n",
        "        return \"The number is \"+numbers[name]\n",
        "      else:\n",
        "        return name+\" was not found\"\n",
        "\n",
        "def print_menu():\n",
        "  print(\"*******************************************************************\")\n",
        "  print(\"\\t\\tWELCOME TO THE TELEPHONE DIRECTORY SYSTEM\")\n",
        "  print(\"*******************************************************************\")\n",
        "  print('1. Print Phone Numbers')\n",
        "  print('2. Add a Phone Number')\n",
        "  print('3. Lookup a Phone Number')\n",
        "  print('4. Quit')\n",
        "  print()\n",
        "\n",
        "filename='numbers.txt'\n",
        "while True:\n",
        "  print_menu()\n",
        "  menu_choice=int (input(\"Type in a number (1-4): \"))\n",
        "  if menu_choice==1:\n",
        "    print_numbers(filename)\n",
        "  elif menu_choice==2:\n",
        "    print(\"Add Name and Number\")\n",
        "    name=input(\"Name: \")\n",
        "    phone=input(\"Number: \")\n",
        "    add_number(filename, name, phone)\n",
        "  elif menu_choice==3:\n",
        "    print(\"Lookup Number\")\n",
        "    name=input(\"Name: \")\n",
        "    print(lookup_number(filename, name))\n",
        "  elif menu_choice==4:\n",
        "    break\n",
        "  else:\n",
        "    print(\"Invalid Choice!\\n\")\n",
        "\n",
        "print(\"Thank You For Using The Program!\")\n"
      ],
      "metadata": {
        "colab": {
          "base_uri": "https://localhost:8080/"
        },
        "id": "gAtZT148McH1",
        "outputId": "1307444b-61c7-4ee0-9107-c99c0b140a44"
      },
      "execution_count": null,
      "outputs": [
        {
          "output_type": "stream",
          "name": "stdout",
          "text": [
            "*******************************************************************\n",
            "\t\tWELCOME TO THE TELEPHONE DIRECTORY SYSTEM\n",
            "*******************************************************************\n",
            "1. Print Phone Numbers\n",
            "2. Add a Phone Number\n",
            "3. Lookup a Phone Number\n",
            "4. Quit\n",
            "\n",
            "Type in a number (1-4): 1\n",
            "Telephone Numbers: \n",
            "Name:  Amrita Veshin \t Number:   9876543210\n",
            "Name:  Anita Shah \t Number:   9867452310\n",
            "Name:  Anand Bhattacharya \t Number:   9978365215\n",
            "Name:  Chirag Kapoor \t Number:   9975603451\n",
            "Name:  Dhananjay Mishra \t Number:   9970803455\n",
            "Name:  Sanjay Chauhan \t Number:   9967235510\n",
            "Name:  Sunita Gupta \t Number:   9945873423\n",
            "Name:  Sanjana Sanghvi \t Number:   9012432679\n",
            "Name:  Sadat Khanna \t Number:   9877664532\n",
            "Name:  Arjun Kaushal \t Number:   9678240365\n",
            "Name:  Aman Chopra \t Number:  9978556622\n",
            "\n",
            "*******************************************************************\n",
            "\t\tWELCOME TO THE TELEPHONE DIRECTORY SYSTEM\n",
            "*******************************************************************\n",
            "1. Print Phone Numbers\n",
            "2. Add a Phone Number\n",
            "3. Lookup a Phone Number\n",
            "4. Quit\n",
            "\n",
            "Type in a number (1-4): 2\n",
            "Add Name and Number\n",
            "Name: Aditya Sharma\n",
            "Number: 9765413240\n",
            "*******************************************************************\n",
            "\t\tWELCOME TO THE TELEPHONE DIRECTORY SYSTEM\n",
            "*******************************************************************\n",
            "1. Print Phone Numbers\n",
            "2. Add a Phone Number\n",
            "3. Lookup a Phone Number\n",
            "4. Quit\n",
            "\n",
            "Type in a number (1-4): 1\n",
            "Telephone Numbers: \n",
            "Name:  Amrita Veshin \t Number:   9876543210\n",
            "Name:  Anita Shah \t Number:   9867452310\n",
            "Name:  Anand Bhattacharya \t Number:   9978365215\n",
            "Name:  Chirag Kapoor \t Number:   9975603451\n",
            "Name:  Dhananjay Mishra \t Number:   9970803455\n",
            "Name:  Sanjay Chauhan \t Number:   9967235510\n",
            "Name:  Sunita Gupta \t Number:   9945873423\n",
            "Name:  Sanjana Sanghvi \t Number:   9012432679\n",
            "Name:  Sadat Khanna \t Number:   9877664532\n",
            "Name:  Arjun Kaushal \t Number:   9678240365\n",
            "Name:  Aman Chopra \t Number:  9978556622\n",
            "Name:  Aditya Sharma \t Number:  9765413240\n",
            "\n",
            "*******************************************************************\n",
            "\t\tWELCOME TO THE TELEPHONE DIRECTORY SYSTEM\n",
            "*******************************************************************\n",
            "1. Print Phone Numbers\n",
            "2. Add a Phone Number\n",
            "3. Lookup a Phone Number\n",
            "4. Quit\n",
            "\n",
            "Type in a number (1-4): 3\n",
            "Lookup Number\n",
            "Name: Sanjana Sanghvi\n",
            "Sanjana Sanghvi was not found\n",
            "*******************************************************************\n",
            "\t\tWELCOME TO THE TELEPHONE DIRECTORY SYSTEM\n",
            "*******************************************************************\n",
            "1. Print Phone Numbers\n",
            "2. Add a Phone Number\n",
            "3. Lookup a Phone Number\n",
            "4. Quit\n",
            "\n",
            "Type in a number (1-4): 3\n",
            "Lookup Number\n",
            "Name: Amrita Veshin\n",
            "The number is  9876543210\n",
            "*******************************************************************\n",
            "\t\tWELCOME TO THE TELEPHONE DIRECTORY SYSTEM\n",
            "*******************************************************************\n",
            "1. Print Phone Numbers\n",
            "2. Add a Phone Number\n",
            "3. Lookup a Phone Number\n",
            "4. Quit\n",
            "\n",
            "Type in a number (1-4): 4\n",
            "Thank You For Using The Program!\n"
          ]
        }
      ]
    },
    {
      "cell_type": "code",
      "source": [],
      "metadata": {
        "id": "anpQQ9gYUiVr"
      },
      "execution_count": null,
      "outputs": []
    }
  ]
}