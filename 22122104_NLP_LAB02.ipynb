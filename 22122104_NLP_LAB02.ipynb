{
  "nbformat": 4,
  "nbformat_minor": 0,
  "metadata": {
    "colab": {
      "provenance": []
    },
    "kernelspec": {
      "name": "python3",
      "display_name": "Python 3"
    },
    "language_info": {
      "name": "python"
    }
  },
  "cells": [
    {
      "cell_type": "markdown",
      "source": [
        "__Name:__ Amrita Veshin <br>\n",
        "__Register Number:__ 22122104\n",
        "\n",
        "------------------------------------------------------------------------\n",
        "#  <center> NLP LAB-02: PDF Word Frequency Count\n",
        "------------------------------------------------------------------------\n"
      ],
      "metadata": {
        "id": "dhWLPfq0ys8M"
      }
    },
    {
      "cell_type": "code",
      "execution_count": 2,
      "metadata": {
        "colab": {
          "base_uri": "https://localhost:8080/"
        },
        "id": "IsnCvFKRuRSq",
        "outputId": "801ad07c-3e4e-4797-c5a4-64dd5cc0e684"
      },
      "outputs": [
        {
          "output_type": "stream",
          "name": "stdout",
          "text": [
            "Collecting PyPDF2\n",
            "  Downloading pypdf2-3.0.1-py3-none-any.whl (232 kB)\n",
            "\u001b[2K     \u001b[90m━━━━━━━━━━━━━━━━━━━━━━━━━━━━━━━━━━━━━━━\u001b[0m \u001b[32m232.6/232.6 kB\u001b[0m \u001b[31m2.3 MB/s\u001b[0m eta \u001b[36m0:00:00\u001b[0m\n",
            "\u001b[?25hInstalling collected packages: PyPDF2\n",
            "Successfully installed PyPDF2-3.0.1\n"
          ]
        }
      ],
      "source": [
        "pip install PyPDF2"
      ]
    },
    {
      "cell_type": "markdown",
      "source": [
        "## Using PyPDF2 For Importing The PDF"
      ],
      "metadata": {
        "id": "G56aQvMOzQ6n"
      }
    },
    {
      "cell_type": "code",
      "source": [
        "from PyPDF2 import PdfReader\n",
        "import PyPDF2"
      ],
      "metadata": {
        "id": "2Eh7GFRIugEY"
      },
      "execution_count": 3,
      "outputs": []
    },
    {
      "cell_type": "code",
      "source": [
        "#creating a pdf reader object\n",
        "reader=PdfReader('Base Paper.pdf')"
      ],
      "metadata": {
        "id": "HiA7nHvhupsi"
      },
      "execution_count": 4,
      "outputs": []
    },
    {
      "cell_type": "code",
      "source": [
        "print(len(reader.pages))"
      ],
      "metadata": {
        "colab": {
          "base_uri": "https://localhost:8080/"
        },
        "id": "k8jPtHyOu-KN",
        "outputId": "33dbf51b-7fe7-4ee6-e0d1-33b7fa560729"
      },
      "execution_count": 5,
      "outputs": [
        {
          "output_type": "stream",
          "name": "stdout",
          "text": [
            "12\n"
          ]
        }
      ]
    },
    {
      "cell_type": "code",
      "source": [
        "import spacy\n",
        "nlp = spacy.load('en_core_web_sm')"
      ],
      "metadata": {
        "id": "igdtQ7bewSSs"
      },
      "execution_count": 17,
      "outputs": []
    },
    {
      "cell_type": "code",
      "source": [
        "    # Initializing a variable to store the extracted text\n",
        "    extracted_text = \"\"\n",
        "\n",
        "    # Iterating through all pages of the PDF\n",
        "    for page_num in range(len(reader.pages)):\n",
        "        # Extracting text from the current page\n",
        "        page = reader.pages[page_num]\n",
        "        page_text = page.extract_text()\n",
        "\n",
        "        # Appending the page text to the extracted_text variable\n",
        "        extracted_text += page_text\n",
        "\n",
        "    # Processing the extracted text with SpaCy\n",
        "    doc = nlp(extracted_text)"
      ],
      "metadata": {
        "id": "hjeI00nDu_uJ"
      },
      "execution_count": 21,
      "outputs": []
    },
    {
      "cell_type": "markdown",
      "source": [
        "## Tokenization"
      ],
      "metadata": {
        "id": "D0ayOJQLzYpM"
      }
    },
    {
      "cell_type": "code",
      "source": [
        "# Removing symbols, numbers, and stop words, and get the tokens\n",
        "filtered_tokens = [token.text for token in doc if not (token.is_stop or token.is_punct or token.is_digit)]\n"
      ],
      "metadata": {
        "id": "f3cg41eIvCgB"
      },
      "execution_count": 23,
      "outputs": []
    },
    {
      "cell_type": "markdown",
      "source": [
        "## Word Frequency Count"
      ],
      "metadata": {
        "id": "A2OmDQepzc-j"
      }
    },
    {
      "cell_type": "code",
      "source": [
        "import matplotlib.pyplot as plt\n",
        "from collections import Counter\n"
      ],
      "metadata": {
        "id": "jhpD3fPhxh1O"
      },
      "execution_count": 24,
      "outputs": []
    },
    {
      "cell_type": "code",
      "source": [
        "# Counting word frequencies\n",
        "word_freq = Counter(filtered_tokens)\n",
        "\n",
        "# Getting the top 10 words by frequency\n",
        "top_words = word_freq.most_common(10)\n",
        "\n",
        "# Extracting word names and frequencies\n",
        "words, frequencies = zip(*top_words)"
      ],
      "metadata": {
        "id": "NW-sNbL6vGTo"
      },
      "execution_count": 25,
      "outputs": []
    },
    {
      "cell_type": "markdown",
      "source": [
        "## Plotting the Word Frequencies"
      ],
      "metadata": {
        "id": "1rarMp2YzxnE"
      }
    },
    {
      "cell_type": "code",
      "source": [
        "\n",
        "# Creating a bar plot for word frequencies\n",
        "plt.figure(figsize=(12, 6))\n",
        "plt.barh(words, frequencies, color='skyblue')\n",
        "plt.xlabel('Frequency')\n",
        "plt.ylabel('Words')\n",
        "plt.title('Top 10 Frequently Occurring Words')\n",
        "plt.gca().invert_yaxis()\n",
        "plt.show()\n"
      ],
      "metadata": {
        "colab": {
          "base_uri": "https://localhost:8080/",
          "height": 461
        },
        "id": "LjkMBkfOxiMG",
        "outputId": "f1a8fe46-b6c9-4e83-f223-a70191aa339b"
      },
      "execution_count": 27,
      "outputs": [
        {
          "output_type": "display_data",
          "data": {
            "text/plain": [
              "<Figure size 1200x600 with 1 Axes>"
            ],
            "image/png": "[encoded data removed]"
          },
          "metadata": {}
        }
      ]
    },
    {
      "cell_type": "markdown",
      "source": [
        "## Printing the Frequency Table"
      ],
      "metadata": {
        "id": "Ir4C-mwUz1tI"
      }
    },
    {
      "cell_type": "code",
      "source": [
        "# Import the tabulate library for printing the output in a tabular format\n",
        "from tabulate import tabulate\n",
        "\n",
        "# Creating a table\n",
        "table = [[\"Word\", \"Frequency\"]]\n",
        "table.extend(zip(words, frequencies))\n",
        "\n",
        "# Printing the table using tabulate\n",
        "print(tabulate(table, headers=\"firstrow\", tablefmt=\"grid\"))"
      ],
      "metadata": {
        "colab": {
          "base_uri": "https://localhost:8080/"
        },
        "id": "lcjhUKdyyYC-",
        "outputId": "6283082b-be2c-4527-823c-99b667112d54"
      },
      "execution_count": 28,
      "outputs": [
        {
          "output_type": "stream",
          "name": "stdout",
          "text": [
            "+--------------+-------------+\n",
            "| Word         |   Frequency |\n",
            "+==============+=============+\n",
            "|              |         644 |\n",
            "+--------------+-------------+\n",
            "| species      |         137 |\n",
            "+--------------+-------------+\n",
            "| data         |          84 |\n",
            "+--------------+-------------+\n",
            "| distribution |          80 |\n",
            "+--------------+-------------+\n",
            "| CrossRef     |          59 |\n",
            "+--------------+-------------+\n",
            "| ML           |          56 |\n",
            "+--------------+-------------+\n",
            "|              |          54 |\n",
            "+--------------+-------------+\n",
            "| ant          |          45 |\n",
            "+--------------+-------------+\n",
            "| countries    |          45 |\n",
            "+--------------+-------------+\n",
            "| richness     |          42 |\n",
            "+--------------+-------------+\n"
          ]
        }
      ]
    },
    {
      "cell_type": "markdown",
      "source": [
        "__INFERENCE:__<br>\n",
        "We observe from the above graph as well as the frequency table that the word with the highest frequency is __species__ with a count of 137 occurrences in the entire pdf, followed by the words __data__ and __distribution__ with 84 and 80 occurrences respectively.   "
      ],
      "metadata": {
        "id": "c6njVM94z40n"
      }
    }
  ]
}