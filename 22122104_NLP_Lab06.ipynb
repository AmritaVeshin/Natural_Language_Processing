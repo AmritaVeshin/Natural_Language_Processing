{
  "nbformat": 4,
  "nbformat_minor": 0,
  "metadata": {
    "colab": {
      "provenance": []
    },
    "kernelspec": {
      "name": "python3",
      "display_name": "Python 3"
    },
    "language_info": {
      "name": "python"
    },
    "widgets": {
      "application/vnd.jupyter.widget-state+json": {
        "1b6170d2e6a54b4599e49297e1705bf1": {
          "model_module": "@jupyter-widgets/controls",
          "model_name": "HBoxModel",
          "model_module_version": "1.5.0",
          "state": {
            "_dom_classes": [],
            "_model_module": "@jupyter-widgets/controls",
            "_model_module_version": "1.5.0",
            "_model_name": "HBoxModel",
            "_view_count": null,
            "_view_module": "@jupyter-widgets/controls",
            "_view_module_version": "1.5.0",
            "_view_name": "HBoxView",
            "box_style": "",
            "children": [
              "IPY_MODEL_6d6ab5e4a4e04028a4cd45f5a1592e23",
              "IPY_MODEL_fc6475584603441081807204177b71ec",
              "IPY_MODEL_0187a06e6d424fe3a49358abe3d812cf"
            ],
            "layout": "IPY_MODEL_f3a69c8459134b59a9524b29024719ea"
          }
        },
        "6d6ab5e4a4e04028a4cd45f5a1592e23": {
          "model_module": "@jupyter-widgets/controls",
          "model_name": "HTMLModel",
          "model_module_version": "1.5.0",
          "state": {
            "_dom_classes": [],
            "_model_module": "@jupyter-widgets/controls",
            "_model_module_version": "1.5.0",
            "_model_name": "HTMLModel",
            "_view_count": null,
            "_view_module": "@jupyter-widgets/controls",
            "_view_module_version": "1.5.0",
            "_view_name": "HTMLView",
            "description": "",
            "description_tooltip": null,
            "layout": "IPY_MODEL_7b0e9b3c924c46bca0a0cdae9c502731",
            "placeholder": "​",
            "style": "IPY_MODEL_51498e7bb8004526bef1ffc7b8012a64",
            "value": "Downloading https://raw.githubusercontent.com/stanfordnlp/stanza-resources/main/resources_1.6.0.json: "
          }
        },
        "fc6475584603441081807204177b71ec": {
          "model_module": "@jupyter-widgets/controls",
          "model_name": "FloatProgressModel",
          "model_module_version": "1.5.0",
          "state": {
            "_dom_classes": [],
            "_model_module": "@jupyter-widgets/controls",
            "_model_module_version": "1.5.0",
            "_model_name": "FloatProgressModel",
            "_view_count": null,
            "_view_module": "@jupyter-widgets/controls",
            "_view_module_version": "1.5.0",
            "_view_name": "ProgressView",
            "bar_style": "success",
            "description": "",
            "description_tooltip": null,
            "layout": "IPY_MODEL_2ff5bf2414ab43269c082fcb5370f0f8",
            "max": 45749,
            "min": 0,
            "orientation": "horizontal",
            "style": "IPY_MODEL_e15f20a3f59d445d8950d3da456e87c5",
            "value": 45749
          }
        },
        "0187a06e6d424fe3a49358abe3d812cf": {
          "model_module": "@jupyter-widgets/controls",
          "model_name": "HTMLModel",
          "model_module_version": "1.5.0",
          "state": {
            "_dom_classes": [],
            "_model_module": "@jupyter-widgets/controls",
            "_model_module_version": "1.5.0",
            "_model_name": "HTMLModel",
            "_view_count": null,
            "_view_module": "@jupyter-widgets/controls",
            "_view_module_version": "1.5.0",
            "_view_name": "HTMLView",
            "description": "",
            "description_tooltip": null,
            "layout": "IPY_MODEL_2c350ef780534077a8cbd65e162f7481",
            "placeholder": "​",
            "style": "IPY_MODEL_cae9cf3d1b304d118274d691af7e1189",
            "value": " 367k/? [00:00&lt;00:00, 11.3MB/s]"
          }
        },
        "f3a69c8459134b59a9524b29024719ea": {
          "model_module": "@jupyter-widgets/base",
          "model_name": "LayoutModel",
          "model_module_version": "1.2.0",
          "state": {
            "_model_module": "@jupyter-widgets/base",
            "_model_module_version": "1.2.0",
            "_model_name": "LayoutModel",
            "_view_count": null,
            "_view_module": "@jupyter-widgets/base",
            "_view_module_version": "1.2.0",
            "_view_name": "LayoutView",
            "align_content": null,
            "align_items": null,
            "align_self": null,
            "border": null,
            "bottom": null,
            "display": null,
            "flex": null,
            "flex_flow": null,
            "grid_area": null,
            "grid_auto_columns": null,
            "grid_auto_flow": null,
            "grid_auto_rows": null,
            "grid_column": null,
            "grid_gap": null,
            "grid_row": null,
            "grid_template_areas": null,
            "grid_template_columns": null,
            "grid_template_rows": null,
            "height": null,
            "justify_content": null,
            "justify_items": null,
            "left": null,
            "margin": null,
            "max_height": null,
            "max_width": null,
            "min_height": null,
            "min_width": null,
            "object_fit": null,
            "object_position": null,
            "order": null,
            "overflow": null,
            "overflow_x": null,
            "overflow_y": null,
            "padding": null,
            "right": null,
            "top": null,
            "visibility": null,
            "width": null
          }
        },
        "7b0e9b3c924c46bca0a0cdae9c502731": {
          "model_module": "@jupyter-widgets/base",
          "model_name": "LayoutModel",
          "model_module_version": "1.2.0",
          "state": {
            "_model_module": "@jupyter-widgets/base",
            "_model_module_version": "1.2.0",
            "_model_name": "LayoutModel",
            "_view_count": null,
            "_view_module": "@jupyter-widgets/base",
            "_view_module_version": "1.2.0",
            "_view_name": "LayoutView",
            "align_content": null,
            "align_items": null,
            "align_self": null,
            "border": null,
            "bottom": null,
            "display": null,
            "flex": null,
            "flex_flow": null,
            "grid_area": null,
            "grid_auto_columns": null,
            "grid_auto_flow": null,
            "grid_auto_rows": null,
            "grid_column": null,
            "grid_gap": null,
            "grid_row": null,
            "grid_template_areas": null,
            "grid_template_columns": null,
            "grid_template_rows": null,
            "height": null,
            "justify_content": null,
            "justify_items": null,
            "left": null,
            "margin": null,
            "max_height": null,
            "max_width": null,
            "min_height": null,
            "min_width": null,
            "object_fit": null,
            "object_position": null,
            "order": null,
            "overflow": null,
            "overflow_x": null,
            "overflow_y": null,
            "padding": null,
            "right": null,
            "top": null,
            "visibility": null,
            "width": null
          }
        },
        "51498e7bb8004526bef1ffc7b8012a64": {
          "model_module": "@jupyter-widgets/controls",
          "model_name": "DescriptionStyleModel",
          "model_module_version": "1.5.0",
          "state": {
            "_model_module": "@jupyter-widgets/controls",
            "_model_module_version": "1.5.0",
            "_model_name": "DescriptionStyleModel",
            "_view_count": null,
            "_view_module": "@jupyter-widgets/base",
            "_view_module_version": "1.2.0",
            "_view_name": "StyleView",
            "description_width": ""
          }
        },
        "2ff5bf2414ab43269c082fcb5370f0f8": {
          "model_module": "@jupyter-widgets/base",
          "model_name": "LayoutModel",
          "model_module_version": "1.2.0",
          "state": {
            "_model_module": "@jupyter-widgets/base",
            "_model_module_version": "1.2.0",
            "_model_name": "LayoutModel",
            "_view_count": null,
            "_view_module": "@jupyter-widgets/base",
            "_view_module_version": "1.2.0",
            "_view_name": "LayoutView",
            "align_content": null,
            "align_items": null,
            "align_self": null,
            "border": null,
            "bottom": null,
            "display": null,
            "flex": null,
            "flex_flow": null,
            "grid_area": null,
            "grid_auto_columns": null,
            "grid_auto_flow": null,
            "grid_auto_rows": null,
            "grid_column": null,
            "grid_gap": null,
            "grid_row": null,
            "grid_template_areas": null,
            "grid_template_columns": null,
            "grid_template_rows": null,
            "height": null,
            "justify_content": null,
            "justify_items": null,
            "left": null,
            "margin": null,
            "max_height": null,
            "max_width": null,
            "min_height": null,
            "min_width": null,
            "object_fit": null,
            "object_position": null,
            "order": null,
            "overflow": null,
            "overflow_x": null,
            "overflow_y": null,
            "padding": null,
            "right": null,
            "top": null,
            "visibility": null,
            "width": null
          }
        },
        "e15f20a3f59d445d8950d3da456e87c5": {
          "model_module": "@jupyter-widgets/controls",
          "model_name": "ProgressStyleModel",
          "model_module_version": "1.5.0",
          "state": {
            "_model_module": "@jupyter-widgets/controls",
            "_model_module_version": "1.5.0",
            "_model_name": "ProgressStyleModel",
            "_view_count": null,
            "_view_module": "@jupyter-widgets/base",
            "_view_module_version": "1.2.0",
            "_view_name": "StyleView",
            "bar_color": null,
            "description_width": ""
          }
        },
        "2c350ef780534077a8cbd65e162f7481": {
          "model_module": "@jupyter-widgets/base",
          "model_name": "LayoutModel",
          "model_module_version": "1.2.0",
          "state": {
            "_model_module": "@jupyter-widgets/base",
            "_model_module_version": "1.2.0",
            "_model_name": "LayoutModel",
            "_view_count": null,
            "_view_module": "@jupyter-widgets/base",
            "_view_module_version": "1.2.0",
            "_view_name": "LayoutView",
            "align_content": null,
            "align_items": null,
            "align_self": null,
            "border": null,
            "bottom": null,
            "display": null,
            "flex": null,
            "flex_flow": null,
            "grid_area": null,
            "grid_auto_columns": null,
            "grid_auto_flow": null,
            "grid_auto_rows": null,
            "grid_column": null,
            "grid_gap": null,
            "grid_row": null,
            "grid_template_areas": null,
            "grid_template_columns": null,
            "grid_template_rows": null,
            "height": null,
            "justify_content": null,
            "justify_items": null,
            "left": null,
            "margin": null,
            "max_height": null,
            "max_width": null,
            "min_height": null,
            "min_width": null,
            "object_fit": null,
            "object_position": null,
            "order": null,
            "overflow": null,
            "overflow_x": null,
            "overflow_y": null,
            "padding": null,
            "right": null,
            "top": null,
            "visibility": null,
            "width": null
          }
        },
        "cae9cf3d1b304d118274d691af7e1189": {
          "model_module": "@jupyter-widgets/controls",
          "model_name": "DescriptionStyleModel",
          "model_module_version": "1.5.0",
          "state": {
            "_model_module": "@jupyter-widgets/controls",
            "_model_module_version": "1.5.0",
            "_model_name": "DescriptionStyleModel",
            "_view_count": null,
            "_view_module": "@jupyter-widgets/base",
            "_view_module_version": "1.2.0",
            "_view_name": "StyleView",
            "description_width": ""
          }
        }
      }
    }
  },
  "cells": [
    {
      "cell_type": "markdown",
      "source": [
        "__Name:__ Amrita Veshin <br>\n",
        "__Register Number:__ 22122104\n",
        "\n",
        "-------------------------------------------------------------------------------------------------\n",
        "# <center> NLP Lab06: Tokenizing and Stemming for Non-English Languages\n",
        "-------------------------------------------------------------------------------------------------"
      ],
      "metadata": {
        "id": "YA9rIJYRf7SL"
      }
    },
    {
      "cell_type": "code",
      "source": [
        "!pip install indic-nlp-library\n"
      ],
      "metadata": {
        "colab": {
          "base_uri": "https://localhost:8080/"
        },
        "id": "Ny7ftnzCoa7k",
        "outputId": "15e090e1-0bcd-47a6-c9e8-adba167f77b6"
      },
      "execution_count": null,
      "outputs": [
        {
          "output_type": "stream",
          "name": "stdout",
          "text": [
            "Requirement already satisfied: indic-nlp-library in /usr/local/lib/python3.10/dist-packages (0.92)\n",
            "Requirement already satisfied: sphinx-argparse in /usr/local/lib/python3.10/dist-packages (from indic-nlp-library) (0.4.0)\n",
            "Requirement already satisfied: sphinx-rtd-theme in /usr/local/lib/python3.10/dist-packages (from indic-nlp-library) (1.3.0)\n",
            "Requirement already satisfied: morfessor in /usr/local/lib/python3.10/dist-packages (from indic-nlp-library) (2.0.6)\n",
            "Requirement already satisfied: pandas in /usr/local/lib/python3.10/dist-packages (from indic-nlp-library) (1.5.3)\n",
            "Requirement already satisfied: numpy in /usr/local/lib/python3.10/dist-packages (from indic-nlp-library) (1.23.5)\n",
            "Requirement already satisfied: python-dateutil>=2.8.1 in /usr/local/lib/python3.10/dist-packages (from pandas->indic-nlp-library) (2.8.2)\n",
            "Requirement already satisfied: pytz>=2020.1 in /usr/local/lib/python3.10/dist-packages (from pandas->indic-nlp-library) (2023.3.post1)\n",
            "Requirement already satisfied: sphinx>=1.2.0 in /usr/local/lib/python3.10/dist-packages (from sphinx-argparse->indic-nlp-library) (5.0.2)\n",
            "Requirement already satisfied: docutils<0.19 in /usr/local/lib/python3.10/dist-packages (from sphinx-rtd-theme->indic-nlp-library) (0.18.1)\n",
            "Requirement already satisfied: sphinxcontrib-jquery<5,>=4 in /usr/local/lib/python3.10/dist-packages (from sphinx-rtd-theme->indic-nlp-library) (4.1)\n",
            "Requirement already satisfied: six>=1.5 in /usr/local/lib/python3.10/dist-packages (from python-dateutil>=2.8.1->pandas->indic-nlp-library) (1.16.0)\n",
            "Requirement already satisfied: sphinxcontrib-applehelp in /usr/local/lib/python3.10/dist-packages (from sphinx>=1.2.0->sphinx-argparse->indic-nlp-library) (1.0.7)\n",
            "Requirement already satisfied: sphinxcontrib-devhelp in /usr/local/lib/python3.10/dist-packages (from sphinx>=1.2.0->sphinx-argparse->indic-nlp-library) (1.0.5)\n",
            "Requirement already satisfied: sphinxcontrib-jsmath in /usr/local/lib/python3.10/dist-packages (from sphinx>=1.2.0->sphinx-argparse->indic-nlp-library) (1.0.1)\n",
            "Requirement already satisfied: sphinxcontrib-htmlhelp>=2.0.0 in /usr/local/lib/python3.10/dist-packages (from sphinx>=1.2.0->sphinx-argparse->indic-nlp-library) (2.0.4)\n",
            "Requirement already satisfied: sphinxcontrib-serializinghtml>=1.1.5 in /usr/local/lib/python3.10/dist-packages (from sphinx>=1.2.0->sphinx-argparse->indic-nlp-library) (1.1.9)\n",
            "Requirement already satisfied: sphinxcontrib-qthelp in /usr/local/lib/python3.10/dist-packages (from sphinx>=1.2.0->sphinx-argparse->indic-nlp-library) (1.0.6)\n",
            "Requirement already satisfied: Jinja2>=2.3 in /usr/local/lib/python3.10/dist-packages (from sphinx>=1.2.0->sphinx-argparse->indic-nlp-library) (3.1.2)\n",
            "Requirement already satisfied: Pygments>=2.0 in /usr/local/lib/python3.10/dist-packages (from sphinx>=1.2.0->sphinx-argparse->indic-nlp-library) (2.16.1)\n",
            "Requirement already satisfied: snowballstemmer>=1.1 in /usr/local/lib/python3.10/dist-packages (from sphinx>=1.2.0->sphinx-argparse->indic-nlp-library) (2.2.0)\n",
            "Requirement already satisfied: babel>=1.3 in /usr/local/lib/python3.10/dist-packages (from sphinx>=1.2.0->sphinx-argparse->indic-nlp-library) (2.13.0)\n",
            "Requirement already satisfied: alabaster<0.8,>=0.7 in /usr/local/lib/python3.10/dist-packages (from sphinx>=1.2.0->sphinx-argparse->indic-nlp-library) (0.7.13)\n",
            "Requirement already satisfied: imagesize in /usr/local/lib/python3.10/dist-packages (from sphinx>=1.2.0->sphinx-argparse->indic-nlp-library) (1.4.1)\n",
            "Requirement already satisfied: requests>=2.5.0 in /usr/local/lib/python3.10/dist-packages (from sphinx>=1.2.0->sphinx-argparse->indic-nlp-library) (2.31.0)\n",
            "Requirement already satisfied: packaging in /usr/local/lib/python3.10/dist-packages (from sphinx>=1.2.0->sphinx-argparse->indic-nlp-library) (23.2)\n",
            "Requirement already satisfied: MarkupSafe>=2.0 in /usr/local/lib/python3.10/dist-packages (from Jinja2>=2.3->sphinx>=1.2.0->sphinx-argparse->indic-nlp-library) (2.1.3)\n",
            "Requirement already satisfied: charset-normalizer<4,>=2 in /usr/local/lib/python3.10/dist-packages (from requests>=2.5.0->sphinx>=1.2.0->sphinx-argparse->indic-nlp-library) (3.3.0)\n",
            "Requirement already satisfied: idna<4,>=2.5 in /usr/local/lib/python3.10/dist-packages (from requests>=2.5.0->sphinx>=1.2.0->sphinx-argparse->indic-nlp-library) (3.4)\n",
            "Requirement already satisfied: urllib3<3,>=1.21.1 in /usr/local/lib/python3.10/dist-packages (from requests>=2.5.0->sphinx>=1.2.0->sphinx-argparse->indic-nlp-library) (2.0.6)\n",
            "Requirement already satisfied: certifi>=2017.4.17 in /usr/local/lib/python3.10/dist-packages (from requests>=2.5.0->sphinx>=1.2.0->sphinx-argparse->indic-nlp-library) (2023.7.22)\n"
          ]
        }
      ]
    },
    {
      "cell_type": "code",
      "source": [
        "import pandas as pd\n",
        "import nltk\n",
        "from nltk.tokenize import word_tokenize\n",
        "from nltk.probability import FreqDist\n",
        "from indicnlp.tokenize import indic_tokenize\n",
        "from tabulate import tabulate\n",
        "from prettytable import PrettyTable"
      ],
      "metadata": {
        "id": "XWgmREpHofUt"
      },
      "execution_count": null,
      "outputs": []
    },
    {
      "cell_type": "markdown",
      "source": [
        "## Adding Hindi Corpus"
      ],
      "metadata": {
        "id": "EK8d-vnN3kBg"
      }
    },
    {
      "cell_type": "code",
      "source": [
        " # Example: Loading Hindi text data from a file\n",
        "hindi_text = \"\"\"\n",
        "    राजस्थान के जयपुर के रहने वाले अनिल थडानी ने ‘कृषि’ विषय में अपनी मास्टर्स डिग्री पूरी की है, जिसके बाद उन्होंने विवेकानंद ग्लोबल यूनिवर्सिटी में बतौर असिस्टेंट प्रोफेसर, एक साल तक काम किया और फिर नौकरी छोड़कर अपनी नर्सरी, ‘पौधशालम‘ की शुरुआत की और हाइड्रोपोनिक फार्मिंग सिखाने के साथ-साथ, किसानों को जैविक खेती (Organic Farming) पर परामर्श देने का काम भी कर रहे हैं।\n",
        "\n",
        "पढ़ाई के बाद, साल 2018 में वह अपने शहर जयपुर आ गए और यहाँ यूनिवर्सिटी में पढ़ाने लगे। इसके साथ ही, वह खेती का भी काम देखने लगे। अनिल आस-पास के गांवों में किसानों से मिलते और उन्हें जैविक खेती के तरीके सिखाते थे। वह बताते हैं, “लगभग एक साल की नौकरी में ही मुझे समझ में आ गया कि मैं ज़मीनी स्तर पर काम करना चाहता हूँ।”\n",
        "\n",
        "साल 2020 में अनिल ने अपनी नौकरी छोड़ दी और अपने घर की छत से अपनी नर्सरी का काम शुरू किया और इस काम में उन्होंने लगभग 14,000 रुपये का निवेश किया। उन्होंने अपनी पढ़ाई के दौरान, जैविक तरीकों से अलग-अलग तरह की खाद, पोषक घोल, पॉटिंग मिक्स बनाना सीखा था। आज अपनी नर्सरी और किसानों के लिए वह वैज्ञानिक तरीकों से जैविक खाद और उर्वरक तैयार करते हैं।\n",
        "\n",
        "\n",
        "नर्सरी के साथ, वह लोगों के घरों में अलग-अलग तरह के गार्डन, जैसे- हाइड्रोपोनिक, वर्टिकल, टेरेस गार्डन लगाने की सर्विस भी दे रहे हैं।\n",
        "\n",
        "अनिल अब तक कई घरों में हाइड्रोपोनिक सेटअप, वर्टिकल और टेरेस गार्डन लगा चुके हैं। वह इनकी देख-रेख के लिए समय-समय पर जाते भी रहते हैं।\n",
        "\n",
        "हाइड्रोपोनिक फार्मिंग और गार्डनिंग में करते हैं लोगों की मदद\n",
        "\n",
        "अनिल का मानना है कि टेरेस गार्डन में हाइड्रोपोनिक सेटअप करके आप अपने परिवार के लिए बिना मिट्टी की झंझट के ऑर्गेनिक सब्जियां उगा सकते हैं। साथ ही साथ अगर आप चाहें, तो इससे एक छोटा सा बिज़नेस भी शुरू कर सकते हैं।\n",
        "\n",
        "एक गृहिणी हो या रिटायर इंसान, छोटे से थर्माकोल के बॉक्स में प्रयोग करके इसकी शुरुआत की जा सकती है। इस तरह आप अपने परिवार के साथ-साथ, जैविक सब्जियां अपने दोस्तों और पड़ोसियों को भी खिला सकते हैं।\n",
        "\n",
        "संपादनः अर्चना दुबे|\n",
        "\"\"\"\n"
      ],
      "metadata": {
        "id": "zpMo-9mzgBBM"
      },
      "execution_count": null,
      "outputs": []
    },
    {
      "cell_type": "markdown",
      "source": [
        "## Frequency Distribution of Hindi Words (Most Common)"
      ],
      "metadata": {
        "id": "FRmD0vD03o8x"
      }
    },
    {
      "cell_type": "code",
      "source": [
        "\n",
        "# Tokenize the Hindi text\n",
        "hindi_tokens = indic_tokenize.trivial_tokenize(hindi_text)\n",
        "\n",
        "# Calculate word frequencies\n",
        "word_freq = FreqDist(hindi_tokens)\n",
        "\n",
        "# Display the most common words and their frequencies in a table\n",
        "most_common_words = word_freq.most_common(10)  # Change the number as needed\n",
        "\n",
        "# Create a PrettyTable\n",
        "table = PrettyTable()\n",
        "table.field_names = [\"Word\", \"Frequency\"]\n",
        "\n",
        "# Add data to the table\n",
        "for word, freq in most_common_words:\n",
        "    table.add_row([word, freq])\n",
        "\n",
        "# Print the table\n",
        "print(table)"
      ],
      "metadata": {
        "colab": {
          "base_uri": "https://localhost:8080/"
        },
        "id": "yFr5LAypqKJ8",
        "outputId": "fa1a0fde-a13b-4829-9dd6-f3f8c2b106ed"
      },
      "execution_count": null,
      "outputs": [
        {
          "output_type": "stream",
          "name": "stdout",
          "text": [
            "+------+-----------+\n",
            "| Word | Frequency |\n",
            "+------+-----------+\n",
            "|  ,   |     18    |\n",
            "|  के   |     16    |\n",
            "|  ।   |     15    |\n",
            "|  में   |     14    |\n",
            "|  और  |     11    |\n",
            "|  की  |     10    |\n",
            "|  हैं   |     10    |\n",
            "| साथ  |     8     |\n",
            "|  -   |     8     |\n",
            "| अपनी |     6     |\n",
            "+------+-----------+\n"
          ]
        }
      ]
    },
    {
      "cell_type": "markdown",
      "source": [
        "## Tokenizing Hindi Words"
      ],
      "metadata": {
        "id": "1rdWGbpp3wp3"
      }
    },
    {
      "cell_type": "code",
      "source": [
        "# Create a PrettyTable for tokens with additional details\n",
        "token_table = PrettyTable()\n",
        "token_table.field_names = [\"Token\", \"Position\", \"Length\"]\n",
        "\n",
        "# Add tokens and details to the table\n",
        "for position, token in enumerate(hindi_tokens, start=1):\n",
        "    token_table.add_row([token, position, len(token)])\n",
        "\n",
        "# Print the token table\n",
        "print(token_table)"
      ],
      "metadata": {
        "colab": {
          "base_uri": "https://localhost:8080/"
        },
        "id": "Z2Gw2xLDqvnT",
        "outputId": "da9b5c42-e2cf-46a6-f34f-52401a5284e3"
      },
      "execution_count": null,
      "outputs": [
        {
          "output_type": "stream",
          "name": "stdout",
          "text": [
            "+-------------+----------+--------+\n",
            "|    Token    | Position | Length |\n",
            "+-------------+----------+--------+\n",
            "|             |    1     |   1    |\n",
            "|             |          |        |\n",
            "|   राजस्थान   |    2     |   8    |\n",
            "|      के      |    3     |   2    |\n",
            "|     जयपुर    |    4     |   5    |\n",
            "|      के      |    5     |   2    |\n",
            "|     रहने     |    6     |   4    |\n",
            "|     वाले     |    7     |   4    |\n",
            "|     अनिल    |    8     |   4    |\n",
            "|    थडानी    |    9     |   5    |\n",
            "|      ने      |    10    |   2    |\n",
            "|    ‘कृषि’    |    11    |   6    |\n",
            "|     विषय    |    12    |   4    |\n",
            "|      में      |    13    |   3    |\n",
            "|     अपनी    |    14    |   4    |\n",
            "|    मास्टर्स   |    15    |   8    |\n",
            "|    डिग्री    |    16    |   6    |\n",
            "|     पूरी     |    17    |   4    |\n",
            "|      की     |    18    |   2    |\n",
            "|      है      |    19    |   2    |\n",
            "|      ,      |    20    |   1    |\n",
            "|     जिसके    |    21    |   5    |\n",
            "|     बाद     |    22    |   3    |\n",
            "|    उन्होंने    |    23    |   8    |\n",
            "|   विवेकानंद   |    24    |   9    |\n",
            "|    ग्लोबल    |    25    |   6    |\n",
            "|  यूनिवर्सिटी  |    26    |   11   |\n",
            "|      में      |    27    |   3    |\n",
            "|     बतौर    |    28    |   4    |\n",
            "|    असिस्टेंट   |    29    |   9    |\n",
            "|    प्रोफेसर   |    30    |   8    |\n",
            "|      ,      |    31    |   1    |\n",
            "|      एक     |    32    |   2    |\n",
            "|     साल     |    33    |   3    |\n",
            "|      तक     |    34    |   2    |\n",
            "|     काम     |    35    |   3    |\n",
            "|     किया    |    36    |   4    |\n",
            "|      और     |    37    |   2    |\n",
            "|     फिर     |    38    |   3    |\n",
            "|    नौकरी    |    39    |   5    |\n",
            "|    छोड़कर    |    40    |   6    |\n",
            "|     अपनी    |    41    |   4    |\n",
            "|    नर्सरी    |    42    |   6    |\n",
            "|      ,      |    43    |   1    |\n",
            "|  ‘पौधशालम‘  |    44    |   9    |\n",
            "|      की     |    45    |   2    |\n",
            "|     शुरुआत    |    46    |   6    |\n",
            "|      की     |    47    |   2    |\n",
            "|      और     |    48    |   2    |\n",
            "| हाइड्रोपोनिक |    49    |   12   |\n",
            "|    फार्मिंग   |    50    |   8    |\n",
            "|    सिखाने    |    51    |   6    |\n",
            "|      के      |    52    |   2    |\n",
            "|     साथ     |    53    |   3    |\n",
            "|      -      |    54    |   1    |\n",
            "|     साथ     |    55    |   3    |\n",
            "|      ,      |    56    |   1    |\n",
            "|    किसानों   |    57    |   7    |\n",
            "|      को     |    58    |   2    |\n",
            "|     जैविक    |    59    |   5    |\n",
            "|     खेती     |    60    |   4    |\n",
            "|      (      |    61    |   1    |\n",
            "|   Organic   |    62    |   7    |\n",
            "|   Farming   |    63    |   7    |\n",
            "|      )      |    64    |   1    |\n",
            "|      पर     |    65    |   2    |\n",
            "|    परामर्श   |    66    |   7    |\n",
            "|      देने     |    67    |   4    |\n",
            "|      का     |    68    |   2    |\n",
            "|     काम     |    69    |   3    |\n",
            "|      भी     |    70    |   2    |\n",
            "|      कर     |    71    |   2    |\n",
            "|      रहे     |    72    |   3    |\n",
            "|      हैं      |    73    |   3    |\n",
            "|      ।      |    74    |   1    |\n",
            "|             |    75    |   7    |\n",
            "|             |          |        |\n",
            "|     पढ़ाई    |          |        |\n",
            "|      के      |    76    |   2    |\n",
            "|     बाद     |    77    |   3    |\n",
            "|      ,      |    78    |   1    |\n",
            "|     साल     |    79    |   3    |\n",
            "|     2018    |    80    |   4    |\n",
            "|      में      |    81    |   3    |\n",
            "|      वह     |    82    |   2    |\n",
            "|     अपने     |    83    |   4    |\n",
            "|     शहर     |    84    |   3    |\n",
            "|     जयपुर    |    85    |   5    |\n",
            "|      आ      |    86    |   1    |\n",
            "|      गए     |    87    |   2    |\n",
            "|      और     |    88    |   2    |\n",
            "|     यहाँ     |    89    |   4    |\n",
            "|  यूनिवर्सिटी  |    90    |   11   |\n",
            "|      में      |    91    |   3    |\n",
            "|     पढ़ाने    |    92    |   6    |\n",
            "|      लगे     |    93    |   3    |\n",
            "|      ।      |    94    |   1    |\n",
            "|     इसके     |    95    |   4    |\n",
            "|     साथ     |    96    |   3    |\n",
            "|      ही     |    97    |   2    |\n",
            "|      ,      |    98    |   1    |\n",
            "|      वह     |    99    |   2    |\n",
            "|     खेती     |   100    |   4    |\n",
            "|      का     |   101    |   2    |\n",
            "|      भी     |   102    |   2    |\n",
            "|     काम     |   103    |   3    |\n",
            "|     देखने     |   104    |   5    |\n",
            "|      लगे     |   105    |   3    |\n",
            "|      ।      |   106    |   1    |\n",
            "|     अनिल    |   107    |   4    |\n",
            "|      आस     |   108    |   2    |\n",
            "|      -      |   109    |   1    |\n",
            "|     पास     |   110    |   3    |\n",
            "|      के      |   111    |   2    |\n",
            "|     गांवों    |   112    |   6    |\n",
            "|      में      |   113    |   3    |\n",
            "|    किसानों   |   114    |   7    |\n",
            "|      से      |   115    |   2    |\n",
            "|     मिलते    |   116    |   5    |\n",
            "|      और     |   117    |   2    |\n",
            "|     उन्हें     |   118    |   6    |\n",
            "|     जैविक    |   119    |   5    |\n",
            "|     खेती     |   120    |   4    |\n",
            "|      के      |   121    |   2    |\n",
            "|     तरीके    |   122    |   5    |\n",
            "|    सिखाते    |   123    |   6    |\n",
            "|      थे      |   124    |   2    |\n",
            "|      ।      |   125    |   1    |\n",
            "|      वह     |   126    |   2    |\n",
            "|     बताते    |   127    |   5    |\n",
            "|      हैं      |   128    |   3    |\n",
            "|      ,      |   129    |   1    |\n",
            "|    “लगभग    |   130    |   5    |\n",
            "|      एक     |   131    |   2    |\n",
            "|     साल     |   132    |   3    |\n",
            "|      की     |   133    |   2    |\n",
            "|    नौकरी    |   134    |   5    |\n",
            "|      में      |   135    |   3    |\n",
            "|      ही     |   136    |   2    |\n",
            "|      मुझे     |   137    |   4    |\n",
            "|     समझ     |   138    |   3    |\n",
            "|      में      |   139    |   3    |\n",
            "|      आ      |   140    |   1    |\n",
            "|     गया     |   141    |   3    |\n",
            "|      कि     |   142    |   2    |\n",
            "|      मैं      |   143    |   3    |\n",
            "|    ज़मीनी    |   144    |   6    |\n",
            "|     स्तर     |   145    |   4    |\n",
            "|      पर     |   146    |   2    |\n",
            "|     काम     |   147    |   3    |\n",
            "|     करना    |   148    |   4    |\n",
            "|    चाहता    |   149    |   5    |\n",
            "|      हूँ      |   150    |   3    |\n",
            "|      ।      |   151    |   1    |\n",
            "|      ”      |   152    |   6    |\n",
            "|             |          |        |\n",
            "|     साल     |          |        |\n",
            "|     2020    |   153    |   4    |\n",
            "|      में      |   154    |   3    |\n",
            "|     अनिल    |   155    |   4    |\n",
            "|      ने      |   156    |   2    |\n",
            "|     अपनी    |   157    |   4    |\n",
            "|    नौकरी    |   158    |   5    |\n",
            "|     छोड़     |   159    |   4    |\n",
            "|      दी     |   160    |   2    |\n",
            "|      और     |   161    |   2    |\n",
            "|     अपने     |   162    |   4    |\n",
            "|      घर     |   163    |   2    |\n",
            "|      की     |   164    |   2    |\n",
            "|      छत     |   165    |   2    |\n",
            "|      से      |   166    |   2    |\n",
            "|     अपनी    |   167    |   4    |\n",
            "|    नर्सरी    |   168    |   6    |\n",
            "|      का     |   169    |   2    |\n",
            "|     काम     |   170    |   3    |\n",
            "|      शुरू     |   171    |   4    |\n",
            "|     किया    |   172    |   4    |\n",
            "|      और     |   173    |   2    |\n",
            "|      इस     |   174    |   2    |\n",
            "|     काम     |   175    |   3    |\n",
            "|      में      |   176    |   3    |\n",
            "|    उन्होंने    |   177    |   8    |\n",
            "|     लगभग    |   178    |   4    |\n",
            "|    14,000   |   179    |   6    |\n",
            "|     रुपये     |   180    |   5    |\n",
            "|      का     |   181    |   2    |\n",
            "|     निवेश    |   182    |   5    |\n",
            "|     किया    |   183    |   4    |\n",
            "|      ।      |   184    |   1    |\n",
            "|    उन्होंने    |   185    |   8    |\n",
            "|     अपनी    |   186    |   4    |\n",
            "|     पढ़ाई    |   187    |   5    |\n",
            "|      के      |   188    |   2    |\n",
            "|    दौरान    |   189    |   5    |\n",
            "|      ,      |   190    |   1    |\n",
            "|     जैविक    |   191    |   5    |\n",
            "|    तरीकों    |   192    |   6    |\n",
            "|      से      |   193    |   2    |\n",
            "|     अलग     |   194    |   3    |\n",
            "|      -      |   195    |   1    |\n",
            "|     अलग     |   196    |   3    |\n",
            "|     तरह     |   197    |   3    |\n",
            "|      की     |   198    |   2    |\n",
            "|     खाद     |   199    |   3    |\n",
            "|      ,      |   200    |   1    |\n",
            "|     पोषक    |   201    |   4    |\n",
            "|     घोल     |   202    |   3    |\n",
            "|      ,      |   203    |   1    |\n",
            "|    पॉटिंग    |   204    |   6    |\n",
            "|     मिक्स    |   205    |   5    |\n",
            "|    बनाना    |   206    |   5    |\n",
            "|     सीखा    |   207    |   4    |\n",
            "|      था     |   208    |   2    |\n",
            "|      ।      |   209    |   1    |\n",
            "|      आज     |   210    |   2    |\n",
            "|     अपनी    |   211    |   4    |\n",
            "|    नर्सरी    |   212    |   6    |\n",
            "|      और     |   213    |   2    |\n",
            "|    किसानों   |   214    |   7    |\n",
            "|      के      |   215    |   2    |\n",
            "|     लिए     |   216    |   3    |\n",
            "|      वह     |   217    |   2    |\n",
            "|   वैज्ञानिक   |   218    |   9    |\n",
            "|    तरीकों    |   219    |   6    |\n",
            "|      से      |   220    |   2    |\n",
            "|     जैविक    |   221    |   5    |\n",
            "|     खाद     |   222    |   3    |\n",
            "|      और     |   223    |   2    |\n",
            "|    उर्वरक    |   224    |   6    |\n",
            "|     तैयार    |   225    |   5    |\n",
            "|     करते     |   226    |   4    |\n",
            "|      हैं      |   227    |   3    |\n",
            "|      ।      |   228    |   1    |\n",
            "|             |   229    |   9    |\n",
            "|             |          |        |\n",
            "|             |          |        |\n",
            "|    नर्सरी    |          |        |\n",
            "|      के      |   230    |   2    |\n",
            "|     साथ     |   231    |   3    |\n",
            "|      ,      |   232    |   1    |\n",
            "|      वह     |   233    |   2    |\n",
            "|     लोगों    |   234    |   5    |\n",
            "|      के      |   235    |   2    |\n",
            "|     घरों     |   236    |   4    |\n",
            "|      में      |   237    |   3    |\n",
            "|     अलग     |   238    |   3    |\n",
            "|      -      |   239    |   1    |\n",
            "|     अलग     |   240    |   3    |\n",
            "|     तरह     |   241    |   3    |\n",
            "|      के      |   242    |   2    |\n",
            "|    गार्डन    |   243    |   6    |\n",
            "|      ,      |   244    |   1    |\n",
            "|      जैसे     |   245    |   4    |\n",
            "|      -      |   246    |   1    |\n",
            "| हाइड्रोपोनिक |   247    |   12   |\n",
            "|      ,      |   248    |   1    |\n",
            "|    वर्टिकल   |   249    |   7    |\n",
            "|      ,      |   250    |   1    |\n",
            "|     टेरेस     |   251    |   5    |\n",
            "|    गार्डन    |   252    |   6    |\n",
            "|     लगाने    |   253    |   5    |\n",
            "|      की     |   254    |   2    |\n",
            "|    सर्विस    |   255    |   6    |\n",
            "|      भी     |   256    |   2    |\n",
            "|      दे      |   257    |   2    |\n",
            "|      रहे     |   258    |   3    |\n",
            "|      हैं      |   259    |   3    |\n",
            "|      ।      |   260    |   1    |\n",
            "|             |   261    |   6    |\n",
            "|             |          |        |\n",
            "|     अनिल    |          |        |\n",
            "|      अब     |   262    |   2    |\n",
            "|      तक     |   263    |   2    |\n",
            "|      कई     |   264    |   2    |\n",
            "|     घरों     |   265    |   4    |\n",
            "|      में      |   266    |   3    |\n",
            "| हाइड्रोपोनिक |   267    |   12   |\n",
            "|     सेटअप    |   268    |   5    |\n",
            "|      ,      |   269    |   1    |\n",
            "|    वर्टिकल   |   270    |   7    |\n",
            "|      और     |   271    |   2    |\n",
            "|     टेरेस     |   272    |   5    |\n",
            "|    गार्डन    |   273    |   6    |\n",
            "|     लगा     |   274    |   3    |\n",
            "|      चुके     |   275    |   4    |\n",
            "|      हैं      |   276    |   3    |\n",
            "|      ।      |   277    |   1    |\n",
            "|      वह     |   278    |   2    |\n",
            "|     इनकी    |   279    |   4    |\n",
            "|      देख     |   280    |   3    |\n",
            "|      -      |   281    |   1    |\n",
            "|      रेख     |   282    |   3    |\n",
            "|      के      |   283    |   2    |\n",
            "|     लिए     |   284    |   3    |\n",
            "|     समय     |   285    |   3    |\n",
            "|      -      |   286    |   1    |\n",
            "|     समय     |   287    |   3    |\n",
            "|      पर     |   288    |   2    |\n",
            "|     जाते     |   289    |   4    |\n",
            "|      भी     |   290    |   2    |\n",
            "|     रहते     |   291    |   4    |\n",
            "|      हैं      |   292    |   3    |\n",
            "|      ।      |   293    |   1    |\n",
            "|             |   294    |   14   |\n",
            "|             |          |        |\n",
            "| हाइड्रोपोनिक |          |        |\n",
            "|    फार्मिंग   |   295    |   8    |\n",
            "|      और     |   296    |   2    |\n",
            "|   गार्डनिंग   |   297    |   9    |\n",
            "|      में      |   298    |   3    |\n",
            "|     करते     |   299    |   4    |\n",
            "|      हैं      |   300    |   3    |\n",
            "|     लोगों    |   301    |   5    |\n",
            "|      की     |   302    |   2    |\n",
            "|     मदद     |   303    |   9    |\n",
            "|             |          |        |\n",
            "|     अनिल    |          |        |\n",
            "|      का     |   304    |   2    |\n",
            "|    मानना    |   305    |   5    |\n",
            "|      है      |   306    |   2    |\n",
            "|      कि     |   307    |   2    |\n",
            "|     टेरेस     |   308    |   5    |\n",
            "|    गार्डन    |   309    |   6    |\n",
            "|      में      |   310    |   3    |\n",
            "| हाइड्रोपोनिक |   311    |   12   |\n",
            "|     सेटअप    |   312    |   5    |\n",
            "|     करके     |   313    |   4    |\n",
            "|      आप     |   314    |   2    |\n",
            "|     अपने     |   315    |   4    |\n",
            "|    परिवार   |   316    |   6    |\n",
            "|      के      |   317    |   2    |\n",
            "|     लिए     |   318    |   3    |\n",
            "|     बिना    |   319    |   4    |\n",
            "|    मिट्टी    |   320    |   6    |\n",
            "|      की     |   321    |   2    |\n",
            "|     झंझट     |   322    |   4    |\n",
            "|      के      |   323    |   2    |\n",
            "|    ऑर्गेनिक   |   324    |   8    |\n",
            "|    सब्जियां   |   325    |   8    |\n",
            "|     उगा     |   326    |   3    |\n",
            "|     सकते     |   327    |   4    |\n",
            "|      हैं      |   328    |   3    |\n",
            "|      ।      |   329    |   1    |\n",
            "|     साथ     |   330    |   3    |\n",
            "|      ही     |   331    |   2    |\n",
            "|     साथ     |   332    |   3    |\n",
            "|     अगर     |   333    |   3    |\n",
            "|      आप     |   334    |   2    |\n",
            "|     चाहें     |   335    |   5    |\n",
            "|      ,      |   336    |   1    |\n",
            "|      तो     |   337    |   2    |\n",
            "|     इससे     |   338    |   4    |\n",
            "|      एक     |   339    |   2    |\n",
            "|     छोटा    |   340    |   4    |\n",
            "|      सा     |   341    |   2    |\n",
            "|    बिज़नेस    |   342    |   7    |\n",
            "|      भी     |   343    |   2    |\n",
            "|      शुरू     |   344    |   4    |\n",
            "|      कर     |   345    |   2    |\n",
            "|     सकते     |   346    |   4    |\n",
            "|      हैं      |   347    |   3    |\n",
            "|      ।      |   348    |   1    |\n",
            "|             |   349    |   4    |\n",
            "|             |          |        |\n",
            "|      एक     |          |        |\n",
            "|    गृहिणी    |   350    |   6    |\n",
            "|      हो     |   351    |   2    |\n",
            "|      या     |   352    |   2    |\n",
            "|    रिटायर   |   353    |   6    |\n",
            "|     इंसान    |   354    |   5    |\n",
            "|      ,      |   355    |   1    |\n",
            "|     छोटे     |   356    |   4    |\n",
            "|      से      |   357    |   2    |\n",
            "|   थर्माकोल   |   358    |   8    |\n",
            "|      के      |   359    |   2    |\n",
            "|     बॉक्स    |   360    |   5    |\n",
            "|      में      |   361    |   3    |\n",
            "|    प्रयोग    |   362    |   6    |\n",
            "|     करके     |   363    |   4    |\n",
            "|     इसकी    |   364    |   4    |\n",
            "|     शुरुआत    |   365    |   6    |\n",
            "|      की     |   366    |   2    |\n",
            "|      जा     |   367    |   2    |\n",
            "|     सकती    |   368    |   4    |\n",
            "|      है      |   369    |   2    |\n",
            "|      ।      |   370    |   1    |\n",
            "|      इस     |   371    |   2    |\n",
            "|     तरह     |   372    |   3    |\n",
            "|      आप     |   373    |   2    |\n",
            "|     अपने     |   374    |   4    |\n",
            "|    परिवार   |   375    |   6    |\n",
            "|      के      |   376    |   2    |\n",
            "|     साथ     |   377    |   3    |\n",
            "|      -      |   378    |   1    |\n",
            "|     साथ     |   379    |   3    |\n",
            "|      ,      |   380    |   1    |\n",
            "|     जैविक    |   381    |   5    |\n",
            "|    सब्जियां   |   382    |   8    |\n",
            "|     अपने     |   383    |   4    |\n",
            "|    दोस्तों    |   384    |   7    |\n",
            "|      और     |   385    |   2    |\n",
            "|   पड़ोसियों   |   386    |   9    |\n",
            "|      को     |   387    |   2    |\n",
            "|      भी     |   388    |   2    |\n",
            "|     खिला    |   389    |   4    |\n",
            "|     सकते     |   390    |   4    |\n",
            "|      हैं      |   391    |   3    |\n",
            "|      ।      |   392    |   1    |\n",
            "|             |   393    |   9    |\n",
            "|             |          |        |\n",
            "|    संपादनः   |          |        |\n",
            "|    अर्चना    |   394    |   6    |\n",
            "|      दुबे     |   395    |   4    |\n",
            "|      |      |   396    |   1    |\n",
            "|             |   397    |   1    |\n",
            "|             |          |        |\n",
            "+-------------+----------+--------+\n"
          ]
        }
      ]
    },
    {
      "cell_type": "markdown",
      "source": [
        "## Stemming Hindi Words Using Stanza Library"
      ],
      "metadata": {
        "id": "hTENOC2936VT"
      }
    },
    {
      "cell_type": "code",
      "source": [
        "!pip install stanza\n",
        "import stanza\n",
        "\n",
        "# Initialize the Hindi language model\n",
        "nlp = stanza.Pipeline(\"hi\")\n"
      ],
      "metadata": {
        "colab": {
          "base_uri": "https://localhost:8080/",
          "height": 728,
          "referenced_widgets": [
            "1b6170d2e6a54b4599e49297e1705bf1",
            "6d6ab5e4a4e04028a4cd45f5a1592e23",
            "fc6475584603441081807204177b71ec",
            "0187a06e6d424fe3a49358abe3d812cf",
            "f3a69c8459134b59a9524b29024719ea",
            "7b0e9b3c924c46bca0a0cdae9c502731",
            "51498e7bb8004526bef1ffc7b8012a64",
            "2ff5bf2414ab43269c082fcb5370f0f8",
            "e15f20a3f59d445d8950d3da456e87c5",
            "2c350ef780534077a8cbd65e162f7481",
            "cae9cf3d1b304d118274d691af7e1189"
          ]
        },
        "id": "TiXW2PqDv-Vw",
        "outputId": "10c4da7b-fda9-43b7-e951-3aee9232c66c"
      },
      "execution_count": null,
      "outputs": [
        {
          "output_type": "stream",
          "name": "stdout",
          "text": [
            "Requirement already satisfied: stanza in /usr/local/lib/python3.10/dist-packages (1.6.1)\n",
            "Requirement already satisfied: emoji in /usr/local/lib/python3.10/dist-packages (from stanza) (2.8.0)\n",
            "Requirement already satisfied: numpy in /usr/local/lib/python3.10/dist-packages (from stanza) (1.23.5)\n",
            "Requirement already satisfied: protobuf>=3.15.0 in /usr/local/lib/python3.10/dist-packages (from stanza) (3.20.3)\n",
            "Requirement already satisfied: requests in /usr/local/lib/python3.10/dist-packages (from stanza) (2.31.0)\n",
            "Requirement already satisfied: torch>=1.3.0 in /usr/local/lib/python3.10/dist-packages (from stanza) (2.0.1+cu118)\n",
            "Requirement already satisfied: tqdm in /usr/local/lib/python3.10/dist-packages (from stanza) (4.66.1)\n",
            "Requirement already satisfied: filelock in /usr/local/lib/python3.10/dist-packages (from torch>=1.3.0->stanza) (3.12.4)\n",
            "Requirement already satisfied: typing-extensions in /usr/local/lib/python3.10/dist-packages (from torch>=1.3.0->stanza) (4.5.0)\n",
            "Requirement already satisfied: sympy in /usr/local/lib/python3.10/dist-packages (from torch>=1.3.0->stanza) (1.12)\n",
            "Requirement already satisfied: networkx in /usr/local/lib/python3.10/dist-packages (from torch>=1.3.0->stanza) (3.1)\n",
            "Requirement already satisfied: jinja2 in /usr/local/lib/python3.10/dist-packages (from torch>=1.3.0->stanza) (3.1.2)\n",
            "Requirement already satisfied: triton==2.0.0 in /usr/local/lib/python3.10/dist-packages (from torch>=1.3.0->stanza) (2.0.0)\n",
            "Requirement already satisfied: cmake in /usr/local/lib/python3.10/dist-packages (from triton==2.0.0->torch>=1.3.0->stanza) (3.27.6)\n",
            "Requirement already satisfied: lit in /usr/local/lib/python3.10/dist-packages (from triton==2.0.0->torch>=1.3.0->stanza) (17.0.2)\n",
            "Requirement already satisfied: charset-normalizer<4,>=2 in /usr/local/lib/python3.10/dist-packages (from requests->stanza) (3.3.0)\n",
            "Requirement already satisfied: idna<4,>=2.5 in /usr/local/lib/python3.10/dist-packages (from requests->stanza) (3.4)\n",
            "Requirement already satisfied: urllib3<3,>=1.21.1 in /usr/local/lib/python3.10/dist-packages (from requests->stanza) (2.0.6)\n",
            "Requirement already satisfied: certifi>=2017.4.17 in /usr/local/lib/python3.10/dist-packages (from requests->stanza) (2023.7.22)\n",
            "Requirement already satisfied: MarkupSafe>=2.0 in /usr/local/lib/python3.10/dist-packages (from jinja2->torch>=1.3.0->stanza) (2.1.3)\n",
            "Requirement already satisfied: mpmath>=0.19 in /usr/local/lib/python3.10/dist-packages (from sympy->torch>=1.3.0->stanza) (1.3.0)\n"
          ]
        },
        {
          "output_type": "stream",
          "name": "stderr",
          "text": [
            "INFO:stanza:Checking for updates to resources.json in case models have been updated.  Note: this behavior can be turned off with download_method=None or download_method=DownloadMethod.REUSE_RESOURCES\n"
          ]
        },
        {
          "output_type": "display_data",
          "data": {
            "text/plain": [
              "Downloading https://raw.githubusercontent.com/stanfordnlp/stanza-resources/main/resources_1.6.0.json:   0%|   …"
            ],
            "application/vnd.jupyter.widget-view+json": {
              "version_major": 2,
              "version_minor": 0,
              "model_id": "1b6170d2e6a54b4599e49297e1705bf1"
            }
          },
          "metadata": {}
        },
        {
          "output_type": "stream",
          "name": "stderr",
          "text": [
            "INFO:stanza:Loading these models for language: hi (Hindi):\n",
            "=============================\n",
            "| Processor | Package       |\n",
            "-----------------------------\n",
            "| tokenize  | hdtb          |\n",
            "| pos       | hdtb_charlm   |\n",
            "| lemma     | hdtb_nocharlm |\n",
            "| depparse  | hdtb_charlm   |\n",
            "=============================\n",
            "\n",
            "INFO:stanza:Using device: cpu\n",
            "INFO:stanza:Loading: tokenize\n",
            "INFO:stanza:Loading: pos\n",
            "INFO:stanza:Loading: lemma\n",
            "INFO:stanza:Loading: depparse\n",
            "INFO:stanza:Done loading processors!\n"
          ]
        }
      ]
    },
    {
      "cell_type": "code",
      "source": [
        "\n",
        "# Define a function to perform stemming on Urdu text\n",
        "def stem_hindi_text(text):\n",
        "    # Process the text with the Urdu language model\n",
        "    doc = nlp(hindi_text)\n",
        "\n",
        "    # Extract the stemmed words from the processed text\n",
        "    stemmed_words = [word.lemma for sentence in doc.sentences for word in sentence.words]\n",
        "\n",
        "    # Join the stemmed words back into a sentence\n",
        "    stemmed_text = \" \".join(stemmed_words)\n",
        "\n",
        "    return stemmed_text"
      ],
      "metadata": {
        "id": "OrLn_Q6Xw7tY"
      },
      "execution_count": null,
      "outputs": []
    },
    {
      "cell_type": "markdown",
      "source": [
        "## Displaying Stemmed Hindi Words"
      ],
      "metadata": {
        "id": "z2JnDlST4GPb"
      }
    },
    {
      "cell_type": "code",
      "source": [
        "\n",
        "# Perform stemming on the Hindi text\n",
        "stemmed_text = stem_hindi_text(hindi_text)\n",
        "\n",
        "# Print the stemmed text\n",
        "print(\"Original Hindi Tokens: \\n\",hindi_tokens,\"\\n Stemmed Tokens: \\n\", stemmed_text)"
      ],
      "metadata": {
        "colab": {
          "base_uri": "https://localhost:8080/"
        },
        "id": "Tm0e4QF9xFD-",
        "outputId": "d6e9a947-0a08-4d41-d8e9-4cdd4a3a28f5"
      },
      "execution_count": null,
      "outputs": [
        {
          "output_type": "stream",
          "name": "stdout",
          "text": [
            "Original Hindi Tokens: \n",
            " ['\\n', 'राजस्थान', 'के', 'जयपुर', 'के', 'रहने', 'वाले', 'अनिल', 'थडानी', 'ने', '‘कृषि’', 'विषय', 'में', 'अपनी', 'मास्टर्स', 'डिग्री', 'पूरी', 'की', 'है', ',', 'जिसके', 'बाद', 'उन्होंने', 'विवेकानंद', 'ग्लोबल', 'यूनिवर्सिटी', 'में', 'बतौर', 'असिस्टेंट', 'प्रोफेसर', ',', 'एक', 'साल', 'तक', 'काम', 'किया', 'और', 'फिर', 'नौकरी', 'छोड़कर', 'अपनी', 'नर्सरी', ',', '‘पौधशालम‘', 'की', 'शुरुआत', 'की', 'और', 'हाइड्रोपोनिक', 'फार्मिंग', 'सिखाने', 'के', 'साथ', '-', 'साथ', ',', 'किसानों', 'को', 'जैविक', 'खेती', '(', 'Organic', 'Farming', ')', 'पर', 'परामर्श', 'देने', 'का', 'काम', 'भी', 'कर', 'रहे', 'हैं', '।', '\\n\\nपढ़ाई', 'के', 'बाद', ',', 'साल', '2018', 'में', 'वह', 'अपने', 'शहर', 'जयपुर', 'आ', 'गए', 'और', 'यहाँ', 'यूनिवर्सिटी', 'में', 'पढ़ाने', 'लगे', '।', 'इसके', 'साथ', 'ही', ',', 'वह', 'खेती', 'का', 'भी', 'काम', 'देखने', 'लगे', '।', 'अनिल', 'आस', '-', 'पास', 'के', 'गांवों', 'में', 'किसानों', 'से', 'मिलते', 'और', 'उन्हें', 'जैविक', 'खेती', 'के', 'तरीके', 'सिखाते', 'थे', '।', 'वह', 'बताते', 'हैं', ',', '“लगभग', 'एक', 'साल', 'की', 'नौकरी', 'में', 'ही', 'मुझे', 'समझ', 'में', 'आ', 'गया', 'कि', 'मैं', 'ज़मीनी', 'स्तर', 'पर', 'काम', 'करना', 'चाहता', 'हूँ', '।', '”\\n\\nसाल', '2020', 'में', 'अनिल', 'ने', 'अपनी', 'नौकरी', 'छोड़', 'दी', 'और', 'अपने', 'घर', 'की', 'छत', 'से', 'अपनी', 'नर्सरी', 'का', 'काम', 'शुरू', 'किया', 'और', 'इस', 'काम', 'में', 'उन्होंने', 'लगभग', '14,000', 'रुपये', 'का', 'निवेश', 'किया', '।', 'उन्होंने', 'अपनी', 'पढ़ाई', 'के', 'दौरान', ',', 'जैविक', 'तरीकों', 'से', 'अलग', '-', 'अलग', 'तरह', 'की', 'खाद', ',', 'पोषक', 'घोल', ',', 'पॉटिंग', 'मिक्स', 'बनाना', 'सीखा', 'था', '।', 'आज', 'अपनी', 'नर्सरी', 'और', 'किसानों', 'के', 'लिए', 'वह', 'वैज्ञानिक', 'तरीकों', 'से', 'जैविक', 'खाद', 'और', 'उर्वरक', 'तैयार', 'करते', 'हैं', '।', '\\n\\n\\nनर्सरी', 'के', 'साथ', ',', 'वह', 'लोगों', 'के', 'घरों', 'में', 'अलग', '-', 'अलग', 'तरह', 'के', 'गार्डन', ',', 'जैसे', '-', 'हाइड्रोपोनिक', ',', 'वर्टिकल', ',', 'टेरेस', 'गार्डन', 'लगाने', 'की', 'सर्विस', 'भी', 'दे', 'रहे', 'हैं', '।', '\\n\\nअनिल', 'अब', 'तक', 'कई', 'घरों', 'में', 'हाइड्रोपोनिक', 'सेटअप', ',', 'वर्टिकल', 'और', 'टेरेस', 'गार्डन', 'लगा', 'चुके', 'हैं', '।', 'वह', 'इनकी', 'देख', '-', 'रेख', 'के', 'लिए', 'समय', '-', 'समय', 'पर', 'जाते', 'भी', 'रहते', 'हैं', '।', '\\n\\nहाइड्रोपोनिक', 'फार्मिंग', 'और', 'गार्डनिंग', 'में', 'करते', 'हैं', 'लोगों', 'की', 'मदद\\n\\nअनिल', 'का', 'मानना', 'है', 'कि', 'टेरेस', 'गार्डन', 'में', 'हाइड्रोपोनिक', 'सेटअप', 'करके', 'आप', 'अपने', 'परिवार', 'के', 'लिए', 'बिना', 'मिट्टी', 'की', 'झंझट', 'के', 'ऑर्गेनिक', 'सब्जियां', 'उगा', 'सकते', 'हैं', '।', 'साथ', 'ही', 'साथ', 'अगर', 'आप', 'चाहें', ',', 'तो', 'इससे', 'एक', 'छोटा', 'सा', 'बिज़नेस', 'भी', 'शुरू', 'कर', 'सकते', 'हैं', '।', '\\n\\nएक', 'गृहिणी', 'हो', 'या', 'रिटायर', 'इंसान', ',', 'छोटे', 'से', 'थर्माकोल', 'के', 'बॉक्स', 'में', 'प्रयोग', 'करके', 'इसकी', 'शुरुआत', 'की', 'जा', 'सकती', 'है', '।', 'इस', 'तरह', 'आप', 'अपने', 'परिवार', 'के', 'साथ', '-', 'साथ', ',', 'जैविक', 'सब्जियां', 'अपने', 'दोस्तों', 'और', 'पड़ोसियों', 'को', 'भी', 'खिला', 'सकते', 'हैं', '।', '\\n\\nसंपादनः', 'अर्चना', 'दुबे', '|', '\\n'] \n",
            " Stemmed Tokens: \n",
            " ['राजस्थान', 'का', 'जयपुर', 'का', 'रह', 'वाला', 'अनिल', 'थडानी', 'ने', '‘कृषि', \"'\", 'विषय', 'में', 'अपना', 'मास्टर', 'डिग्री', 'पूरा', 'कर', 'है', ',', 'जो', 'बाद', 'वह', 'विवेकानंद', 'ग्लोबल', 'यूनिवर्सिटी', 'में', 'बतौर', 'असिस्टेंट', 'प्रोफेसर', ',', 'एक', 'साल', 'तक', 'काम', 'कर', 'और', 'फिर', 'नौकरी', 'छोड़', 'अपना', 'नर्सरी', ',', '‘पौधशालम‘', 'का', 'शुरुआत', 'कर', 'और', 'हाइड्रोपोनिक', 'फार्मिंग', 'सिखा', 'का', 'साथ-साथ', ',', 'किसान', 'को', 'जैविक', 'खेती', '(', 'Organic', 'Farming', ')', 'पर', 'परामर्श', 'दे', 'का', 'काम', 'भी', 'कर', 'रह', 'है', '।', 'पढ़ा', 'का', 'बाद', ',', 'साल', '2018', 'में', 'वह', 'अपना', 'शहर', 'जयपुर', 'आ', 'जा', 'और', 'यहाँ', 'यूनिवर्सिटी', 'में', 'पढ़ा', 'लग', '।', 'यह', 'साथ', 'ही', ',', 'वह', 'खेती', 'का', 'भी', 'काम', 'देख', 'लग', '।', 'अनिल', 'आस-पास', 'का', 'गांव', 'में', 'किसान', 'से', 'मिल', 'और', 'वह', 'जैविक', 'खेती', 'का', 'तरीका', 'सिखा', 'था', '।', 'वह', 'बता', 'है', ',', '“लगभग', 'एक', 'साल', 'का', 'नौकरी', 'में', 'ही', 'मैं', 'समझ', 'में', 'आ', 'जा', 'कि', 'मैं', 'जमीनी', 'स्तर', 'पर', 'काम', 'कर', 'चाह', 'है', '।', '”', 'साल', '2020', 'में', 'अनिल', 'ने', 'अपना', 'नौकरी', 'छोड़', 'दे', 'और', 'अपना', 'घर', 'का', 'छत', 'से', 'अपना', 'नर्सरी', 'का', 'काम', 'शुरू', 'कर', 'और', 'यह', 'काम', 'में', 'वह', 'लगभग', '14000', 'रुपया', 'का', 'निवेश', 'कर', '।', 'वह', 'अपना', 'पढ़ा', 'का', 'दौरान', ',', 'जैविक', 'तरीका', 'से', 'अलग-अलग', 'तरह', 'का', 'खाद', ',', 'पोषक', 'घोल', ',', 'पॉटिंग', 'मिक्स', 'बना', 'सीख', 'था', '।', 'आज', 'अपना', 'नर्सरी', 'और', 'किसान', 'का', 'लिए', 'वह', 'वैज्ञानिक', 'तरीका', 'से', 'जैविक', 'खाद', 'और', 'उर्वरक', 'तैयार', 'कर', 'है', '।', 'नर्सरी', 'का', 'साथ', ',', 'वह', 'लोग', 'का', 'घर', 'में', 'अलग-अलग', 'तरह', 'का', 'गार्डन', ',', 'जैसे-', 'हाइड्रोपोनिक', ',', 'वर्टिकल', ',', 'टेरेस', 'गार्डन', 'लगा', 'का', 'सर्विस', 'भी', 'दे', 'रह', 'है', '।', 'अनिल', 'अब', 'तक', 'कई', 'घर', 'में', 'हाइड्रोपोनिक', 'सेटअप', ',', 'वर्टिकल', 'और', 'टेरेस', 'गार्डन', 'लगा', 'चुक', 'है', '।', 'वह', 'यह', 'देख-रेख', 'का', 'लिए', 'समय-समय', 'पर', 'जा', 'भी', 'रह', 'है', '।', 'हाइड्रोपोनिक', 'फार्मिंग', 'और', 'गार्डनिंग', 'में', 'कर', 'है', 'लोग', 'का', 'मदद', 'अनिल', 'का', 'मान', 'है', 'कि', 'टेरेस', 'गार्डन', 'में', 'हाइड्रोपोनिक', 'सेटअप', 'कर', 'आप', 'अपना', 'परिवार', 'का', 'लिए', 'बिना', 'मिट्टी', 'का', 'झंझट', 'का', 'ऑर्गेनिक', 'सब्जी', 'उगा', 'सक', 'है', '।', 'साथ', 'ही', 'साथ', 'अगर', 'आप', 'चाह', ',', 'तो', 'यह', 'एक', 'छोटा', 'सा', 'बिजनेस', 'भी', 'शुरू', 'कर', 'सक', 'है', '।', 'एक', 'गृहिणी', 'हो', 'या', 'रिटायर', 'इंसान', ',', 'छोटा', 'से', 'थर्माकोल', 'का', 'बॉक्स', 'में', 'प्रयोग', 'कर', 'यह', 'शुरुआत', 'कर', 'जा', 'सक', 'है', '।', 'यह', 'तरह', 'आप', 'अपना', 'परिवार', 'का', 'साथ-साथ', ',', 'जैविक', 'सब्जी', 'अपना', 'दोस्त', 'और', 'पड़ोसी', 'को', 'भी', 'खिल', 'सक', 'है', '।', 'संपादनः', 'अर्चना', 'दुबे', '|']\n"
          ]
        }
      ]
    },
    {
      "cell_type": "markdown",
      "source": [
        "__Inferences for attempt to stemming on a Hindi corpus:__\n",
        "* Apparently, Indic library does not supports stemming or even stopwords removal for Hindi language\n",
        "* Other custom made libraries such as HindiStem (a Python library specifically developed for stemming Hindi text by Prof. A. K. Goyal and his research team), are not readily accessible for implementation.\n",
        "* __However, Stanza library proves to be a very fruitful resource for Stemming for Hindi Language__"
      ],
      "metadata": {
        "id": "OEYUbKkKgBLq"
      }
    },
    {
      "cell_type": "markdown",
      "source": [
        "## Stemming for Foreign Languages: Italian"
      ],
      "metadata": {
        "id": "en0p14pYgBPJ"
      }
    },
    {
      "cell_type": "code",
      "source": [
        "!pip install nltk pandas\n"
      ],
      "metadata": {
        "colab": {
          "base_uri": "https://localhost:8080/"
        },
        "id": "NZ3fydKGu31i",
        "outputId": "dc67cb53-7338-41bb-cb6f-3b680f3b80d6"
      },
      "execution_count": null,
      "outputs": [
        {
          "output_type": "stream",
          "name": "stdout",
          "text": [
            "Requirement already satisfied: nltk in /usr/local/lib/python3.10/dist-packages (3.8.1)\n",
            "Requirement already satisfied: pandas in /usr/local/lib/python3.10/dist-packages (1.5.3)\n",
            "Requirement already satisfied: click in /usr/local/lib/python3.10/dist-packages (from nltk) (8.1.7)\n",
            "Requirement already satisfied: joblib in /usr/local/lib/python3.10/dist-packages (from nltk) (1.3.2)\n",
            "Requirement already satisfied: regex>=2021.8.3 in /usr/local/lib/python3.10/dist-packages (from nltk) (2023.6.3)\n",
            "Requirement already satisfied: tqdm in /usr/local/lib/python3.10/dist-packages (from nltk) (4.66.1)\n",
            "Requirement already satisfied: python-dateutil>=2.8.1 in /usr/local/lib/python3.10/dist-packages (from pandas) (2.8.2)\n",
            "Requirement already satisfied: pytz>=2020.1 in /usr/local/lib/python3.10/dist-packages (from pandas) (2023.3.post1)\n",
            "Requirement already satisfied: numpy>=1.21.0 in /usr/local/lib/python3.10/dist-packages (from pandas) (1.23.5)\n",
            "Requirement already satisfied: six>=1.5 in /usr/local/lib/python3.10/dist-packages (from python-dateutil>=2.8.1->pandas) (1.16.0)\n"
          ]
        }
      ]
    },
    {
      "cell_type": "code",
      "source": [
        "import pandas as pd\n",
        "import nltk\n",
        "from nltk.tokenize import word_tokenize\n",
        "from nltk.corpus import stopwords\n",
        "from nltk.stem import SnowballStemmer\n"
      ],
      "metadata": {
        "id": "rm13U2Vmu5b4"
      },
      "execution_count": null,
      "outputs": []
    },
    {
      "cell_type": "markdown",
      "source": [
        "## Adding Italian Corpus"
      ],
      "metadata": {
        "id": "BQSiUL1u4OaB"
      }
    },
    {
      "cell_type": "code",
      "source": [
        "italian_corpus = '''\n",
        "L'Italia è un bellissimo paese con una ricca storia e una cultura affascinante. Le sue città sono piene di monumenti storici e opere d'arte straordinarie. Da nord a sud, l'Italia offre una varietà di paesaggi mozzafiato, dalle montagne delle Alpi alle spiagge della Sicilia.\n",
        "\n",
        "La cucina italiana è famosa in tutto il mondo. Piatti come la pizza, la pasta, e il gelato sono amati da persone di tutte le nazionalità. La tradizione culinaria italiana è caratterizzata da ingredienti freschi e semplici preparazioni che mettono in risalto il sapore degli alimenti.\n",
        "\n",
        "La lingua italiana è una delle lingue più belle al mondo. Le sue parole suonano come una melodia, e la poesia italiana è celebre per la sua bellezza e profondità. Gli scrittori italiani come Dante Alighieri, Giovanni Boccaccio, e Alessandro Manzoni hanno lasciato un'impronta indelebile nella letteratura mondiale.\n",
        "\n",
        "L'Italia è anche famosa per la sua moda. Milano è una delle capitali della moda globale, e le passerelle italiane sono rinomate per presentare le ultime tendenze in abbigliamento e accessori.\n",
        "\n",
        "Ma l'Italia non è solo bellezza e stile, è anche un paese con una storia politica complessa. Ha attraversato periodi di regalità, repubbliche, imperi, e conflitti. Tuttavia, oggi è una repubblica democratica che fa parte dell'Unione Europea.\n",
        "\n",
        "Le persone italiane sono conosciute per la loro calorosa ospitalità. Sono appassionate di calcio e amano riunirsi con amici e familiari per condividere un pasto delizioso e una buona conversazione.\n",
        "\n",
        "'''\n"
      ],
      "metadata": {
        "id": "B7GQFzBB0KeE"
      },
      "execution_count": null,
      "outputs": []
    },
    {
      "cell_type": "markdown",
      "source": [
        "## Tokenizing Italian Words"
      ],
      "metadata": {
        "id": "7WT5Wfue4SSU"
      }
    },
    {
      "cell_type": "code",
      "source": [
        "tokens = word_tokenize(italian_corpus, language='italian')\n"
      ],
      "metadata": {
        "id": "7v3FrVYE0bhh"
      },
      "execution_count": null,
      "outputs": []
    },
    {
      "cell_type": "markdown",
      "source": [
        "## Filtering Stopwords"
      ],
      "metadata": {
        "id": "m_EmuWQI4Xkv"
      }
    },
    {
      "cell_type": "code",
      "source": [
        "nltk.download('stopwords')\n",
        "italian_stopwords = set(stopwords.words('italian'))\n",
        "filtered_tokens = [token for token in tokens if token.lower() not in italian_stopwords]\n"
      ],
      "metadata": {
        "colab": {
          "base_uri": "https://localhost:8080/"
        },
        "id": "CY9lvnsV0zDV",
        "outputId": "512b321d-0f5f-4cb6-8253-fb8c75e48878"
      },
      "execution_count": null,
      "outputs": [
        {
          "output_type": "stream",
          "name": "stderr",
          "text": [
            "[nltk_data] Downloading package stopwords to /root/nltk_data...\n",
            "[nltk_data]   Package stopwords is already up-to-date!\n"
          ]
        }
      ]
    },
    {
      "cell_type": "markdown",
      "source": [
        "## Stemming Italian Words Using SnowballStemmer Library"
      ],
      "metadata": {
        "id": "remla_QH4aQG"
      }
    },
    {
      "cell_type": "code",
      "source": [
        "stemmer = SnowballStemmer('italian')\n",
        "stemmed_tokens = [stemmer.stem(token) for token in filtered_tokens]\n"
      ],
      "metadata": {
        "id": "bCDbsKSN006n"
      },
      "execution_count": null,
      "outputs": []
    },
    {
      "cell_type": "markdown",
      "source": [
        "## Displaying Stemmed Italian Words"
      ],
      "metadata": {
        "id": "KlhhPFYr4fQv"
      }
    },
    {
      "cell_type": "code",
      "source": [
        "print(\"Original Italian Tokens: \\n\",filtered_tokens,\"\\n Stemmed Tokens: \\n\", stemmed_tokens)"
      ],
      "metadata": {
        "colab": {
          "base_uri": "https://localhost:8080/"
        },
        "id": "4JVGvY4803W2",
        "outputId": "8b961ef8-0c4f-4da2-93cf-3a25319fcc3b"
      },
      "execution_count": null,
      "outputs": [
        {
          "output_type": "stream",
          "name": "stdout",
          "text": [
            "Original Italian Tokens: \n",
            " [\"L'Italia\", 'bellissimo', 'paese', 'ricca', 'storia', 'cultura', 'affascinante', '.', 'città', 'piene', 'monumenti', 'storici', 'opere', \"d'arte\", 'straordinarie', '.', 'nord', 'sud', ',', \"l'Italia\", 'offre', 'varietà', 'paesaggi', 'mozzafiato', ',', 'montagne', 'Alpi', 'spiagge', 'Sicilia', '.', 'cucina', 'italiana', 'famosa', 'mondo', '.', 'Piatti', 'pizza', ',', 'pasta', ',', 'gelato', 'amati', 'persone', 'tutte', 'nazionalità', '.', 'tradizione', 'culinaria', 'italiana', 'caratterizzata', 'ingredienti', 'freschi', 'semplici', 'preparazioni', 'mettono', 'risalto', 'sapore', 'alimenti', '.', 'lingua', 'italiana', 'lingue', 'belle', 'mondo', '.', 'parole', 'suonano', 'melodia', ',', 'poesia', 'italiana', 'celebre', 'bellezza', 'profondità', '.', 'scrittori', 'italiani', 'Dante', 'Alighieri', ',', 'Giovanni', 'Boccaccio', ',', 'Alessandro', 'Manzoni', 'lasciato', \"un'impronta\", 'indelebile', 'letteratura', 'mondiale', '.', \"L'Italia\", 'famosa', 'moda', '.', 'Milano', 'capitali', 'moda', 'globale', ',', 'passerelle', 'italiane', 'rinomate', 'presentare', 'ultime', 'tendenze', 'abbigliamento', 'accessori', '.', \"l'Italia\", 'solo', 'bellezza', 'stile', ',', 'paese', 'storia', 'politica', 'complessa', '.', 'attraversato', 'periodi', 'regalità', ',', 'repubbliche', ',', 'imperi', ',', 'conflitti', '.', 'Tuttavia', ',', 'oggi', 'repubblica', 'democratica', 'fa', 'parte', \"dell'Unione\", 'Europea', '.', 'persone', 'italiane', 'conosciute', 'calorosa', 'ospitalità', '.', 'appassionate', 'calcio', 'amano', 'riunirsi', 'amici', 'familiari', 'condividere', 'pasto', 'delizioso', 'buona', 'conversazione', '.'] \n",
            " Stemmed Tokens: \n",
            " [\"l'ital\", 'bellissim', 'paes', 'ricc', 'stor', 'cultur', 'affascin', '.', 'citt', 'pien', 'monument', 'storic', 'oper', \"d'art\", 'straordinar', '.', 'nord', 'sud', ',', \"l'ital\", 'offre', 'variet', 'paesagg', 'mozzaf', ',', 'montagn', 'alpi', 'spiagg', 'sicil', '.', 'cucin', 'italian', 'famos', 'mond', '.', 'piatt', 'pizz', ',', 'past', ',', 'gel', 'amat', 'person', 'tutt', 'nazional', '.', 'tradizion', 'culinar', 'italian', 'caratterizz', 'ingredient', 'fresc', 'semplic', 'prepar', 'mett', 'risalt', 'sapor', 'aliment', '.', 'lingu', 'italian', 'lingu', 'bell', 'mond', '.', 'parol', 'suon', 'melod', ',', 'poes', 'italian', 'celebr', 'bellezz', 'profond', '.', 'scrittor', 'italian', 'dant', 'alighier', ',', 'giovann', 'boccacc', ',', 'alessandr', 'manzon', 'lasc', \"un'impront\", 'indelebil', 'letteratur', 'mondial', '.', \"l'ital\", 'famos', 'mod', '.', 'mil', 'capital', 'mod', 'global', ',', 'passerell', 'italian', 'rinom', 'present', 'ultim', 'tendenz', 'abbigl', 'accessor', '.', \"l'ital\", 'sol', 'bellezz', 'stil', ',', 'paes', 'stor', 'polit', 'compless', '.', 'attravers', 'period', 'regal', ',', 'repubbl', ',', 'imper', ',', 'conflitt', '.', 'tuttav', ',', 'oggi', 'repubbl', 'democrat', 'fa', 'part', \"dell'union\", 'europe', '.', 'person', 'italian', 'conosc', 'calor', 'ospital', '.', 'appassion', 'calc', 'aman', 'riun', 'amic', 'familiar', 'condivid', 'past', 'deliz', 'buon', 'convers', '.']\n"
          ]
        }
      ]
    },
    {
      "cell_type": "markdown",
      "source": [
        "__Inference for Foreign Language Stemming:__<br>\n",
        "The Snowball stemmer, also known as the Porter2 stemmer, is a widely used stemming algorithm that supports multiple languages. The Snowball stemmer was originally developed for the English language, but it has since been extended to support various other languages. Here are some of the languages for which Snowball stemmers are available:\n",
        "\n",
        "1. **English**\n",
        "\n",
        "2. **French**\n",
        "\n",
        "3. **German**\n",
        "\n",
        "4. **Italian**\n",
        "\n",
        "5. **Spanish**\n",
        "\n",
        "6. **Portuguese**\n",
        "\n",
        "7. **Dutch**\n",
        "\n",
        "8. **Russian**\n",
        "\n",
        "9. **Swedish**\n",
        "\n",
        "10. **Norwegian**\n",
        "\n",
        "11. **Danish**\n",
        "\n",
        "12. **Finnish**\n",
        "\n",
        "13. **Hungarian**\n",
        "\n",
        "14. **Romanian**\n",
        "\n",
        "15. **Turkish**\n",
        "\n",
        "**Porter's Algorithm**: In addition to language-specific stemmers, Snowball also includes Porter's original stemming algorithm, which can be used as a generic stemmer for various languages.\n"
      ],
      "metadata": {
        "id": "u06JXa4A20Eb"
      }
    }
  ]
}