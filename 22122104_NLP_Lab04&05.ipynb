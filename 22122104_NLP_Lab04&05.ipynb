{
  "nbformat": 4,
  "nbformat_minor": 0,
  "metadata": {
    "colab": {
      "provenance": []
    },
    "kernelspec": {
      "name": "python3",
      "display_name": "Python 3"
    },
    "language_info": {
      "name": "python"
    }
  },
  "cells": [
    {
      "cell_type": "markdown",
      "source": [
        "__Name:__ Amrita Veshin <br>\n",
        "__Register Number:__ 22122104\n",
        "\n",
        "------------------------------------------------------------------------\n",
        "#  <center> NLP LAB-04 and LAB-05: Synonyms and Antonyms Via WordNet\n",
        "------------------------------------------------------------------------\n"
      ],
      "metadata": {
        "id": "ovQotGZRJwyv"
      }
    },
    {
      "cell_type": "markdown",
      "source": [
        "## Extracting tokens from pdf"
      ],
      "metadata": {
        "id": "30T5N7OqTO7x"
      }
    },
    {
      "cell_type": "code",
      "source": [
        "!pip install PyPDF2\n",
        "from PyPDF2 import PdfReader\n",
        "import PyPDF2"
      ],
      "metadata": {
        "colab": {
          "base_uri": "https://localhost:8080/"
        },
        "id": "e-C1EMavBCLt",
        "outputId": "12d157ae-375f-4bb9-e12d-de797a87af8e"
      },
      "execution_count": null,
      "outputs": [
        {
          "output_type": "stream",
          "name": "stdout",
          "text": [
            "Requirement already satisfied: PyPDF2 in /usr/local/lib/python3.10/dist-packages (3.0.1)\n"
          ]
        }
      ]
    },
    {
      "cell_type": "code",
      "source": [
        "#creating a pdf reader object\n",
        "reader=PdfReader('Base Paper.pdf')"
      ],
      "metadata": {
        "id": "on_1xMmyBGvp"
      },
      "execution_count": null,
      "outputs": []
    },
    {
      "cell_type": "code",
      "source": [
        "print(len(reader.pages))"
      ],
      "metadata": {
        "colab": {
          "base_uri": "https://localhost:8080/"
        },
        "id": "auG-sKB5BdWe",
        "outputId": "3c22e972-414c-404e-f157-ec603b34bd63"
      },
      "execution_count": null,
      "outputs": [
        {
          "output_type": "stream",
          "name": "stdout",
          "text": [
            "12\n"
          ]
        }
      ]
    },
    {
      "cell_type": "code",
      "source": [
        "import spacy\n",
        "nlp = spacy.load('en_core_web_sm')"
      ],
      "metadata": {
        "id": "1jt5U6SVBdZ0"
      },
      "execution_count": null,
      "outputs": []
    },
    {
      "cell_type": "code",
      "source": [
        "# Initializing a variable to store the extracted text\n",
        "extracted_text = \"\"\n",
        "\n",
        "# Iterating through all pages of the PDF\n",
        "for page_num in range(len(reader.pages)):\n",
        "    # Extracting text from the current page\n",
        "    page = reader.pages[page_num]\n",
        "    page_text = page.extract_text()\n",
        "\n",
        "    # Appending the page text to the extracted_text variable\n",
        "    extracted_text += page_text\n",
        "\n",
        "# Processing the extracted text with SpaCy\n",
        "doc = nlp(extracted_text)"
      ],
      "metadata": {
        "id": "faRY7VHcBdc4"
      },
      "execution_count": null,
      "outputs": []
    },
    {
      "cell_type": "code",
      "source": [
        "# Removing symbols, numbers, and stop words, and get the tokens\n",
        "filtered_tokens = list(set(token.text for token in doc if token.is_alpha and not (token.is_stop or token.is_punct or token.is_digit)))"
      ],
      "metadata": {
        "id": "uibBw2xcDSWE"
      },
      "execution_count": null,
      "outputs": []
    },
    {
      "cell_type": "markdown",
      "source": [
        "**Set function has been used to remove duplicate tokens from the token list, so that only unique values remain**"
      ],
      "metadata": {
        "id": "U6_g7cjxVVsZ"
      }
    },
    {
      "cell_type": "code",
      "source": [
        "import pandas as pd\n",
        "filtered_tokens=pd.DataFrame(filtered_tokens)\n",
        "filtered_tokens = filtered_tokens. rename(columns={0: 'Tokens'})"
      ],
      "metadata": {
        "id": "LHe8mJAnBdgA"
      },
      "execution_count": null,
      "outputs": []
    },
    {
      "cell_type": "code",
      "source": [
        "filtered_tokens.head(20)"
      ],
      "metadata": {
        "colab": {
          "base_uri": "https://localhost:8080/",
          "height": 676
        },
        "id": "fZscrv5aBdjh",
        "outputId": "f16ddfd6-fdda-4adf-85b6-f75ece27d205"
      },
      "execution_count": null,
      "outputs": [
        {
          "output_type": "execute_result",
          "data": {
            "text/plain": [
              "           Tokens\n",
              "0   artiﬁcial    \n",
              "1   experiment   \n",
              "2   structure    \n",
              "3   scarcity     \n",
              "4   convenience  \n",
              "5   domination   \n",
              "6   investigated \n",
              "7   affected     \n",
              "8   Wahlqvist    \n",
              "9   MLPClassifier\n",
              "10  Analytics    \n",
              "11  Europe       \n",
              "12  boreal       \n",
              "13  supply       \n",
              "14  folkloric    \n",
              "15  economic     \n",
              "16  income       \n",
              "17  Figure       \n",
              "18  Resour       \n",
              "19  rdised       "
            ],
            "text/html": [
              "\n",
              "  <div id=\"df-59bedbc0-8328-467a-900c-4bba1f133f69\" class=\"colab-df-container\">\n",
              "    <div>\n",
              "<style scoped>\n",
              "    .dataframe tbody tr th:only-of-type {\n",
              "        vertical-align: middle;\n",
              "    }\n",
              "\n",
              "    .dataframe tbody tr th {\n",
              "        vertical-align: top;\n",
              "    }\n",
              "\n",
              "    .dataframe thead th {\n",
              "        text-align: right;\n",
              "    }\n",
              "</style>\n",
              "<table border=\"1\" class=\"dataframe\">\n",
              "  <thead>\n",
              "    <tr style=\"text-align: right;\">\n",
              "      <th></th>\n",
              "      <th>Tokens</th>\n",
              "    </tr>\n",
              "  </thead>\n",
              "  <tbody>\n",
              "    <tr>\n",
              "      <th>0</th>\n",
              "      <td>artiﬁcial</td>\n",
              "    </tr>\n",
              "    <tr>\n",
              "      <th>1</th>\n",
              "      <td>experiment</td>\n",
              "    </tr>\n",
              "    <tr>\n",
              "      <th>2</th>\n",
              "      <td>structure</td>\n",
              "    </tr>\n",
              "    <tr>\n",
              "      <th>3</th>\n",
              "      <td>scarcity</td>\n",
              "    </tr>\n",
              "    <tr>\n",
              "      <th>4</th>\n",
              "      <td>convenience</td>\n",
              "    </tr>\n",
              "    <tr>\n",
              "      <th>5</th>\n",
              "      <td>domination</td>\n",
              "    </tr>\n",
              "    <tr>\n",
              "      <th>6</th>\n",
              "      <td>investigated</td>\n",
              "    </tr>\n",
              "    <tr>\n",
              "      <th>7</th>\n",
              "      <td>affected</td>\n",
              "    </tr>\n",
              "    <tr>\n",
              "      <th>8</th>\n",
              "      <td>Wahlqvist</td>\n",
              "    </tr>\n",
              "    <tr>\n",
              "      <th>9</th>\n",
              "      <td>MLPClassifier</td>\n",
              "    </tr>\n",
              "    <tr>\n",
              "      <th>10</th>\n",
              "      <td>Analytics</td>\n",
              "    </tr>\n",
              "    <tr>\n",
              "      <th>11</th>\n",
              "      <td>Europe</td>\n",
              "    </tr>\n",
              "    <tr>\n",
              "      <th>12</th>\n",
              "      <td>boreal</td>\n",
              "    </tr>\n",
              "    <tr>\n",
              "      <th>13</th>\n",
              "      <td>supply</td>\n",
              "    </tr>\n",
              "    <tr>\n",
              "      <th>14</th>\n",
              "      <td>folkloric</td>\n",
              "    </tr>\n",
              "    <tr>\n",
              "      <th>15</th>\n",
              "      <td>economic</td>\n",
              "    </tr>\n",
              "    <tr>\n",
              "      <th>16</th>\n",
              "      <td>income</td>\n",
              "    </tr>\n",
              "    <tr>\n",
              "      <th>17</th>\n",
              "      <td>Figure</td>\n",
              "    </tr>\n",
              "    <tr>\n",
              "      <th>18</th>\n",
              "      <td>Resour</td>\n",
              "    </tr>\n",
              "    <tr>\n",
              "      <th>19</th>\n",
              "      <td>rdised</td>\n",
              "    </tr>\n",
              "  </tbody>\n",
              "</table>\n",
              "</div>\n",
              "    <div class=\"colab-df-buttons\">\n",
              "\n",
              "  <div class=\"colab-df-container\">\n",
              "    <button class=\"colab-df-convert\" onclick=\"convertToInteractive('df-59bedbc0-8328-467a-900c-4bba1f133f69')\"\n",
              "            title=\"Convert this dataframe to an interactive table.\"\n",
              "            style=\"display:none;\">\n",
              "\n",
              "  <svg xmlns=\"http://www.w3.org/2000/svg\" height=\"24px\" viewBox=\"0 -960 960 960\">\n",
              "    <path d=\"M120-120v-720h720v720H120Zm60-500h600v-160H180v160Zm220 220h160v-160H400v160Zm0 220h160v-160H400v160ZM180-400h160v-160H180v160Zm440 0h160v-160H620v160ZM180-180h160v-160H180v160Zm440 0h160v-160H620v160Z\"/>\n",
              "  </svg>\n",
              "    </button>\n",
              "\n",
              "  <style>\n",
              "    .colab-df-container {\n",
              "      display:flex;\n",
              "      gap: 12px;\n",
              "    }\n",
              "\n",
              "    .colab-df-convert {\n",
              "      background-color: #E8F0FE;\n",
              "      border: none;\n",
              "      border-radius: 50%;\n",
              "      cursor: pointer;\n",
              "      display: none;\n",
              "      fill: #1967D2;\n",
              "      height: 32px;\n",
              "      padding: 0 0 0 0;\n",
              "      width: 32px;\n",
              "    }\n",
              "\n",
              "    .colab-df-convert:hover {\n",
              "      background-color: #E2EBFA;\n",
              "      box-shadow: 0px 1px 2px rgba(60, 64, 67, 0.3), 0px 1px 3px 1px rgba(60, 64, 67, 0.15);\n",
              "      fill: #174EA6;\n",
              "    }\n",
              "\n",
              "    .colab-df-buttons div {\n",
              "      margin-bottom: 4px;\n",
              "    }\n",
              "\n",
              "    [theme=dark] .colab-df-convert {\n",
              "      background-color: #3B4455;\n",
              "      fill: #D2E3FC;\n",
              "    }\n",
              "\n",
              "    [theme=dark] .colab-df-convert:hover {\n",
              "      background-color: #434B5C;\n",
              "      box-shadow: 0px 1px 3px 1px rgba(0, 0, 0, 0.15);\n",
              "      filter: drop-shadow(0px 1px 2px rgba(0, 0, 0, 0.3));\n",
              "      fill: #FFFFFF;\n",
              "    }\n",
              "  </style>\n",
              "\n",
              "    <script>\n",
              "      const buttonEl =\n",
              "        document.querySelector('#df-59bedbc0-8328-467a-900c-4bba1f133f69 button.colab-df-convert');\n",
              "      buttonEl.style.display =\n",
              "        google.colab.kernel.accessAllowed ? 'block' : 'none';\n",
              "\n",
              "      async function convertToInteractive(key) {\n",
              "        const element = document.querySelector('#df-59bedbc0-8328-467a-900c-4bba1f133f69');\n",
              "        const dataTable =\n",
              "          await google.colab.kernel.invokeFunction('convertToInteractive',\n",
              "                                                    [key], {});\n",
              "        if (!dataTable) return;\n",
              "\n",
              "        const docLinkHtml = 'Like what you see? Visit the ' +\n",
              "          '<a target=\"_blank\" href=https://colab.research.google.com/notebooks/data_table.ipynb>data table notebook</a>'\n",
              "          + ' to learn more about interactive tables.';\n",
              "        element.innerHTML = '';\n",
              "        dataTable['output_type'] = 'display_data';\n",
              "        await google.colab.output.renderOutput(dataTable, element);\n",
              "        const docLink = document.createElement('div');\n",
              "        docLink.innerHTML = docLinkHtml;\n",
              "        element.appendChild(docLink);\n",
              "      }\n",
              "    </script>\n",
              "  </div>\n",
              "\n",
              "\n",
              "<div id=\"df-87bb004a-acc2-49fb-8466-7cde484b8e10\">\n",
              "  <button class=\"colab-df-quickchart\" onclick=\"quickchart('df-87bb004a-acc2-49fb-8466-7cde484b8e10')\"\n",
              "            title=\"Suggest charts.\"\n",
              "            style=\"display:none;\">\n",
              "\n",
              "<svg xmlns=\"http://www.w3.org/2000/svg\" height=\"24px\"viewBox=\"0 0 24 24\"\n",
              "     width=\"24px\">\n",
              "    <g>\n",
              "        <path d=\"M19 3H5c-1.1 0-2 .9-2 2v14c0 1.1.9 2 2 2h14c1.1 0 2-.9 2-2V5c0-1.1-.9-2-2-2zM9 17H7v-7h2v7zm4 0h-2V7h2v10zm4 0h-2v-4h2v4z\"/>\n",
              "    </g>\n",
              "</svg>\n",
              "  </button>\n",
              "\n",
              "<style>\n",
              "  .colab-df-quickchart {\n",
              "      --bg-color: #E8F0FE;\n",
              "      --fill-color: #1967D2;\n",
              "      --hover-bg-color: #E2EBFA;\n",
              "      --hover-fill-color: #174EA6;\n",
              "      --disabled-fill-color: #AAA;\n",
              "      --disabled-bg-color: #DDD;\n",
              "  }\n",
              "\n",
              "  [theme=dark] .colab-df-quickchart {\n",
              "      --bg-color: #3B4455;\n",
              "      --fill-color: #D2E3FC;\n",
              "      --hover-bg-color: #434B5C;\n",
              "      --hover-fill-color: #FFFFFF;\n",
              "      --disabled-bg-color: #3B4455;\n",
              "      --disabled-fill-color: #666;\n",
              "  }\n",
              "\n",
              "  .colab-df-quickchart {\n",
              "    background-color: var(--bg-color);\n",
              "    border: none;\n",
              "    border-radius: 50%;\n",
              "    cursor: pointer;\n",
              "    display: none;\n",
              "    fill: var(--fill-color);\n",
              "    height: 32px;\n",
              "    padding: 0;\n",
              "    width: 32px;\n",
              "  }\n",
              "\n",
              "  .colab-df-quickchart:hover {\n",
              "    background-color: var(--hover-bg-color);\n",
              "    box-shadow: 0 1px 2px rgba(60, 64, 67, 0.3), 0 1px 3px 1px rgba(60, 64, 67, 0.15);\n",
              "    fill: var(--button-hover-fill-color);\n",
              "  }\n",
              "\n",
              "  .colab-df-quickchart-complete:disabled,\n",
              "  .colab-df-quickchart-complete:disabled:hover {\n",
              "    background-color: var(--disabled-bg-color);\n",
              "    fill: var(--disabled-fill-color);\n",
              "    box-shadow: none;\n",
              "  }\n",
              "\n",
              "  .colab-df-spinner {\n",
              "    border: 2px solid var(--fill-color);\n",
              "    border-color: transparent;\n",
              "    border-bottom-color: var(--fill-color);\n",
              "    animation:\n",
              "      spin 1s steps(1) infinite;\n",
              "  }\n",
              "\n",
              "  @keyframes spin {\n",
              "    0% {\n",
              "      border-color: transparent;\n",
              "      border-bottom-color: var(--fill-color);\n",
              "      border-left-color: var(--fill-color);\n",
              "    }\n",
              "    20% {\n",
              "      border-color: transparent;\n",
              "      border-left-color: var(--fill-color);\n",
              "      border-top-color: var(--fill-color);\n",
              "    }\n",
              "    30% {\n",
              "      border-color: transparent;\n",
              "      border-left-color: var(--fill-color);\n",
              "      border-top-color: var(--fill-color);\n",
              "      border-right-color: var(--fill-color);\n",
              "    }\n",
              "    40% {\n",
              "      border-color: transparent;\n",
              "      border-right-color: var(--fill-color);\n",
              "      border-top-color: var(--fill-color);\n",
              "    }\n",
              "    60% {\n",
              "      border-color: transparent;\n",
              "      border-right-color: var(--fill-color);\n",
              "    }\n",
              "    80% {\n",
              "      border-color: transparent;\n",
              "      border-right-color: var(--fill-color);\n",
              "      border-bottom-color: var(--fill-color);\n",
              "    }\n",
              "    90% {\n",
              "      border-color: transparent;\n",
              "      border-bottom-color: var(--fill-color);\n",
              "    }\n",
              "  }\n",
              "</style>\n",
              "\n",
              "  <script>\n",
              "    async function quickchart(key) {\n",
              "      const quickchartButtonEl =\n",
              "        document.querySelector('#' + key + ' button');\n",
              "      quickchartButtonEl.disabled = true;  // To prevent multiple clicks.\n",
              "      quickchartButtonEl.classList.add('colab-df-spinner');\n",
              "      try {\n",
              "        const charts = await google.colab.kernel.invokeFunction(\n",
              "            'suggestCharts', [key], {});\n",
              "      } catch (error) {\n",
              "        console.error('Error during call to suggestCharts:', error);\n",
              "      }\n",
              "      quickchartButtonEl.classList.remove('colab-df-spinner');\n",
              "      quickchartButtonEl.classList.add('colab-df-quickchart-complete');\n",
              "    }\n",
              "    (() => {\n",
              "      let quickchartButtonEl =\n",
              "        document.querySelector('#df-87bb004a-acc2-49fb-8466-7cde484b8e10 button');\n",
              "      quickchartButtonEl.style.display =\n",
              "        google.colab.kernel.accessAllowed ? 'block' : 'none';\n",
              "    })();\n",
              "  </script>\n",
              "</div>\n",
              "    </div>\n",
              "  </div>\n"
            ]
          },
          "metadata": {},
          "execution_count": 81
        }
      ]
    },
    {
      "cell_type": "markdown",
      "source": [
        "## Using WordNet for getting Definitions, Synonyms and Antonyms"
      ],
      "metadata": {
        "id": "7BmZOo0RTXUx"
      }
    },
    {
      "cell_type": "code",
      "source": [
        "import nltk\n",
        "nltk.download('wordnet')"
      ],
      "metadata": {
        "id": "vXjqYtID8IXe",
        "colab": {
          "base_uri": "https://localhost:8080/"
        },
        "outputId": "87654687-594f-4f0e-ef67-cc0879242606"
      },
      "execution_count": null,
      "outputs": [
        {
          "output_type": "stream",
          "name": "stderr",
          "text": [
            "[nltk_data] Downloading package wordnet to /root/nltk_data...\n"
          ]
        },
        {
          "output_type": "execute_result",
          "data": {
            "text/plain": [
              "True"
            ]
          },
          "metadata": {},
          "execution_count": 41
        }
      ]
    },
    {
      "cell_type": "code",
      "source": [
        "import pandas as pd\n",
        "import nltk\n",
        "from nltk.corpus import wordnet\n",
        "from tabulate import tabulate"
      ],
      "metadata": {
        "id": "vy7UclZUIvbk"
      },
      "execution_count": null,
      "outputs": []
    },
    {
      "cell_type": "code",
      "source": [
        "# Function to get definitions, synonyms, and antonyms\n",
        "def get_word_info(token):\n",
        "    synsets = wordnet.synsets(token)\n",
        "    definitions = [syn.definition() for syn in synsets]\n",
        "    synonyms = set()\n",
        "    antonyms = set()\n",
        "\n",
        "    for synset in synsets:\n",
        "        for lemma in synset.lemmas():\n",
        "            synonyms.add(lemma.name())\n",
        "            if lemma.antonyms():\n",
        "                antonyms.add(lemma.antonyms()[0].name())\n",
        "\n",
        "    return {\n",
        "        'Token': token,\n",
        "        'Definition': '; '.join(definitions),\n",
        "        'Synonyms': ', '.join(synonyms),\n",
        "        'Antonyms': ', '.join(antonyms)\n",
        "    }"
      ],
      "metadata": {
        "id": "xlJf1MZlIvht"
      },
      "execution_count": null,
      "outputs": []
    },
    {
      "cell_type": "markdown",
      "source": [
        "**Synonyms are collected via the wordnet.synsets(token) function while the Antonyms are collected via .antonyms() function.**"
      ],
      "metadata": {
        "id": "JBql0d9pWnHx"
      }
    },
    {
      "cell_type": "code",
      "source": [
        "# Apply the function to each token in the DataFrame\n",
        "token_info_list = [get_word_info(token) for token in filtered_tokens['Tokens']]\n",
        "\n",
        "# Create a new DataFrame to store the results\n",
        "result_df = pd.DataFrame(token_info_list)\n",
        "\n",
        "# Sort the DataFrame by token alphabetically\n",
        "result_df = result_df.sort_values(by='Token')\n",
        "\n",
        "# Reset the index\n",
        "result_df = result_df.reset_index(drop=True)\n",
        "\n",
        "# Format the DataFrame as a table and print\n",
        "table = tabulate(result_df[:20], headers='keys', tablefmt='grid') #For avoiding the data rate exceed limit error, only first 20 rows have been displayed\n",
        "print(table)\n",
        "\n",
        "# Scroll to the right for viewing the continuation of the Definition column as well as the Synonyms column and Antonyms column"
      ],
      "metadata": {
        "colab": {
          "base_uri": "https://localhost:8080/"
        },
        "id": "GBl8_sLhIvlE",
        "outputId": "088d24bb-f94a-48f8-df0c-a6cdc2f9ce5e"
      },
      "execution_count": null,
      "outputs": [
        {
          "output_type": "stream",
          "name": "stdout",
          "text": [
            "+----+-----------------+----------------------------------------------------------------------------------------------------------------------------------------------------------------------------------------------------------------------------------------------------------------------------------------------------------------------------------------------------------------------------------------------------------------------------------------------------------------------------------------------------------------------------------------------------------------------+--------------------------------------------------------------------------------------------------------------------------------------------------------------------------------+----------------+\n",
            "|    | Token           | Definition                                                                                                                                                                                                                                                                                                                                                                                                                                                                                                                                                           | Synonyms                                                                                                                                                                       | Antonyms       |\n",
            "+====+=================+======================================================================================================================================================================================================================================================================================================================================================================================================================================================================================================================================================================+================================================================================================================================================================================+================+\n",
            "|  0 | ACM             |                                                                                                                                                                                                                                                                                                                                                                                                                                                                                                                                                                      |                                                                                                                                                                                |                |\n",
            "+----+-----------------+----------------------------------------------------------------------------------------------------------------------------------------------------------------------------------------------------------------------------------------------------------------------------------------------------------------------------------------------------------------------------------------------------------------------------------------------------------------------------------------------------------------------------------------------------------------------+--------------------------------------------------------------------------------------------------------------------------------------------------------------------------------+----------------+\n",
            "|  1 | AI              | an agency of the United States Army responsible for providing timely and relevant and accurate and synchronized intelligence to tactical and operational and strategic level commanders; the branch of computer science that deal with writing computer programs that can solve problems creatively; a sloth that has three long claws on each forefoot and each hindfoot; the introduction of semen into the oviduct or uterus by some means other than sexual intercourse                                                                                          | artificial_intelligence, artificial_insemination, Army_Intelligence, Bradypus_tridactylus, AI, three-toed_sloth, ai                                                            |                |\n",
            "+----+-----------------+----------------------------------------------------------------------------------------------------------------------------------------------------------------------------------------------------------------------------------------------------------------------------------------------------------------------------------------------------------------------------------------------------------------------------------------------------------------------------------------------------------------------------------------------------------------------+--------------------------------------------------------------------------------------------------------------------------------------------------------------------------------+----------------+\n",
            "|  2 | Abiodun         |                                                                                                                                                                                                                                                                                                                                                                                                                                                                                                                                                                      |                                                                                                                                                                                |                |\n",
            "+----+-----------------+----------------------------------------------------------------------------------------------------------------------------------------------------------------------------------------------------------------------------------------------------------------------------------------------------------------------------------------------------------------------------------------------------------------------------------------------------------------------------------------------------------------------------------------------------------------------+--------------------------------------------------------------------------------------------------------------------------------------------------------------------------------+----------------+\n",
            "|  3 | Abril           |                                                                                                                                                                                                                                                                                                                                                                                                                                                                                                                                                                      |                                                                                                                                                                                |                |\n",
            "+----+-----------------+----------------------------------------------------------------------------------------------------------------------------------------------------------------------------------------------------------------------------------------------------------------------------------------------------------------------------------------------------------------------------------------------------------------------------------------------------------------------------------------------------------------------------------------------------------------------+--------------------------------------------------------------------------------------------------------------------------------------------------------------------------------+----------------+\n",
            "|  4 | Abstract        | a concept or idea not associated with any specific instance; a sketchy summary of the main points of an argument or theory; consider a concept without thinking of a specific example; consider abstractly or theoretically; make off with belongings of others; consider apart from a particular case or instance; give an abstract (of); existing only in the mind; separated from embodiment; not representing or imitating external reality or the objects of nature; dealing with a subject in the abstract without practical purpose or intention              | cabbage, outline, purloin, snarf, hook, nobble, pinch, filch, synopsis, abstraction, sneak, swipe, nonfigurative, pilfer, abstract, abstractionist, lift, precis, nonobjective | concrete       |\n",
            "+----+-----------------+----------------------------------------------------------------------------------------------------------------------------------------------------------------------------------------------------------------------------------------------------------------------------------------------------------------------------------------------------------------------------------------------------------------------------------------------------------------------------------------------------------------------------------------------------------------------+--------------------------------------------------------------------------------------------------------------------------------------------------------------------------------+----------------+\n",
            "|  5 | Acad            |                                                                                                                                                                                                                                                                                                                                                                                                                                                                                                                                                                      |                                                                                                                                                                                |                |\n",
            "+----+-----------------+----------------------------------------------------------------------------------------------------------------------------------------------------------------------------------------------------------------------------------------------------------------------------------------------------------------------------------------------------------------------------------------------------------------------------------------------------------------------------------------------------------------------------------------------------------------------+--------------------------------------------------------------------------------------------------------------------------------------------------------------------------------+----------------+\n",
            "|  6 | Academic        | an educator who works at a college or university; associated with academia or an academy; hypothetical or theoretical and not expected to produce an immediate or practical result; marked by a narrow focus on or display of learning especially its trivial aspects                                                                                                                                                                                                                                                                                                | academician, donnish, faculty_member, pedantic, academic                                                                                                                       |                |\n",
            "+----+-----------------+----------------------------------------------------------------------------------------------------------------------------------------------------------------------------------------------------------------------------------------------------------------------------------------------------------------------------------------------------------------------------------------------------------------------------------------------------------------------------------------------------------------------------------------------------------------------+--------------------------------------------------------------------------------------------------------------------------------------------------------------------------------+----------------+\n",
            "|  7 | Accepted        | consider or hold as true; receive willingly something given or offered; give an affirmative reply to; respond favorably to; react favorably to; consider right and proper; admit into a group or community; take on as one's own the expenses or debts of another person; tolerate or accommodate oneself to; be designed to hold or take; receive (a report) officially, as from a committee; make use of or accept for some purpose; be sexually responsive to, used of a female domesticated mammal; generally approved or compelling recognition                 | live_with, take_on, bear, swallow, go_for, consent, accepted, assume, recognized, accept, take, admit, recognised, have, take_over                                             | refuse, reject |\n",
            "+----+-----------------+----------------------------------------------------------------------------------------------------------------------------------------------------------------------------------------------------------------------------------------------------------------------------------------------------------------------------------------------------------------------------------------------------------------------------------------------------------------------------------------------------------------------------------------------------------------------+--------------------------------------------------------------------------------------------------------------------------------------------------------------------------------+----------------+\n",
            "|  8 | Access          | the right to enter; the right to obtain or make use of or take advantage of something (as services or membership); a way of entering or leaving; a code (a series of characters or digits) that must be entered in some way (typed or dialed or spoken) to get the use of something (a telephone line or a computer or a local area network etc.); (computer science) the operation of reading or writing stored information; the act of approaching or entering; obtain or retrieve from a storage device; as of information on a computer; reach or gain access to | approach, get_at, access, admittance, accession, access_code, memory_access, admission, entree                                                                                 |                |\n",
            "+----+-----------------+----------------------------------------------------------------------------------------------------------------------------------------------------------------------------------------------------------------------------------------------------------------------------------------------------------------------------------------------------------------------------------------------------------------------------------------------------------------------------------------------------------------------------------------------------------------------+--------------------------------------------------------------------------------------------------------------------------------------------------------------------------------+----------------+\n",
            "|  9 | According       | go together; allow to have; (followed by `to') in agreement with or accordant with; (followed by `to') as reported or stated by                                                                                                                                                                                                                                                                                                                                                                                                                                      | allot, concord, harmonize, grant, according, consort, agree, fit_in, harmonise, accord                                                                                         |                |\n",
            "+----+-----------------+----------------------------------------------------------------------------------------------------------------------------------------------------------------------------------------------------------------------------------------------------------------------------------------------------------------------------------------------------------------------------------------------------------------------------------------------------------------------------------------------------------------------------------------------------------------------+--------------------------------------------------------------------------------------------------------------------------------------------------------------------------------+----------------+\n",
            "| 10 | Accuracy        | the quality of being near to the true value; (mathematics) the number of significant figures given in a number                                                                                                                                                                                                                                                                                                                                                                                                                                                       | accuracy, truth                                                                                                                                                                | inaccuracy     |\n",
            "+----+-----------------+----------------------------------------------------------------------------------------------------------------------------------------------------------------------------------------------------------------------------------------------------------------------------------------------------------------------------------------------------------------------------------------------------------------------------------------------------------------------------------------------------------------------------------------------------------------------+--------------------------------------------------------------------------------------------------------------------------------------------------------------------------------+----------------+\n",
            "| 11 | Acids           | any of various water-soluble compounds having a sour taste and capable of turning litmus red and reacting with a base to form a salt; street name for lysergic acid diethylamide                                                                                                                                                                                                                                                                                                                                                                                     | dot, back_breaker, pane, acid, dose, battery-acid, loony_toons, Lucy_in_the_sky_with_diamonds, window_pane, superman, Zen, Elvis                                               |                |\n",
            "+----+-----------------+----------------------------------------------------------------------------------------------------------------------------------------------------------------------------------------------------------------------------------------------------------------------------------------------------------------------------------------------------------------------------------------------------------------------------------------------------------------------------------------------------------------------------------------------------------------------+--------------------------------------------------------------------------------------------------------------------------------------------------------------------------------+----------------+\n",
            "| 12 | Acknowledgments | the state or quality of being recognized or acknowledged; a short note recognizing a source of information or of a quoted passage; a statement acknowledging something or someone                                                                                                                                                                                                                                                                                                                                                                                    | recognition, acknowledgement, reference, cite, citation, acknowledgment, mention, credit, quotation                                                                            |                |\n",
            "+----+-----------------+----------------------------------------------------------------------------------------------------------------------------------------------------------------------------------------------------------------------------------------------------------------------------------------------------------------------------------------------------------------------------------------------------------------------------------------------------------------------------------------------------------------------------------------------------------------------+--------------------------------------------------------------------------------------------------------------------------------------------------------------------------------+----------------+\n",
            "| 13 | Acosta          |                                                                                                                                                                                                                                                                                                                                                                                                                                                                                                                                                                      |                                                                                                                                                                                |                |\n",
            "+----+-----------------+----------------------------------------------------------------------------------------------------------------------------------------------------------------------------------------------------------------------------------------------------------------------------------------------------------------------------------------------------------------------------------------------------------------------------------------------------------------------------------------------------------------------------------------------------------------------+--------------------------------------------------------------------------------------------------------------------------------------------------------------------------------+----------------+\n",
            "| 14 | Adam            | (Old Testament) in Judeo-Christian mythology; the first man and the husband of Eve and the progenitor of the human race; Scottish architect who designed many public buildings in England and Scotland (1728-1792); street names for methylenedioxymethamphetamine                                                                                                                                                                                                                                                                                                   | Adam, hug_drug, ecstasy, X, disco_biscuit, go, cristal, Robert_Adam, XTC                                                                                                       |                |\n",
            "+----+-----------------+----------------------------------------------------------------------------------------------------------------------------------------------------------------------------------------------------------------------------------------------------------------------------------------------------------------------------------------------------------------------------------------------------------------------------------------------------------------------------------------------------------------------------------------------------------------------+--------------------------------------------------------------------------------------------------------------------------------------------------------------------------------+----------------+\n",
            "| 15 | Adugna          |                                                                                                                                                                                                                                                                                                                                                                                                                                                                                                                                                                      |                                                                                                                                                                                |                |\n",
            "+----+-----------------+----------------------------------------------------------------------------------------------------------------------------------------------------------------------------------------------------------------------------------------------------------------------------------------------------------------------------------------------------------------------------------------------------------------------------------------------------------------------------------------------------------------------------------------------------------------------+--------------------------------------------------------------------------------------------------------------------------------------------------------------------------------+----------------+\n",
            "| 16 | Adv             |                                                                                                                                                                                                                                                                                                                                                                                                                                                                                                                                                                      |                                                                                                                                                                                |                |\n",
            "+----+-----------------+----------------------------------------------------------------------------------------------------------------------------------------------------------------------------------------------------------------------------------------------------------------------------------------------------------------------------------------------------------------------------------------------------------------------------------------------------------------------------------------------------------------------------------------------------------------------+--------------------------------------------------------------------------------------------------------------------------------------------------------------------------------+----------------+\n",
            "| 17 | AdvantagesA     |                                                                                                                                                                                                                                                                                                                                                                                                                                                                                                                                                                      |                                                                                                                                                                                |                |\n",
            "+----+-----------------+----------------------------------------------------------------------------------------------------------------------------------------------------------------------------------------------------------------------------------------------------------------------------------------------------------------------------------------------------------------------------------------------------------------------------------------------------------------------------------------------------------------------------------------------------------------------+--------------------------------------------------------------------------------------------------------------------------------------------------------------------------------+----------------+\n",
            "| 18 | Africa          | the second largest continent; located to the south of Europe and bordered to the west by the South Atlantic and to the east by the Indian Ocean                                                                                                                                                                                                                                                                                                                                                                                                                      | Africa                                                                                                                                                                         |                |\n",
            "+----+-----------------+----------------------------------------------------------------------------------------------------------------------------------------------------------------------------------------------------------------------------------------------------------------------------------------------------------------------------------------------------------------------------------------------------------------------------------------------------------------------------------------------------------------------------------------------------------------------+--------------------------------------------------------------------------------------------------------------------------------------------------------------------------------+----------------+\n",
            "| 19 | African         | a native or inhabitant of Africa; of or relating to the nations of Africa or their peoples                                                                                                                                                                                                                                                                                                                                                                                                                                                                           | African                                                                                                                                                                        |                |\n",
            "+----+-----------------+----------------------------------------------------------------------------------------------------------------------------------------------------------------------------------------------------------------------------------------------------------------------------------------------------------------------------------------------------------------------------------------------------------------------------------------------------------------------------------------------------------------------------------------------------------------------+--------------------------------------------------------------------------------------------------------------------------------------------------------------------------------+----------------+\n"
          ]
        }
      ]
    },
    {
      "cell_type": "markdown",
      "source": [
        "## Inferences:\n",
        "\n",
        "1. Some words might not have a definition, synonyms or antonyms recorded in the wordnet package.\n",
        "2. Some words might have multiple synonyms and definitions in the wordnet package.\n",
        "3. For tokens which are names of people, institutions,etc., their closest possible meanings which are in the records are mentioned as definitions."
      ],
      "metadata": {
        "id": "gaW_08-8TKM9"
      }
    }
  ]
}