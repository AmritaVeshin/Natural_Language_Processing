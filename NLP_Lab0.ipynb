{
  "nbformat": 4,
  "nbformat_minor": 0,
  "metadata": {
    "colab": {
      "provenance": []
    },
    "kernelspec": {
      "name": "python3",
      "display_name": "Python 3"
    },
    "language_info": {
      "name": "python"
    }
  },
  "cells": [
    {
      "cell_type": "markdown",
      "source": [
        "__Name:__ Amrita Veshin<br>\n",
        "__Register Number:__ 22122104\n",
        "\n",
        "--------------------------------------------------------------------------\n",
        "#<center> NLP LAB 0: Text Extraction\n",
        "--------------------------------------------------------------------------"
      ],
      "metadata": {
        "id": "H7X0TwMOTfeq"
      }
    },
    {
      "cell_type": "code",
      "execution_count": null,
      "metadata": {
        "colab": {
          "base_uri": "https://localhost:8080/"
        },
        "id": "Vt6CtMC6PtTI",
        "outputId": "af289dc1-d5d7-44b4-d1e0-f0157cedae5d"
      },
      "outputs": [
        {
          "output_type": "stream",
          "name": "stdout",
          "text": [
            "['I’m not going to lie: I think I have a pretty good travel blog. (You probably do too if you’re here.) I work hard to provide excellent practical travel advice to help you travel better, but I’m not the only great travel blogger out there. In fact — and I know this might be shocking — there’s a lot about travel that I’m not an expert on. Family travel? No idea. Travel as a woman? Clueless. Information on hotels? Only a little. Photography? I can manage to turn my camera on if that counts. Food expert? Only at eating it.\\n', '\\n', 'I’ve realized that it’s been a while since I last talked about the best travel blogs out there — the ones I read — so I wanted to take a moment and highlight some of my favorite travel blogs that can also help you travel better, cheaper, and smarter. There are so many good blogs out there, I feel like I’m long overdue to point you to some of them:\\n', '\\n', 'Legal Nomads\\n', '\\n', 'Besides being one of my all-time favorite people in the world, Jodi is also a damn amazing blogger who writes often about food and culture. She devotes a lot of time to food on the road, taking mouthwatering photos that make me jealous of her ability to do so. A former lawyer, she also writes a series called “Thrillable Hours” about other lawyers who gave up being a corporate lackey for life on the road.\\n', '\\n', 'Uncornered Market\\n', '\\n', 'If there was a contest for the best travel blog, I would tell everyone to vote for me. Then I would go vote for Audrey and Dan. They tell heartwarming stories and take incredible, out-of-this-world photographs. Their blog focuses on cultural travel and sustainability issues (they even work with the UN Global Sustainable Tourism Council). I focus on the nuts and bolts of going places, whereas they focus on the people. They are simply great storytellers.\\n', '\\n', 'Alex in Wanderland\\n', '\\n', 'I met Alex years ago in New York City and we’ve been friends ever since. The author of the article on diving in Koh Tao, Alex is a photographer, graphic designer, travel lover, and dive specialist currently roaming the States. Her blog features great photos, dive tips, travel stories, and a biting and self-deprecating humor. Plus, I helped pick out her blog name, so it’s hard not to love it.\\n', '\\n', 'The Blonde Abroad\\n', '\\n', 'Kiersten’s site focuses on the intersection of fashion and travel. She gives tips and advice for women on what wear, pack, and see while overseas and focuses more on higher-end, comfort travel than I do. I think her blog is one of the best for female travelers and, though it’s not targeted to me, I find useful information that I share with others. Kiersten and I are friends, and I love seeing her site grow and expand, especially over the last year. She seems to be everywhere!\\n', '\\n', 'Hey Nadine\\n', '\\n', 'This popular YouTube channel by Nadine Sykora documents her experiences as she travels around the world. Nadine’s zany, nerdy take on travel makes her videos entertaining to watch! She’s funny, smart, and a bit awkward, but her filmmaking style really puts you there in the destination with her. There’s a reason she’s one of the biggest travel channels on YouTube!\\n']\n"
          ]
        }
      ],
      "source": [
        "\n",
        "with open('RandomBlogText','r', encoding='utf-8') as f:\n",
        "  myfile=f.readlines()\n",
        "print(myfile)"
      ]
    },
    {
      "cell_type": "code",
      "source": [
        "for line in myfile:\n",
        "  print(line)"
      ],
      "metadata": {
        "colab": {
          "base_uri": "https://localhost:8080/"
        },
        "id": "7wEwubACTlmY",
        "outputId": "ce988649-1f79-4217-aa3e-2a3402ecbb84"
      },
      "execution_count": null,
      "outputs": [
        {
          "output_type": "stream",
          "name": "stdout",
          "text": [
            "I’m not going to lie: I think I have a pretty good travel blog. (You probably do too if you’re here.) I work hard to provide excellent practical travel advice to help you travel better, but I’m not the only great travel blogger out there. In fact — and I know this might be shocking — there’s a lot about travel that I’m not an expert on. Family travel? No idea. Travel as a woman? Clueless. Information on hotels? Only a little. Photography? I can manage to turn my camera on if that counts. Food expert? Only at eating it.\n",
            "\n",
            "\n",
            "\n",
            "I’ve realized that it’s been a while since I last talked about the best travel blogs out there — the ones I read — so I wanted to take a moment and highlight some of my favorite travel blogs that can also help you travel better, cheaper, and smarter. There are so many good blogs out there, I feel like I’m long overdue to point you to some of them:\n",
            "\n",
            "\n",
            "\n",
            "Legal Nomads\n",
            "\n",
            "\n",
            "\n",
            "Besides being one of my all-time favorite people in the world, Jodi is also a damn amazing blogger who writes often about food and culture. She devotes a lot of time to food on the road, taking mouthwatering photos that make me jealous of her ability to do so. A former lawyer, she also writes a series called “Thrillable Hours” about other lawyers who gave up being a corporate lackey for life on the road.\n",
            "\n",
            "\n",
            "\n",
            "Uncornered Market\n",
            "\n",
            "\n",
            "\n",
            "If there was a contest for the best travel blog, I would tell everyone to vote for me. Then I would go vote for Audrey and Dan. They tell heartwarming stories and take incredible, out-of-this-world photographs. Their blog focuses on cultural travel and sustainability issues (they even work with the UN Global Sustainable Tourism Council). I focus on the nuts and bolts of going places, whereas they focus on the people. They are simply great storytellers.\n",
            "\n",
            "\n",
            "\n",
            "Alex in Wanderland\n",
            "\n",
            "\n",
            "\n",
            "I met Alex years ago in New York City and we’ve been friends ever since. The author of the article on diving in Koh Tao, Alex is a photographer, graphic designer, travel lover, and dive specialist currently roaming the States. Her blog features great photos, dive tips, travel stories, and a biting and self-deprecating humor. Plus, I helped pick out her blog name, so it’s hard not to love it.\n",
            "\n",
            "\n",
            "\n",
            "The Blonde Abroad\n",
            "\n",
            "\n",
            "\n",
            "Kiersten’s site focuses on the intersection of fashion and travel. She gives tips and advice for women on what wear, pack, and see while overseas and focuses more on higher-end, comfort travel than I do. I think her blog is one of the best for female travelers and, though it’s not targeted to me, I find useful information that I share with others. Kiersten and I are friends, and I love seeing her site grow and expand, especially over the last year. She seems to be everywhere!\n",
            "\n",
            "\n",
            "\n",
            "Hey Nadine\n",
            "\n",
            "\n",
            "\n",
            "This popular YouTube channel by Nadine Sykora documents her experiences as she travels around the world. Nadine’s zany, nerdy take on travel makes her videos entertaining to watch! She’s funny, smart, and a bit awkward, but her filmmaking style really puts you there in the destination with her. There’s a reason she’s one of the biggest travel channels on YouTube!\n",
            "\n"
          ]
        }
      ]
    },
    {
      "cell_type": "code",
      "source": [
        "str=\"\"\n",
        "for line in myfile:\n",
        "  str+=line\n",
        "str1=str.replace(\"\\n\", \" \")"
      ],
      "metadata": {
        "id": "luUhNOlyX_UW"
      },
      "execution_count": null,
      "outputs": []
    },
    {
      "cell_type": "code",
      "source": [
        "words=str1.split(\" \")\n",
        "print(words)"
      ],
      "metadata": {
        "colab": {
          "base_uri": "https://localhost:8080/"
        },
        "id": "DCYxDRAxd0jp",
        "outputId": "d8c05d93-4430-4726-c818-7dda29f117fb"
      },
      "execution_count": null,
      "outputs": [
        {
          "output_type": "stream",
          "name": "stdout",
          "text": [
            "['I’m', 'not', 'going', 'to', 'lie:', 'I', 'think', 'I', 'have', 'a', 'pretty', 'good', 'travel', 'blog.', '(You', 'probably', 'do', 'too', 'if', 'you’re', 'here.)', 'I', 'work', 'hard', 'to', 'provide', 'excellent', 'practical', 'travel', 'advice', 'to', 'help', 'you', 'travel', 'better,', 'but', 'I’m', 'not', 'the', 'only', 'great', 'travel', 'blogger', 'out', 'there.', 'In', 'fact', '—', 'and', 'I', 'know', 'this', 'might', 'be', 'shocking', '—', 'there’s', 'a', 'lot', 'about', 'travel', 'that', 'I’m', 'not', 'an', 'expert', 'on.', 'Family', 'travel?', 'No', 'idea.', 'Travel', 'as', 'a', 'woman?', 'Clueless.', 'Information', 'on', 'hotels?', 'Only', 'a', 'little.', 'Photography?', 'I', 'can', 'manage', 'to', 'turn', 'my', 'camera', 'on', 'if', 'that', 'counts.', 'Food', 'expert?', 'Only', 'at', 'eating', 'it.', '', 'I’ve', 'realized', 'that', 'it’s', 'been', 'a', 'while', 'since', 'I', 'last', 'talked', 'about', 'the', 'best', 'travel', 'blogs', 'out', 'there', '—', 'the', 'ones', 'I', 'read', '—', 'so', 'I', 'wanted', 'to', 'take', 'a', 'moment', 'and', 'highlight', 'some', 'of', 'my', 'favorite', 'travel', 'blogs', 'that', 'can', 'also', 'help', 'you', 'travel', 'better,', 'cheaper,', 'and', 'smarter.', 'There', 'are', 'so', 'many', 'good', 'blogs', 'out', 'there,', 'I', 'feel', 'like', 'I’m', 'long', 'overdue', 'to', 'point', 'you', 'to', 'some', 'of', 'them:', '', 'Legal', 'Nomads', '', 'Besides', 'being', 'one', 'of', 'my', 'all-time', 'favorite', 'people', 'in', 'the', 'world,', 'Jodi', 'is', 'also', 'a', 'damn', 'amazing', 'blogger', 'who', 'writes', 'often', 'about', 'food', 'and', 'culture.', 'She', 'devotes', 'a', 'lot', 'of', 'time', 'to', 'food', 'on', 'the', 'road,', 'taking', 'mouthwatering', 'photos', 'that', 'make', 'me', 'jealous', 'of', 'her', 'ability', 'to', 'do', 'so.', 'A', 'former', 'lawyer,', 'she', 'also', 'writes', 'a', 'series', 'called', '“Thrillable', 'Hours”', 'about', 'other', 'lawyers', 'who', 'gave', 'up', 'being', 'a', 'corporate', 'lackey', 'for', 'life', 'on', 'the', 'road.', '', 'Uncornered', 'Market', '', 'If', 'there', 'was', 'a', 'contest', 'for', 'the', 'best', 'travel', 'blog,', 'I', 'would', 'tell', 'everyone', 'to', 'vote', 'for', 'me.', 'Then', 'I', 'would', 'go', 'vote', 'for', 'Audrey', 'and', 'Dan.', 'They', 'tell', 'heartwarming', 'stories', 'and', 'take', 'incredible,', 'out-of-this-world', 'photographs.', 'Their', 'blog', 'focuses', 'on', 'cultural', 'travel', 'and', 'sustainability', 'issues', '(they', 'even', 'work', 'with', 'the', 'UN', 'Global', 'Sustainable', 'Tourism', 'Council).', 'I', 'focus', 'on', 'the', 'nuts', 'and', 'bolts', 'of', 'going', 'places,', 'whereas', 'they', 'focus', 'on', 'the', 'people.', 'They', 'are', 'simply', 'great', 'storytellers.', '', 'Alex', 'in', 'Wanderland', '', 'I', 'met', 'Alex', 'years', 'ago', 'in', 'New', 'York', 'City', 'and', 'we’ve', 'been', 'friends', 'ever', 'since.', 'The', 'author', 'of', 'the', 'article', 'on', 'diving', 'in', 'Koh', 'Tao,', 'Alex', 'is', 'a', 'photographer,', 'graphic', 'designer,', 'travel', 'lover,', 'and', 'dive', 'specialist', 'currently', 'roaming', 'the', 'States.', 'Her', 'blog', 'features', 'great', 'photos,', 'dive', 'tips,', 'travel', 'stories,', 'and', 'a', 'biting', 'and', 'self-deprecating', 'humor.', 'Plus,', 'I', 'helped', 'pick', 'out', 'her', 'blog', 'name,', 'so', 'it’s', 'hard', 'not', 'to', 'love', 'it.', '', 'The', 'Blonde', 'Abroad', '', 'Kiersten’s', 'site', 'focuses', 'on', 'the', 'intersection', 'of', 'fashion', 'and', 'travel.', 'She', 'gives', 'tips', 'and', 'advice', 'for', 'women', 'on', 'what', 'wear,', 'pack,', 'and', 'see', 'while', 'overseas', 'and', 'focuses', 'more', 'on', 'higher-end,', 'comfort', 'travel', 'than', 'I', 'do.', 'I', 'think', 'her', 'blog', 'is', 'one', 'of', 'the', 'best', 'for', 'female', 'travelers', 'and,', 'though', 'it’s', 'not', 'targeted', 'to', 'me,', 'I', 'find', 'useful', 'information', 'that', 'I', 'share', 'with', 'others.', 'Kiersten', 'and', 'I', 'are', 'friends,', 'and', 'I', 'love', 'seeing', 'her', 'site', 'grow', 'and', 'expand,', 'especially', 'over', 'the', 'last', 'year.', 'She', 'seems', 'to', 'be', 'everywhere!', '', 'Hey', 'Nadine', '', 'This', 'popular', 'YouTube', 'channel', 'by', 'Nadine', 'Sykora', 'documents', 'her', 'experiences', 'as', 'she', 'travels', 'around', 'the', 'world.', 'Nadine’s', 'zany,', 'nerdy', 'take', 'on', 'travel', 'makes', 'her', 'videos', 'entertaining', 'to', 'watch!', 'She’s', 'funny,', 'smart,', 'and', 'a', 'bit', 'awkward,', 'but', 'her', 'filmmaking', 'style', 'really', 'puts', 'you', 'there', 'in', 'the', 'destination', 'with', 'her.', 'There’s', 'a', 'reason', 'she’s', 'one', 'of', 'the', 'biggest', 'travel', 'channels', 'on', 'YouTube!', '']\n"
          ]
        }
      ]
    },
    {
      "cell_type": "code",
      "source": [
        "wordset=list(set(words))\n",
        "wordcount=dict()\n",
        "for word in wordset:\n",
        "  wordcount[word]=words.count(word)\n",
        "print(\"There are \", len(wordset), \" unique words in the given file. \\nFollowing is the count of each unique word in the given file: \\n\",wordcount)"
      ],
      "metadata": {
        "colab": {
          "base_uri": "https://localhost:8080/"
        },
        "id": "VVr50oYke-Py",
        "outputId": "cbd2ae30-65b9-4d39-a584-5eefef8a97b0"
      },
      "execution_count": null,
      "outputs": [
        {
          "output_type": "stream",
          "name": "stdout",
          "text": [
            "There are  322  unique words in the given file. \n",
            "Following is the count of each unique word in the given file: \n",
            " {'': 12, 'author': 1, 'Clueless.': 1, 'mouthwatering': 1, 'travels': 1, 'comfort': 1, 'smarter.': 1, 'that': 6, 'good': 2, 'work': 2, 'you’re': 1, 'best': 3, 'of': 10, 'world.': 1, 'provide': 1, 'do': 2, 'lot': 2, 'photos': 1, 'If': 1, 'think': 2, 'road.': 1, 'years': 1, 'on': 13, 'blogger': 2, 'Tourism': 1, 'Blonde': 1, 'lover,': 1, 'There’s': 1, 'tips,': 1, 'Information': 1, 'would': 2, '—': 4, 'you': 4, 'love': 2, 'She': 3, 'friends,': 1, 'heartwarming': 1, 'cultural': 1, 'in': 5, 'article': 1, 'was': 1, 'long': 1, 'Plus,': 1, 'vote': 2, 'who': 2, 'sustainability': 1, 'diving': 1, 'over': 1, 'so': 3, 'up': 1, 'wanted': 1, 'out': 4, 'to': 14, 'Then': 1, 'In': 1, 'blog,': 1, 'nerdy': 1, 'know': 1, 'entertaining': 1, 'eating': 1, 'all-time': 1, 'biggest': 1, 'friends': 1, 'world,': 1, 'expand,': 1, 'do.': 1, 'channel': 1, 'taking': 1, 'if': 2, 'excellent': 1, 'New': 1, 'really': 1, 'lackey': 1, 'called': 1, 'even': 1, 'though': 1, 'nuts': 1, 'YouTube!': 1, 'it.': 2, 'out-of-this-world': 1, 'Sykora': 1, 'travel?': 1, 'graphic': 1, 'everyone': 1, 'pack,': 1, 'like': 1, 'me': 1, 'met': 1, 'life': 1, 'year.': 1, 'damn': 1, 'a': 15, 'being': 2, 'No': 1, 'filmmaking': 1, 'funny,': 1, 'Kiersten': 1, 'since': 1, 'A': 1, 'here.)': 1, 'lawyer,': 1, 'Travel': 1, 'ago': 1, 'Nomads': 1, 'I': 20, 'expert?': 1, 'gave': 1, 'there': 3, 'focuses': 3, 'her.': 1, 'photos,': 1, 'going': 2, 'and': 20, 'designer,': 1, 'this': 1, 'They': 2, 'but': 2, 'better,': 2, 'stories,': 1, 'moment': 1, 'targeted': 1, 'States.': 1, 'Jodi': 1, 'lie:': 1, 'ones': 1, 'smart,': 1, 'than': 1, 'be': 2, 'issues': 1, 'there.': 1, 'bit': 1, 'since.': 1, 'photographs.': 1, 'share': 1, 'also': 3, 'blog.': 1, 'are': 3, 'Legal': 1, 'Nadine': 2, 'see': 1, 'helped': 1, 'tips': 1, 'I’m': 4, 'Their': 1, 'humor.': 1, 'Abroad': 1, 'take': 3, 'what': 1, 'This': 1, 'fashion': 1, 'useful': 1, 'often': 1, 'puts': 1, 'Her': 1, 'Wanderland': 1, 'around': 1, 'She’s': 1, 'self-deprecating': 1, 'expert': 1, 'too': 1, 'experiences': 1, 'currently': 1, 'gives': 1, 'The': 2, 'practical': 1, 'little.': 1, '(they': 1, 'one': 3, 'with': 3, 'City': 1, 'food': 2, 'only': 1, 'it’s': 3, 'name,': 1, 'reason': 1, 'everywhere!': 1, 'they': 1, 'have': 1, 'great': 3, 'others.': 1, 'more': 1, 'her': 7, 'other': 1, 'people.': 1, 'simply': 1, 'advice': 2, 'documents': 1, 'counts.': 1, 'jealous': 1, 'realized': 1, 'Only': 2, 'many': 1, 'people': 1, 'series': 1, 'Hours”': 1, 'travel': 15, 'find': 1, 'highlight': 1, 'focus': 2, 'channels': 1, 'York': 1, 'me.': 1, 'biting': 1, 'Dan.': 1, 'make': 1, 'storytellers.': 1, 'pick': 1, 'women': 1, 'whereas': 1, 'seeing': 1, 'travel.': 1, 'incredible,': 1, 'awkward,': 1, 'there’s': 1, 'favorite': 2, 'corporate': 1, 'overseas': 1, 'last': 2, 'wear,': 1, 'watch!': 1, 'probably': 1, 'Photography?': 1, 'some': 2, 'Koh': 1, 'she': 2, 'zany,': 1, 'stories': 1, '“Thrillable': 1, 'style': 1, 'pretty': 1, 'turn': 1, 'we’ve': 1, 'photographer,': 1, 'grow': 1, 'blog': 4, 'travelers': 1, 'higher-end,': 1, 'roaming': 1, 'ever': 1, 'feel': 1, 'I’ve': 1, 'contest': 1, 'cheaper,': 1, 'destination': 1, 'writes': 2, 'help': 2, 'at': 1, 'intersection': 1, 'videos': 1, 'go': 1, 'woman?': 1, 'is': 3, 'road,': 1, 'seems': 1, 'blogs': 3, 'camera': 1, 'time': 1, 'Kiersten’s': 1, 'information': 1, 'Hey': 1, 'my': 3, 'fact': 1, 'manage': 1, 'Council).': 1, 'Sustainable': 1, 'Besides': 1, 'idea.': 1, 'hard': 2, 'site': 2, 'an': 1, 'Market': 1, '(You': 1, 'Family': 1, 'about': 4, 'Nadine’s': 1, 'read': 1, 'especially': 1, 'features': 1, 'bolts': 1, 'specialist': 1, 'them:': 1, 'Global': 1, 'lawyers': 1, 'There': 1, 'can': 2, 'been': 2, 'so.': 1, 'as': 2, 'Tao,': 1, 'me,': 1, 'Food': 1, 'she’s': 1, 'former': 1, 'female': 1, 'there,': 1, 'point': 1, 'while': 2, 'amazing': 1, 'culture.': 1, 'by': 1, 'popular': 1, 'shocking': 1, 'might': 1, 'ability': 1, 'on.': 1, 'talked': 1, 'Audrey': 1, 'Uncornered': 1, 'dive': 2, 'YouTube': 1, 'overdue': 1, 'tell': 2, 'for': 6, 'makes': 1, 'and,': 1, 'the': 18, 'places,': 1, 'hotels?': 1, 'UN': 1, 'devotes': 1, 'not': 5, 'Alex': 3}\n"
          ]
        }
      ]
    },
    {
      "cell_type": "code",
      "source": [
        "sorted_wordcount=dict(sorted(wordcount.items(), key=lambda x:x[1], reverse=True))\n",
        "print(sorted_wordcount)"
      ],
      "metadata": {
        "colab": {
          "base_uri": "https://localhost:8080/"
        },
        "id": "yQ1xwJoyiFMa",
        "outputId": "4adcd741-f688-4108-995b-a80650a84d22"
      },
      "execution_count": null,
      "outputs": [
        {
          "output_type": "stream",
          "name": "stdout",
          "text": [
            "{'I': 20, 'and': 20, 'the': 18, 'a': 15, 'travel': 15, 'to': 14, 'on': 13, '': 12, 'of': 10, 'her': 7, 'that': 6, 'for': 6, 'in': 5, 'not': 5, '—': 4, 'you': 4, 'out': 4, 'I’m': 4, 'blog': 4, 'about': 4, 'best': 3, 'She': 3, 'so': 3, 'there': 3, 'focuses': 3, 'also': 3, 'are': 3, 'take': 3, 'one': 3, 'with': 3, 'it’s': 3, 'great': 3, 'is': 3, 'blogs': 3, 'my': 3, 'Alex': 3, 'good': 2, 'work': 2, 'do': 2, 'lot': 2, 'think': 2, 'blogger': 2, 'would': 2, 'love': 2, 'vote': 2, 'who': 2, 'if': 2, 'it.': 2, 'being': 2, 'going': 2, 'They': 2, 'but': 2, 'better,': 2, 'be': 2, 'Nadine': 2, 'The': 2, 'food': 2, 'advice': 2, 'Only': 2, 'focus': 2, 'favorite': 2, 'last': 2, 'some': 2, 'she': 2, 'writes': 2, 'help': 2, 'hard': 2, 'site': 2, 'can': 2, 'been': 2, 'as': 2, 'while': 2, 'dive': 2, 'tell': 2, 'author': 1, 'Clueless.': 1, 'mouthwatering': 1, 'travels': 1, 'comfort': 1, 'smarter.': 1, 'you’re': 1, 'world.': 1, 'provide': 1, 'photos': 1, 'If': 1, 'road.': 1, 'years': 1, 'Tourism': 1, 'Blonde': 1, 'lover,': 1, 'There’s': 1, 'tips,': 1, 'Information': 1, 'friends,': 1, 'heartwarming': 1, 'cultural': 1, 'article': 1, 'was': 1, 'long': 1, 'Plus,': 1, 'sustainability': 1, 'diving': 1, 'over': 1, 'up': 1, 'wanted': 1, 'Then': 1, 'In': 1, 'blog,': 1, 'nerdy': 1, 'know': 1, 'entertaining': 1, 'eating': 1, 'all-time': 1, 'biggest': 1, 'friends': 1, 'world,': 1, 'expand,': 1, 'do.': 1, 'channel': 1, 'taking': 1, 'excellent': 1, 'New': 1, 'really': 1, 'lackey': 1, 'called': 1, 'even': 1, 'though': 1, 'nuts': 1, 'YouTube!': 1, 'out-of-this-world': 1, 'Sykora': 1, 'travel?': 1, 'graphic': 1, 'everyone': 1, 'pack,': 1, 'like': 1, 'me': 1, 'met': 1, 'life': 1, 'year.': 1, 'damn': 1, 'No': 1, 'filmmaking': 1, 'funny,': 1, 'Kiersten': 1, 'since': 1, 'A': 1, 'here.)': 1, 'lawyer,': 1, 'Travel': 1, 'ago': 1, 'Nomads': 1, 'expert?': 1, 'gave': 1, 'her.': 1, 'photos,': 1, 'designer,': 1, 'this': 1, 'stories,': 1, 'moment': 1, 'targeted': 1, 'States.': 1, 'Jodi': 1, 'lie:': 1, 'ones': 1, 'smart,': 1, 'than': 1, 'issues': 1, 'there.': 1, 'bit': 1, 'since.': 1, 'photographs.': 1, 'share': 1, 'blog.': 1, 'Legal': 1, 'see': 1, 'helped': 1, 'tips': 1, 'Their': 1, 'humor.': 1, 'Abroad': 1, 'what': 1, 'This': 1, 'fashion': 1, 'useful': 1, 'often': 1, 'puts': 1, 'Her': 1, 'Wanderland': 1, 'around': 1, 'She’s': 1, 'self-deprecating': 1, 'expert': 1, 'too': 1, 'experiences': 1, 'currently': 1, 'gives': 1, 'practical': 1, 'little.': 1, '(they': 1, 'City': 1, 'only': 1, 'name,': 1, 'reason': 1, 'everywhere!': 1, 'they': 1, 'have': 1, 'others.': 1, 'more': 1, 'other': 1, 'people.': 1, 'simply': 1, 'documents': 1, 'counts.': 1, 'jealous': 1, 'realized': 1, 'many': 1, 'people': 1, 'series': 1, 'Hours”': 1, 'find': 1, 'highlight': 1, 'channels': 1, 'York': 1, 'me.': 1, 'biting': 1, 'Dan.': 1, 'make': 1, 'storytellers.': 1, 'pick': 1, 'women': 1, 'whereas': 1, 'seeing': 1, 'travel.': 1, 'incredible,': 1, 'awkward,': 1, 'there’s': 1, 'corporate': 1, 'overseas': 1, 'wear,': 1, 'watch!': 1, 'probably': 1, 'Photography?': 1, 'Koh': 1, 'zany,': 1, 'stories': 1, '“Thrillable': 1, 'style': 1, 'pretty': 1, 'turn': 1, 'we’ve': 1, 'photographer,': 1, 'grow': 1, 'travelers': 1, 'higher-end,': 1, 'roaming': 1, 'ever': 1, 'feel': 1, 'I’ve': 1, 'contest': 1, 'cheaper,': 1, 'destination': 1, 'at': 1, 'intersection': 1, 'videos': 1, 'go': 1, 'woman?': 1, 'road,': 1, 'seems': 1, 'camera': 1, 'time': 1, 'Kiersten’s': 1, 'information': 1, 'Hey': 1, 'fact': 1, 'manage': 1, 'Council).': 1, 'Sustainable': 1, 'Besides': 1, 'idea.': 1, 'an': 1, 'Market': 1, '(You': 1, 'Family': 1, 'Nadine’s': 1, 'read': 1, 'especially': 1, 'features': 1, 'bolts': 1, 'specialist': 1, 'them:': 1, 'Global': 1, 'lawyers': 1, 'There': 1, 'so.': 1, 'Tao,': 1, 'me,': 1, 'Food': 1, 'she’s': 1, 'former': 1, 'female': 1, 'there,': 1, 'point': 1, 'amazing': 1, 'culture.': 1, 'by': 1, 'popular': 1, 'shocking': 1, 'might': 1, 'ability': 1, 'on.': 1, 'talked': 1, 'Audrey': 1, 'Uncornered': 1, 'YouTube': 1, 'overdue': 1, 'makes': 1, 'and,': 1, 'places,': 1, 'hotels?': 1, 'UN': 1, 'devotes': 1}\n"
          ]
        }
      ]
    },
    {
      "cell_type": "code",
      "source": [
        "# import matplotlib.pyplot as plt\n",
        "\n",
        "x_words=list(sorted_wordcount.keys())\n",
        "y_freq=list(sorted_wordcount.values())\n",
        "\n",
        "# plt.figsize=(15,10)\n",
        "# plt.bar(x_words, y_freq, tick_label=x_words)\n",
        "# plt.show()\n",
        "import plotly.express as px\n",
        "\n",
        "px.bar(x=x_words, y=y_freq)"
      ],
      "metadata": {
        "colab": {
          "base_uri": "https://localhost:8080/",
          "height": 542
        },
        "id": "GeqQzoYVtCBC",
        "outputId": "763b0142-0131-452d-9ce9-34d0cc2c8435"
      },
      "execution_count": null,
      "outputs": [
        {
          "output_type": "display_data",
          "data": {
            "text/html": [
              "<html>\n",
              "<head><meta charset=\"utf-8\" /></head>\n",
              "<body>\n",
              "    <div>            <script src=\"https://cdnjs.cloudflare.com/ajax/libs/mathjax/2.7.5/MathJax.js?config=TeX-AMS-MML_SVG\"></script><script type=\"text/javascript\">if (window.MathJax && window.MathJax.Hub && window.MathJax.Hub.Config) {window.MathJax.Hub.Config({SVG: {font: \"STIX-Web\"}});}</script>                <script type=\"text/javascript\">window.PlotlyConfig = {MathJaxConfig: 'local'};</script>\n",
              "        <script src=\"https://cdn.plot.ly/plotly-2.18.2.min.js\"></script>                <div id=\"dcc02ffa-3693-4c80-8f8e-28dd52c6a580\" class=\"plotly-graph-div\" style=\"height:525px; width:100%;\"></div>            <script type=\"text/javascript\">                                    window.PLOTLYENV=window.PLOTLYENV || {};                                    if (document.getElementById(\"dcc02ffa-3693-4c80-8f8e-28dd52c6a580\")) {                    Plotly.newPlot(                        \"dcc02ffa-3693-4c80-8f8e-28dd52c6a580\",                        [{\"alignmentgroup\":\"True\",\"hovertemplate\":\"x=%{x}<br>y=%{y}<extra></extra>\",\"legendgroup\":\"\",\"marker\":{\"color\":\"#636efa\",\"pattern\":{\"shape\":\"\"}},\"name\":\"\",\"offsetgroup\":\"\",\"orientation\":\"v\",\"showlegend\":false,\"textposition\":\"auto\",\"x\":[\"I\",\"and\",\"the\",\"a\",\"travel\",\"to\",\"on\",\"\",\"of\",\"her\",\"that\",\"for\",\"in\",\"not\",\"\\u2014\",\"you\",\"out\",\"I\\u2019m\",\"blog\",\"about\",\"best\",\"She\",\"so\",\"there\",\"focuses\",\"also\",\"are\",\"take\",\"one\",\"with\",\"it\\u2019s\",\"great\",\"is\",\"blogs\",\"my\",\"Alex\",\"good\",\"work\",\"do\",\"lot\",\"think\",\"blogger\",\"would\",\"love\",\"vote\",\"who\",\"if\",\"it.\",\"being\",\"going\",\"They\",\"but\",\"better,\",\"be\",\"Nadine\",\"The\",\"food\",\"advice\",\"Only\",\"focus\",\"favorite\",\"last\",\"some\",\"she\",\"writes\",\"help\",\"hard\",\"site\",\"can\",\"been\",\"as\",\"while\",\"dive\",\"tell\",\"author\",\"Clueless.\",\"mouthwatering\",\"travels\",\"comfort\",\"smarter.\",\"you\\u2019re\",\"world.\",\"provide\",\"photos\",\"If\",\"road.\",\"years\",\"Tourism\",\"Blonde\",\"lover,\",\"There\\u2019s\",\"tips,\",\"Information\",\"friends,\",\"heartwarming\",\"cultural\",\"article\",\"was\",\"long\",\"Plus,\",\"sustainability\",\"diving\",\"over\",\"up\",\"wanted\",\"Then\",\"In\",\"blog,\",\"nerdy\",\"know\",\"entertaining\",\"eating\",\"all-time\",\"biggest\",\"friends\",\"world,\",\"expand,\",\"do.\",\"channel\",\"taking\",\"excellent\",\"New\",\"really\",\"lackey\",\"called\",\"even\",\"though\",\"nuts\",\"YouTube!\",\"out-of-this-world\",\"Sykora\",\"travel?\",\"graphic\",\"everyone\",\"pack,\",\"like\",\"me\",\"met\",\"life\",\"year.\",\"damn\",\"No\",\"filmmaking\",\"funny,\",\"Kiersten\",\"since\",\"A\",\"here.)\",\"lawyer,\",\"Travel\",\"ago\",\"Nomads\",\"expert?\",\"gave\",\"her.\",\"photos,\",\"designer,\",\"this\",\"stories,\",\"moment\",\"targeted\",\"States.\",\"Jodi\",\"lie:\",\"ones\",\"smart,\",\"than\",\"issues\",\"there.\",\"bit\",\"since.\",\"photographs.\",\"share\",\"blog.\",\"Legal\",\"see\",\"helped\",\"tips\",\"Their\",\"humor.\",\"Abroad\",\"what\",\"This\",\"fashion\",\"useful\",\"often\",\"puts\",\"Her\",\"Wanderland\",\"around\",\"She\\u2019s\",\"self-deprecating\",\"expert\",\"too\",\"experiences\",\"currently\",\"gives\",\"practical\",\"little.\",\"(they\",\"City\",\"only\",\"name,\",\"reason\",\"everywhere!\",\"they\",\"have\",\"others.\",\"more\",\"other\",\"people.\",\"simply\",\"documents\",\"counts.\",\"jealous\",\"realized\",\"many\",\"people\",\"series\",\"Hours\\u201d\",\"find\",\"highlight\",\"channels\",\"York\",\"me.\",\"biting\",\"Dan.\",\"make\",\"storytellers.\",\"pick\",\"women\",\"whereas\",\"seeing\",\"travel.\",\"incredible,\",\"awkward,\",\"there\\u2019s\",\"corporate\",\"overseas\",\"wear,\",\"watch!\",\"probably\",\"Photography?\",\"Koh\",\"zany,\",\"stories\",\"\\u201cThrillable\",\"style\",\"pretty\",\"turn\",\"we\\u2019ve\",\"photographer,\",\"grow\",\"travelers\",\"higher-end,\",\"roaming\",\"ever\",\"feel\",\"I\\u2019ve\",\"contest\",\"cheaper,\",\"destination\",\"at\",\"intersection\",\"videos\",\"go\",\"woman?\",\"road,\",\"seems\",\"camera\",\"time\",\"Kiersten\\u2019s\",\"information\",\"Hey\",\"fact\",\"manage\",\"Council).\",\"Sustainable\",\"Besides\",\"idea.\",\"an\",\"Market\",\"(You\",\"Family\",\"Nadine\\u2019s\",\"read\",\"especially\",\"features\",\"bolts\",\"specialist\",\"them:\",\"Global\",\"lawyers\",\"There\",\"so.\",\"Tao,\",\"me,\",\"Food\",\"she\\u2019s\",\"former\",\"female\",\"there,\",\"point\",\"amazing\",\"culture.\",\"by\",\"popular\",\"shocking\",\"might\",\"ability\",\"on.\",\"talked\",\"Audrey\",\"Uncornered\",\"YouTube\",\"overdue\",\"makes\",\"and,\",\"places,\",\"hotels?\",\"UN\",\"devotes\"],\"xaxis\":\"x\",\"y\":[20,20,18,15,15,14,13,12,10,7,6,6,5,5,4,4,4,4,4,4,3,3,3,3,3,3,3,3,3,3,3,3,3,3,3,3,2,2,2,2,2,2,2,2,2,2,2,2,2,2,2,2,2,2,2,2,2,2,2,2,2,2,2,2,2,2,2,2,2,2,2,2,2,2,1,1,1,1,1,1,1,1,1,1,1,1,1,1,1,1,1,1,1,1,1,1,1,1,1,1,1,1,1,1,1,1,1,1,1,1,1,1,1,1,1,1,1,1,1,1,1,1,1,1,1,1,1,1,1,1,1,1,1,1,1,1,1,1,1,1,1,1,1,1,1,1,1,1,1,1,1,1,1,1,1,1,1,1,1,1,1,1,1,1,1,1,1,1,1,1,1,1,1,1,1,1,1,1,1,1,1,1,1,1,1,1,1,1,1,1,1,1,1,1,1,1,1,1,1,1,1,1,1,1,1,1,1,1,1,1,1,1,1,1,1,1,1,1,1,1,1,1,1,1,1,1,1,1,1,1,1,1,1,1,1,1,1,1,1,1,1,1,1,1,1,1,1,1,1,1,1,1,1,1,1,1,1,1,1,1,1,1,1,1,1,1,1,1,1,1,1,1,1,1,1,1,1,1,1,1,1,1,1,1,1,1,1,1,1,1,1,1,1,1,1,1,1,1,1,1,1,1,1,1,1,1,1,1,1,1,1,1,1,1,1,1,1,1,1,1,1,1],\"yaxis\":\"y\",\"type\":\"bar\"}],                        {\"template\":{\"data\":{\"histogram2dcontour\":[{\"type\":\"histogram2dcontour\",\"colorbar\":{\"outlinewidth\":0,\"ticks\":\"\"},\"colorscale\":[[0.0,\"#0d0887\"],[0.1111111111111111,\"#46039f\"],[0.2222222222222222,\"#7201a8\"],[0.3333333333333333,\"#9c179e\"],[0.4444444444444444,\"#bd3786\"],[0.5555555555555556,\"#d8576b\"],[0.6666666666666666,\"#ed7953\"],[0.7777777777777778,\"#fb9f3a\"],[0.8888888888888888,\"#fdca26\"],[1.0,\"#f0f921\"]]}],\"choropleth\":[{\"type\":\"choropleth\",\"colorbar\":{\"outlinewidth\":0,\"ticks\":\"\"}}],\"histogram2d\":[{\"type\":\"histogram2d\",\"colorbar\":{\"outlinewidth\":0,\"ticks\":\"\"},\"colorscale\":[[0.0,\"#0d0887\"],[0.1111111111111111,\"#46039f\"],[0.2222222222222222,\"#7201a8\"],[0.3333333333333333,\"#9c179e\"],[0.4444444444444444,\"#bd3786\"],[0.5555555555555556,\"#d8576b\"],[0.6666666666666666,\"#ed7953\"],[0.7777777777777778,\"#fb9f3a\"],[0.8888888888888888,\"#fdca26\"],[1.0,\"#f0f921\"]]}],\"heatmap\":[{\"type\":\"heatmap\",\"colorbar\":{\"outlinewidth\":0,\"ticks\":\"\"},\"colorscale\":[[0.0,\"#0d0887\"],[0.1111111111111111,\"#46039f\"],[0.2222222222222222,\"#7201a8\"],[0.3333333333333333,\"#9c179e\"],[0.4444444444444444,\"#bd3786\"],[0.5555555555555556,\"#d8576b\"],[0.6666666666666666,\"#ed7953\"],[0.7777777777777778,\"#fb9f3a\"],[0.8888888888888888,\"#fdca26\"],[1.0,\"#f0f921\"]]}],\"heatmapgl\":[{\"type\":\"heatmapgl\",\"colorbar\":{\"outlinewidth\":0,\"ticks\":\"\"},\"colorscale\":[[0.0,\"#0d0887\"],[0.1111111111111111,\"#46039f\"],[0.2222222222222222,\"#7201a8\"],[0.3333333333333333,\"#9c179e\"],[0.4444444444444444,\"#bd3786\"],[0.5555555555555556,\"#d8576b\"],[0.6666666666666666,\"#ed7953\"],[0.7777777777777778,\"#fb9f3a\"],[0.8888888888888888,\"#fdca26\"],[1.0,\"#f0f921\"]]}],\"contourcarpet\":[{\"type\":\"contourcarpet\",\"colorbar\":{\"outlinewidth\":0,\"ticks\":\"\"}}],\"contour\":[{\"type\":\"contour\",\"colorbar\":{\"outlinewidth\":0,\"ticks\":\"\"},\"colorscale\":[[0.0,\"#0d0887\"],[0.1111111111111111,\"#46039f\"],[0.2222222222222222,\"#7201a8\"],[0.3333333333333333,\"#9c179e\"],[0.4444444444444444,\"#bd3786\"],[0.5555555555555556,\"#d8576b\"],[0.6666666666666666,\"#ed7953\"],[0.7777777777777778,\"#fb9f3a\"],[0.8888888888888888,\"#fdca26\"],[1.0,\"#f0f921\"]]}],\"surface\":[{\"type\":\"surface\",\"colorbar\":{\"outlinewidth\":0,\"ticks\":\"\"},\"colorscale\":[[0.0,\"#0d0887\"],[0.1111111111111111,\"#46039f\"],[0.2222222222222222,\"#7201a8\"],[0.3333333333333333,\"#9c179e\"],[0.4444444444444444,\"#bd3786\"],[0.5555555555555556,\"#d8576b\"],[0.6666666666666666,\"#ed7953\"],[0.7777777777777778,\"#fb9f3a\"],[0.8888888888888888,\"#fdca26\"],[1.0,\"#f0f921\"]]}],\"mesh3d\":[{\"type\":\"mesh3d\",\"colorbar\":{\"outlinewidth\":0,\"ticks\":\"\"}}],\"scatter\":[{\"fillpattern\":{\"fillmode\":\"overlay\",\"size\":10,\"solidity\":0.2},\"type\":\"scatter\"}],\"parcoords\":[{\"type\":\"parcoords\",\"line\":{\"colorbar\":{\"outlinewidth\":0,\"ticks\":\"\"}}}],\"scatterpolargl\":[{\"type\":\"scatterpolargl\",\"marker\":{\"colorbar\":{\"outlinewidth\":0,\"ticks\":\"\"}}}],\"bar\":[{\"error_x\":{\"color\":\"#2a3f5f\"},\"error_y\":{\"color\":\"#2a3f5f\"},\"marker\":{\"line\":{\"color\":\"#E5ECF6\",\"width\":0.5},\"pattern\":{\"fillmode\":\"overlay\",\"size\":10,\"solidity\":0.2}},\"type\":\"bar\"}],\"scattergeo\":[{\"type\":\"scattergeo\",\"marker\":{\"colorbar\":{\"outlinewidth\":0,\"ticks\":\"\"}}}],\"scatterpolar\":[{\"type\":\"scatterpolar\",\"marker\":{\"colorbar\":{\"outlinewidth\":0,\"ticks\":\"\"}}}],\"histogram\":[{\"marker\":{\"pattern\":{\"fillmode\":\"overlay\",\"size\":10,\"solidity\":0.2}},\"type\":\"histogram\"}],\"scattergl\":[{\"type\":\"scattergl\",\"marker\":{\"colorbar\":{\"outlinewidth\":0,\"ticks\":\"\"}}}],\"scatter3d\":[{\"type\":\"scatter3d\",\"line\":{\"colorbar\":{\"outlinewidth\":0,\"ticks\":\"\"}},\"marker\":{\"colorbar\":{\"outlinewidth\":0,\"ticks\":\"\"}}}],\"scattermapbox\":[{\"type\":\"scattermapbox\",\"marker\":{\"colorbar\":{\"outlinewidth\":0,\"ticks\":\"\"}}}],\"scatterternary\":[{\"type\":\"scatterternary\",\"marker\":{\"colorbar\":{\"outlinewidth\":0,\"ticks\":\"\"}}}],\"scattercarpet\":[{\"type\":\"scattercarpet\",\"marker\":{\"colorbar\":{\"outlinewidth\":0,\"ticks\":\"\"}}}],\"carpet\":[{\"aaxis\":{\"endlinecolor\":\"#2a3f5f\",\"gridcolor\":\"white\",\"linecolor\":\"white\",\"minorgridcolor\":\"white\",\"startlinecolor\":\"#2a3f5f\"},\"baxis\":{\"endlinecolor\":\"#2a3f5f\",\"gridcolor\":\"white\",\"linecolor\":\"white\",\"minorgridcolor\":\"white\",\"startlinecolor\":\"#2a3f5f\"},\"type\":\"carpet\"}],\"table\":[{\"cells\":{\"fill\":{\"color\":\"#EBF0F8\"},\"line\":{\"color\":\"white\"}},\"header\":{\"fill\":{\"color\":\"#C8D4E3\"},\"line\":{\"color\":\"white\"}},\"type\":\"table\"}],\"barpolar\":[{\"marker\":{\"line\":{\"color\":\"#E5ECF6\",\"width\":0.5},\"pattern\":{\"fillmode\":\"overlay\",\"size\":10,\"solidity\":0.2}},\"type\":\"barpolar\"}],\"pie\":[{\"automargin\":true,\"type\":\"pie\"}]},\"layout\":{\"autotypenumbers\":\"strict\",\"colorway\":[\"#636efa\",\"#EF553B\",\"#00cc96\",\"#ab63fa\",\"#FFA15A\",\"#19d3f3\",\"#FF6692\",\"#B6E880\",\"#FF97FF\",\"#FECB52\"],\"font\":{\"color\":\"#2a3f5f\"},\"hovermode\":\"closest\",\"hoverlabel\":{\"align\":\"left\"},\"paper_bgcolor\":\"white\",\"plot_bgcolor\":\"#E5ECF6\",\"polar\":{\"bgcolor\":\"#E5ECF6\",\"angularaxis\":{\"gridcolor\":\"white\",\"linecolor\":\"white\",\"ticks\":\"\"},\"radialaxis\":{\"gridcolor\":\"white\",\"linecolor\":\"white\",\"ticks\":\"\"}},\"ternary\":{\"bgcolor\":\"#E5ECF6\",\"aaxis\":{\"gridcolor\":\"white\",\"linecolor\":\"white\",\"ticks\":\"\"},\"baxis\":{\"gridcolor\":\"white\",\"linecolor\":\"white\",\"ticks\":\"\"},\"caxis\":{\"gridcolor\":\"white\",\"linecolor\":\"white\",\"ticks\":\"\"}},\"coloraxis\":{\"colorbar\":{\"outlinewidth\":0,\"ticks\":\"\"}},\"colorscale\":{\"sequential\":[[0.0,\"#0d0887\"],[0.1111111111111111,\"#46039f\"],[0.2222222222222222,\"#7201a8\"],[0.3333333333333333,\"#9c179e\"],[0.4444444444444444,\"#bd3786\"],[0.5555555555555556,\"#d8576b\"],[0.6666666666666666,\"#ed7953\"],[0.7777777777777778,\"#fb9f3a\"],[0.8888888888888888,\"#fdca26\"],[1.0,\"#f0f921\"]],\"sequentialminus\":[[0.0,\"#0d0887\"],[0.1111111111111111,\"#46039f\"],[0.2222222222222222,\"#7201a8\"],[0.3333333333333333,\"#9c179e\"],[0.4444444444444444,\"#bd3786\"],[0.5555555555555556,\"#d8576b\"],[0.6666666666666666,\"#ed7953\"],[0.7777777777777778,\"#fb9f3a\"],[0.8888888888888888,\"#fdca26\"],[1.0,\"#f0f921\"]],\"diverging\":[[0,\"#8e0152\"],[0.1,\"#c51b7d\"],[0.2,\"#de77ae\"],[0.3,\"#f1b6da\"],[0.4,\"#fde0ef\"],[0.5,\"#f7f7f7\"],[0.6,\"#e6f5d0\"],[0.7,\"#b8e186\"],[0.8,\"#7fbc41\"],[0.9,\"#4d9221\"],[1,\"#276419\"]]},\"xaxis\":{\"gridcolor\":\"white\",\"linecolor\":\"white\",\"ticks\":\"\",\"title\":{\"standoff\":15},\"zerolinecolor\":\"white\",\"automargin\":true,\"zerolinewidth\":2},\"yaxis\":{\"gridcolor\":\"white\",\"linecolor\":\"white\",\"ticks\":\"\",\"title\":{\"standoff\":15},\"zerolinecolor\":\"white\",\"automargin\":true,\"zerolinewidth\":2},\"scene\":{\"xaxis\":{\"backgroundcolor\":\"#E5ECF6\",\"gridcolor\":\"white\",\"linecolor\":\"white\",\"showbackground\":true,\"ticks\":\"\",\"zerolinecolor\":\"white\",\"gridwidth\":2},\"yaxis\":{\"backgroundcolor\":\"#E5ECF6\",\"gridcolor\":\"white\",\"linecolor\":\"white\",\"showbackground\":true,\"ticks\":\"\",\"zerolinecolor\":\"white\",\"gridwidth\":2},\"zaxis\":{\"backgroundcolor\":\"#E5ECF6\",\"gridcolor\":\"white\",\"linecolor\":\"white\",\"showbackground\":true,\"ticks\":\"\",\"zerolinecolor\":\"white\",\"gridwidth\":2}},\"shapedefaults\":{\"line\":{\"color\":\"#2a3f5f\"}},\"annotationdefaults\":{\"arrowcolor\":\"#2a3f5f\",\"arrowhead\":0,\"arrowwidth\":1},\"geo\":{\"bgcolor\":\"white\",\"landcolor\":\"#E5ECF6\",\"subunitcolor\":\"white\",\"showland\":true,\"showlakes\":true,\"lakecolor\":\"white\"},\"title\":{\"x\":0.05},\"mapbox\":{\"style\":\"light\"}}},\"xaxis\":{\"anchor\":\"y\",\"domain\":[0.0,1.0],\"title\":{\"text\":\"x\"}},\"yaxis\":{\"anchor\":\"x\",\"domain\":[0.0,1.0],\"title\":{\"text\":\"y\"}},\"legend\":{\"tracegroupgap\":0},\"margin\":{\"t\":60},\"barmode\":\"relative\"},                        {\"responsive\": true}                    ).then(function(){\n",
              "                            \n",
              "var gd = document.getElementById('dcc02ffa-3693-4c80-8f8e-28dd52c6a580');\n",
              "var x = new MutationObserver(function (mutations, observer) {{\n",
              "        var display = window.getComputedStyle(gd).display;\n",
              "        if (!display || display === 'none') {{\n",
              "            console.log([gd, 'removed!']);\n",
              "            Plotly.purge(gd);\n",
              "            observer.disconnect();\n",
              "        }}\n",
              "}});\n",
              "\n",
              "// Listen for the removal of the full notebook cells\n",
              "var notebookContainer = gd.closest('#notebook-container');\n",
              "if (notebookContainer) {{\n",
              "    x.observe(notebookContainer, {childList: true});\n",
              "}}\n",
              "\n",
              "// Listen for the clearing of the current output cell\n",
              "var outputEl = gd.closest('.output');\n",
              "if (outputEl) {{\n",
              "    x.observe(outputEl, {childList: true});\n",
              "}}\n",
              "\n",
              "                        })                };                            </script>        </div>\n",
              "</body>\n",
              "</html>"
            ]
          },
          "metadata": {}
        }
      ]
    }
  ]
}