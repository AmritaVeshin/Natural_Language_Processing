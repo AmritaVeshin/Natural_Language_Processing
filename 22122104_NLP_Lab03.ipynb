{
  "nbformat": 4,
  "nbformat_minor": 0,
  "metadata": {
    "colab": {
      "provenance": []
    },
    "kernelspec": {
      "name": "python3",
      "display_name": "Python 3"
    },
    "language_info": {
      "name": "python"
    }
  },
  "cells": [
    {
      "cell_type": "markdown",
      "source": [
        "__Name:__ Amrita Veshin <br>\n",
        "__Register Number:__ 22122104\n",
        "\n",
        "-------------------------------------------------------------------------------------------------\n",
        "# <center> NLP Lab03: Tokenizing and Counting Frequency for Non-English Languages\n",
        "-------------------------------------------------------------------------------------------------\n"
      ],
      "metadata": {
        "id": "4nb4JqLDMYgX"
      }
    },
    {
      "cell_type": "code",
      "source": [
        "#Install necessary libraries if not already installed\n",
        "\n",
        "!pip install nltk\n",
        "!pip install indic-nlp-library\n",
        "!pip install tabulate\n",
        "!pip install prettytable"
      ],
      "metadata": {
        "colab": {
          "base_uri": "https://localhost:8080/"
        },
        "id": "Qvcn8lZDNSUD",
        "outputId": "6c5d9301-f028-4161-852f-a1ccc4e1beec"
      },
      "execution_count": null,
      "outputs": [
        {
          "output_type": "stream",
          "name": "stdout",
          "text": [
            "Requirement already satisfied: nltk in /usr/local/lib/python3.10/dist-packages (3.8.1)\n",
            "Requirement already satisfied: click in /usr/local/lib/python3.10/dist-packages (from nltk) (8.1.7)\n",
            "Requirement already satisfied: joblib in /usr/local/lib/python3.10/dist-packages (from nltk) (1.3.2)\n",
            "Requirement already satisfied: regex>=2021.8.3 in /usr/local/lib/python3.10/dist-packages (from nltk) (2023.6.3)\n",
            "Requirement already satisfied: tqdm in /usr/local/lib/python3.10/dist-packages (from nltk) (4.66.1)\n",
            "Requirement already satisfied: indic-nlp-library in /usr/local/lib/python3.10/dist-packages (0.92)\n",
            "Requirement already satisfied: sphinx-argparse in /usr/local/lib/python3.10/dist-packages (from indic-nlp-library) (0.4.0)\n",
            "Requirement already satisfied: sphinx-rtd-theme in /usr/local/lib/python3.10/dist-packages (from indic-nlp-library) (1.3.0)\n",
            "Requirement already satisfied: morfessor in /usr/local/lib/python3.10/dist-packages (from indic-nlp-library) (2.0.6)\n",
            "Requirement already satisfied: pandas in /usr/local/lib/python3.10/dist-packages (from indic-nlp-library) (1.5.3)\n",
            "Requirement already satisfied: numpy in /usr/local/lib/python3.10/dist-packages (from indic-nlp-library) (1.23.5)\n",
            "Requirement already satisfied: python-dateutil>=2.8.1 in /usr/local/lib/python3.10/dist-packages (from pandas->indic-nlp-library) (2.8.2)\n",
            "Requirement already satisfied: pytz>=2020.1 in /usr/local/lib/python3.10/dist-packages (from pandas->indic-nlp-library) (2023.3.post1)\n",
            "Requirement already satisfied: sphinx>=1.2.0 in /usr/local/lib/python3.10/dist-packages (from sphinx-argparse->indic-nlp-library) (5.0.2)\n",
            "Requirement already satisfied: docutils<0.19 in /usr/local/lib/python3.10/dist-packages (from sphinx-rtd-theme->indic-nlp-library) (0.18.1)\n",
            "Requirement already satisfied: sphinxcontrib-jquery<5,>=4 in /usr/local/lib/python3.10/dist-packages (from sphinx-rtd-theme->indic-nlp-library) (4.1)\n",
            "Requirement already satisfied: six>=1.5 in /usr/local/lib/python3.10/dist-packages (from python-dateutil>=2.8.1->pandas->indic-nlp-library) (1.16.0)\n",
            "Requirement already satisfied: sphinxcontrib-applehelp in /usr/local/lib/python3.10/dist-packages (from sphinx>=1.2.0->sphinx-argparse->indic-nlp-library) (1.0.7)\n",
            "Requirement already satisfied: sphinxcontrib-devhelp in /usr/local/lib/python3.10/dist-packages (from sphinx>=1.2.0->sphinx-argparse->indic-nlp-library) (1.0.5)\n",
            "Requirement already satisfied: sphinxcontrib-jsmath in /usr/local/lib/python3.10/dist-packages (from sphinx>=1.2.0->sphinx-argparse->indic-nlp-library) (1.0.1)\n",
            "Requirement already satisfied: sphinxcontrib-htmlhelp>=2.0.0 in /usr/local/lib/python3.10/dist-packages (from sphinx>=1.2.0->sphinx-argparse->indic-nlp-library) (2.0.4)\n",
            "Requirement already satisfied: sphinxcontrib-serializinghtml>=1.1.5 in /usr/local/lib/python3.10/dist-packages (from sphinx>=1.2.0->sphinx-argparse->indic-nlp-library) (1.1.9)\n",
            "Requirement already satisfied: sphinxcontrib-qthelp in /usr/local/lib/python3.10/dist-packages (from sphinx>=1.2.0->sphinx-argparse->indic-nlp-library) (1.0.6)\n",
            "Requirement already satisfied: Jinja2>=2.3 in /usr/local/lib/python3.10/dist-packages (from sphinx>=1.2.0->sphinx-argparse->indic-nlp-library) (3.1.2)\n",
            "Requirement already satisfied: Pygments>=2.0 in /usr/local/lib/python3.10/dist-packages (from sphinx>=1.2.0->sphinx-argparse->indic-nlp-library) (2.16.1)\n",
            "Requirement already satisfied: snowballstemmer>=1.1 in /usr/local/lib/python3.10/dist-packages (from sphinx>=1.2.0->sphinx-argparse->indic-nlp-library) (2.2.0)\n",
            "Requirement already satisfied: babel>=1.3 in /usr/local/lib/python3.10/dist-packages (from sphinx>=1.2.0->sphinx-argparse->indic-nlp-library) (2.12.1)\n",
            "Requirement already satisfied: alabaster<0.8,>=0.7 in /usr/local/lib/python3.10/dist-packages (from sphinx>=1.2.0->sphinx-argparse->indic-nlp-library) (0.7.13)\n",
            "Requirement already satisfied: imagesize in /usr/local/lib/python3.10/dist-packages (from sphinx>=1.2.0->sphinx-argparse->indic-nlp-library) (1.4.1)\n",
            "Requirement already satisfied: requests>=2.5.0 in /usr/local/lib/python3.10/dist-packages (from sphinx>=1.2.0->sphinx-argparse->indic-nlp-library) (2.31.0)\n",
            "Requirement already satisfied: packaging in /usr/local/lib/python3.10/dist-packages (from sphinx>=1.2.0->sphinx-argparse->indic-nlp-library) (23.1)\n",
            "Requirement already satisfied: MarkupSafe>=2.0 in /usr/local/lib/python3.10/dist-packages (from Jinja2>=2.3->sphinx>=1.2.0->sphinx-argparse->indic-nlp-library) (2.1.3)\n",
            "Requirement already satisfied: charset-normalizer<4,>=2 in /usr/local/lib/python3.10/dist-packages (from requests>=2.5.0->sphinx>=1.2.0->sphinx-argparse->indic-nlp-library) (3.2.0)\n",
            "Requirement already satisfied: idna<4,>=2.5 in /usr/local/lib/python3.10/dist-packages (from requests>=2.5.0->sphinx>=1.2.0->sphinx-argparse->indic-nlp-library) (3.4)\n",
            "Requirement already satisfied: urllib3<3,>=1.21.1 in /usr/local/lib/python3.10/dist-packages (from requests>=2.5.0->sphinx>=1.2.0->sphinx-argparse->indic-nlp-library) (2.0.4)\n",
            "Requirement already satisfied: certifi>=2017.4.17 in /usr/local/lib/python3.10/dist-packages (from requests>=2.5.0->sphinx>=1.2.0->sphinx-argparse->indic-nlp-library) (2023.7.22)\n",
            "Requirement already satisfied: tabulate in /usr/local/lib/python3.10/dist-packages (0.9.0)\n",
            "Requirement already satisfied: prettytable in /usr/local/lib/python3.10/dist-packages (3.8.0)\n",
            "Requirement already satisfied: wcwidth in /usr/local/lib/python3.10/dist-packages (from prettytable) (0.2.6)\n"
          ]
        }
      ]
    },
    {
      "cell_type": "code",
      "source": [
        "import nltk\n",
        "from nltk.tokenize import word_tokenize\n",
        "from nltk.probability import FreqDist\n",
        "from indicnlp.tokenize import indic_tokenize\n",
        "from tabulate import tabulate\n",
        "from prettytable import PrettyTable"
      ],
      "metadata": {
        "id": "PQoEa9W3NZmv"
      },
      "execution_count": null,
      "outputs": []
    },
    {
      "cell_type": "code",
      "source": [
        "# Example: Loading Hindi text data from a file\n",
        "hindi_text = \"\"\"\n",
        "    राजस्थान के जयपुर के रहने वाले अनिल थडानी ने ‘कृषि’ विषय में अपनी मास्टर्स डिग्री पूरी की है, जिसके बाद उन्होंने विवेकानंद ग्लोबल यूनिवर्सिटी में बतौर असिस्टेंट प्रोफेसर, एक साल तक काम किया और फिर नौकरी छोड़कर अपनी नर्सरी, ‘पौधशालम‘ की शुरुआत की और हाइड्रोपोनिक फार्मिंग सिखाने के साथ-साथ, किसानों को जैविक खेती (Organic Farming) पर परामर्श देने का काम भी कर रहे हैं।\n",
        "\n",
        "पढ़ाई के बाद, साल 2018 में वह अपने शहर जयपुर आ गए और यहाँ यूनिवर्सिटी में पढ़ाने लगे। इसके साथ ही, वह खेती का भी काम देखने लगे। अनिल आस-पास के गांवों में किसानों से मिलते और उन्हें जैविक खेती के तरीके सिखाते थे। वह बताते हैं, “लगभग एक साल की नौकरी में ही मुझे समझ में आ गया कि मैं ज़मीनी स्तर पर काम करना चाहता हूँ।”\n",
        "\n",
        "साल 2020 में अनिल ने अपनी नौकरी छोड़ दी और अपने घर की छत से अपनी नर्सरी का काम शुरू किया और इस काम में उन्होंने लगभग 14,000 रुपये का निवेश किया। उन्होंने अपनी पढ़ाई के दौरान, जैविक तरीकों से अलग-अलग तरह की खाद, पोषक घोल, पॉटिंग मिक्स बनाना सीखा था। आज अपनी नर्सरी और किसानों के लिए वह वैज्ञानिक तरीकों से जैविक खाद और उर्वरक तैयार करते हैं।\n",
        "\n",
        "\n",
        "नर्सरी के साथ, वह लोगों के घरों में अलग-अलग तरह के गार्डन, जैसे- हाइड्रोपोनिक, वर्टिकल, टेरेस गार्डन लगाने की सर्विस भी दे रहे हैं।\n",
        "\n",
        "अनिल अब तक कई घरों में हाइड्रोपोनिक सेटअप, वर्टिकल और टेरेस गार्डन लगा चुके हैं। वह इनकी देख-रेख के लिए समय-समय पर जाते भी रहते हैं।\n",
        "\n",
        "हाइड्रोपोनिक फार्मिंग और गार्डनिंग में करते हैं लोगों की मदद\n",
        "\n",
        "अनिल का मानना है कि टेरेस गार्डन में हाइड्रोपोनिक सेटअप करके आप अपने परिवार के लिए बिना मिट्टी की झंझट के ऑर्गेनिक सब्जियां उगा सकते हैं। साथ ही साथ अगर आप चाहें, तो इससे एक छोटा सा बिज़नेस भी शुरू कर सकते हैं।\n",
        "\n",
        "एक गृहिणी हो या रिटायर इंसान, छोटे से थर्माकोल के बॉक्स में प्रयोग करके इसकी शुरुआत की जा सकती है। इस तरह आप अपने परिवार के साथ-साथ, जैविक सब्जियां अपने दोस्तों और पड़ोसियों को भी खिला सकते हैं।\n",
        "\n",
        "संपादनः अर्चना दुबे\n",
        "\"\"\"\n"
      ],
      "metadata": {
        "id": "8kefjUXqNsi6"
      },
      "execution_count": null,
      "outputs": []
    },
    {
      "cell_type": "code",
      "source": [
        "\n",
        "# Tokenize the Hindi text\n",
        "hindi_tokens = indic_tokenize.trivial_tokenize(hindi_text)\n",
        "\n",
        "# Calculate word frequencies\n",
        "word_freq = FreqDist(hindi_tokens)\n",
        "\n",
        "# Display the most common words and their frequencies in a table\n",
        "most_common_words = word_freq.most_common(10)  # Change the number as needed\n",
        "\n",
        "# Create a PrettyTable\n",
        "table = PrettyTable()\n",
        "table.field_names = [\"Word\", \"Frequency\"]\n",
        "\n",
        "# Add data to the table\n",
        "for word, freq in most_common_words:\n",
        "    table.add_row([word, freq])\n",
        "\n",
        "# Print the table\n",
        "print(table)\n"
      ],
      "metadata": {
        "colab": {
          "base_uri": "https://localhost:8080/"
        },
        "id": "vII0vuFMPBtj",
        "outputId": "471714e0-c507-44e3-be51-38d6598ddae1"
      },
      "execution_count": null,
      "outputs": [
        {
          "output_type": "stream",
          "name": "stdout",
          "text": [
            "+------+-----------+\n",
            "| Word | Frequency |\n",
            "+------+-----------+\n",
            "|  ,   |     18    |\n",
            "|  के   |     16    |\n",
            "|  ।   |     15    |\n",
            "|  में   |     14    |\n",
            "|  और  |     11    |\n",
            "|  की  |     10    |\n",
            "|  हैं   |     10    |\n",
            "| साथ  |     8     |\n",
            "|  -   |     8     |\n",
            "| अपनी |     6     |\n",
            "+------+-----------+\n"
          ]
        }
      ]
    },
    {
      "cell_type": "code",
      "source": [
        "# Create a PrettyTable for tokens with additional details\n",
        "token_table = PrettyTable()\n",
        "token_table.field_names = [\"Token\", \"Position\", \"Length\"]\n",
        "\n",
        "# Add tokens and details to the table\n",
        "for position, token in enumerate(hindi_tokens, start=1):\n",
        "    token_table.add_row([token, position, len(token)])\n",
        "\n",
        "# Print the token table\n",
        "print(token_table)"
      ],
      "metadata": {
        "colab": {
          "base_uri": "https://localhost:8080/"
        },
        "id": "m3H2-k-PVnqe",
        "outputId": "22112521-45e2-4234-adad-291a1030a31b"
      },
      "execution_count": null,
      "outputs": [
        {
          "output_type": "stream",
          "name": "stdout",
          "text": [
            "+---------+----------+--------+\n",
            "|  Token  | Position | Length |\n",
            "+---------+----------+--------+\n",
            "|         |    1     |   1    |\n",
            "|         |          |        |\n",
            "|    '    |    2     |   1    |\n",
            "|   हिंदी  |    3     |   5    |\n",
            "|    '    |    4     |   1    |\n",
            "|  भारतीय |    5     |   6    |\n",
            "|  गणराज  |    6     |   5    |\n",
            "|    की   |    7     |   2    |\n",
            "|  राजकीय |    8     |   6    |\n",
            "|    और   |    9     |   2    |\n",
            "|   मध्य   |    10    |   4    |\n",
            "|  भारतीय |    11    |   6    |\n",
            "|    -    |    12    |   1    |\n",
            "|   आर्य   |    13    |   4    |\n",
            "|   भाषा  |    14    |   4    |\n",
            "|    है    |    15    |   2    |\n",
            "|    ।    |    16    |   1    |\n",
            "|         |    17    |   1    |\n",
            "|         |          |        |\n",
            "|   हिंदी  |    18    |   5    |\n",
            "|   शब्द   |    19    |   4    |\n",
            "|    की   |    20    |   2    |\n",
            "| व्युत्पत्ति |    21    |   11   |\n",
            "|   संस्कृत  |    22    |   7    |\n",
            "|   शब्द   |    23    |   4    |\n",
            "|   सिन्धु  |    24    |   6    |\n",
            "|    से    |    25    |   2    |\n",
            "|   मानी  |    26    |   4    |\n",
            "|   जाती  |    27    |   4    |\n",
            "|    है    |    28    |   2    |\n",
            "|    ।    |    29    |   1    |\n",
            "|         |    30    |   1    |\n",
            "|         |          |        |\n",
            "|    सन्   |    31    |   3    |\n",
            "|   2001  |    32    |   4    |\n",
            "|    की   |    33    |   2    |\n",
            "|  जनगणना |    34    |   6    |\n",
            "|    के    |    35    |   2    |\n",
            "|  अनुसार  |    36    |   6    |\n",
            "|    ,    |    37    |   1    |\n",
            "|   लगभग  |    38    |   4    |\n",
            "|  25.79  |    39    |   5    |\n",
            "|   करोड़  |    40    |   5    |\n",
            "|  भारतीय |    41    |   6    |\n",
            "|   हिंदी  |    42    |   5    |\n",
            "|    का   |    43    |   2    |\n",
            "|  उपयोग  |    44    |   5    |\n",
            "| मातृभाषा |    45    |   8    |\n",
            "|    के    |    46    |   2    |\n",
            "|    रूप   |    47    |   3    |\n",
            "|    में    |    48    |   3    |\n",
            "|   करते   |    49    |   4    |\n",
            "|    हैं    |    50    |   3    |\n",
            "|    ,    |    51    |   1    |\n",
            "|   जबकि  |    52    |   4    |\n",
            "|   लगभग  |    53    |   4    |\n",
            "|  42.20  |    54    |   5    |\n",
            "|   करोड़  |    55    |   5    |\n",
            "|   लोग   |    56    |   3    |\n",
            "|   इसकी  |    57    |   4    |\n",
            "|    50   |    58    |   2    |\n",
            "|    से    |    59    |   2    |\n",
            "|   अधिक  |    60    |   4    |\n",
            "|  बोलियों |    61    |   7    |\n",
            "|    में    |    62    |   3    |\n",
            "|    से    |    63    |   2    |\n",
            "|    एक   |    64    |   2    |\n",
            "|  इस्तेमाल |    65    |   8    |\n",
            "|   करते   |    66    |   4    |\n",
            "|    हैं    |    67    |   3    |\n",
            "|    ।    |    68    |   1    |\n",
            "|         |    69    |   1    |\n",
            "|         |          |        |\n",
            "+---------+----------+--------+\n"
          ]
        }
      ]
    },
    {
      "cell_type": "code",
      "source": [],
      "metadata": {
        "id": "q4wIfLyIVprB"
      },
      "execution_count": null,
      "outputs": []
    }
  ]
}